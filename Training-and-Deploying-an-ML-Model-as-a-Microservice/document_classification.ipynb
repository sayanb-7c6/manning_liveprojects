{
  "nbformat": 4,
  "nbformat_minor": 0,
  "metadata": {
    "colab": {
      "name": "document classification.ipynb",
      "provenance": [],
      "collapsed_sections": []
    },
    "kernelspec": {
      "name": "python3",
      "display_name": "Python 3"
    }
  },
  "cells": [
    {
      "cell_type": "code",
      "metadata": {
        "id": "PpTbp5mTdYa-",
        "colab_type": "code",
        "colab": {
          "base_uri": "https://localhost:8080/",
          "height": 506
        },
        "outputId": "9ab0c04a-1535-452e-813d-bb97b9a7b64c"
      },
      "source": [
        "!pip install praw\n",
        "!pip install sqlite3-api"
      ],
      "execution_count": null,
      "outputs": [
        {
          "output_type": "stream",
          "text": [
            "Collecting praw\n",
            "\u001b[?25l  Downloading https://files.pythonhosted.org/packages/2c/15/4bcc44271afce0316c73cd2ed35f951f1363a07d4d5d5440ae5eb2baad78/praw-7.1.0-py3-none-any.whl (152kB)\n",
            "\u001b[K     |████████████████████████████████| 153kB 2.7MB/s \n",
            "\u001b[?25hCollecting prawcore<2.0,>=1.3.0\n",
            "  Downloading https://files.pythonhosted.org/packages/61/89/651078078f089c182164efd10d45d3b709b46e4e40b47e63759e76349dc1/prawcore-1.4.0-py3-none-any.whl\n",
            "Collecting websocket-client>=0.54.0\n",
            "\u001b[?25l  Downloading https://files.pythonhosted.org/packages/4c/5f/f61b420143ed1c8dc69f9eaec5ff1ac36109d52c80de49d66e0c36c3dfdf/websocket_client-0.57.0-py2.py3-none-any.whl (200kB)\n",
            "\u001b[K     |████████████████████████████████| 204kB 8.0MB/s \n",
            "\u001b[?25hCollecting update-checker>=0.17\n",
            "  Downloading https://files.pythonhosted.org/packages/d6/c3/aaf8a162df8e8f9d321237c7c0e63aff95b42d19f1758f96606e3cabb245/update_checker-0.17-py2.py3-none-any.whl\n",
            "Requirement already satisfied: requests<3.0,>=2.6.0 in /usr/local/lib/python3.6/dist-packages (from prawcore<2.0,>=1.3.0->praw) (2.23.0)\n",
            "Requirement already satisfied: six in /usr/local/lib/python3.6/dist-packages (from websocket-client>=0.54.0->praw) (1.15.0)\n",
            "Requirement already satisfied: urllib3!=1.25.0,!=1.25.1,<1.26,>=1.21.1 in /usr/local/lib/python3.6/dist-packages (from requests<3.0,>=2.6.0->prawcore<2.0,>=1.3.0->praw) (1.24.3)\n",
            "Requirement already satisfied: idna<3,>=2.5 in /usr/local/lib/python3.6/dist-packages (from requests<3.0,>=2.6.0->prawcore<2.0,>=1.3.0->praw) (2.10)\n",
            "Requirement already satisfied: certifi>=2017.4.17 in /usr/local/lib/python3.6/dist-packages (from requests<3.0,>=2.6.0->prawcore<2.0,>=1.3.0->praw) (2020.6.20)\n",
            "Requirement already satisfied: chardet<4,>=3.0.2 in /usr/local/lib/python3.6/dist-packages (from requests<3.0,>=2.6.0->prawcore<2.0,>=1.3.0->praw) (3.0.4)\n",
            "Installing collected packages: prawcore, websocket-client, update-checker, praw\n",
            "Successfully installed praw-7.1.0 prawcore-1.4.0 update-checker-0.17 websocket-client-0.57.0\n",
            "Collecting sqlite3-api\n",
            "  Downloading https://files.pythonhosted.org/packages/f5/83/6ea7bfa61d9a0cdb13ac74c97e4fac6d0c3ef35e9fb4689b6f06957c1c5f/sqlite3_api-1.0.5.tar.gz\n",
            "Building wheels for collected packages: sqlite3-api\n",
            "  Building wheel for sqlite3-api (setup.py) ... \u001b[?25l\u001b[?25hdone\n",
            "  Created wheel for sqlite3-api: filename=sqlite3_api-1.0.5-cp36-none-any.whl size=9252 sha256=fc4fc5fb3df3830ba3546d079eb157e832190140f67b9afa802d251603aeca3a\n",
            "  Stored in directory: /root/.cache/pip/wheels/ba/29/a6/7df2a4d9785a2850b0ae7f681c36fe0bea7abb9f0d0ebd80cb\n",
            "Successfully built sqlite3-api\n",
            "Installing collected packages: sqlite3-api\n",
            "Successfully installed sqlite3-api-1.0.5\n"
          ],
          "name": "stdout"
        }
      ]
    },
    {
      "cell_type": "code",
      "metadata": {
        "id": "r_h5v2tDVAut",
        "colab_type": "code",
        "colab": {
          "base_uri": "https://localhost:8080/",
          "height": 104
        },
        "outputId": "9fb89a69-13c3-4761-858f-342379725982"
      },
      "source": [
        "import praw\n",
        "import nltk\n",
        "import random\n",
        "import sqlite3\n",
        "import matplotlib.pyplot as plt\n",
        "from collections import OrderedDict\n",
        "\n",
        "nltk.download('punkt')\n",
        "nltk.download('stopwords')"
      ],
      "execution_count": null,
      "outputs": [
        {
          "output_type": "stream",
          "text": [
            "[nltk_data] Downloading package punkt to /root/nltk_data...\n",
            "[nltk_data]   Package punkt is already up-to-date!\n",
            "[nltk_data] Downloading package stopwords to /root/nltk_data...\n",
            "[nltk_data]   Package stopwords is already up-to-date!\n"
          ],
          "name": "stdout"
        },
        {
          "output_type": "execute_result",
          "data": {
            "text/plain": [
              "True"
            ]
          },
          "metadata": {
            "tags": []
          },
          "execution_count": 3
        }
      ]
    },
    {
      "cell_type": "code",
      "metadata": {
        "id": "uLPD8szSec83",
        "colab_type": "code",
        "colab": {}
      },
      "source": [
        "conn = sqlite3.connect('reddit.db')\n",
        "c = conn.cursor()"
      ],
      "execution_count": null,
      "outputs": []
    },
    {
      "cell_type": "code",
      "metadata": {
        "id": "Zs0w60n4er8i",
        "colab_type": "code",
        "colab": {
          "base_uri": "https://localhost:8080/",
          "height": 34
        },
        "outputId": "063f0bbd-e45c-4cdc-9f50-74a9441f79a6"
      },
      "source": [
        "c.execute('''DROP TABLE IF EXISTS topics''')\n",
        "c.execute('''DROP TABLE IF EXISTS comments''')\n",
        "c.execute('''CREATE TABLE topics (topicTitle text, topicText text, topicID text, topicCategory text)''')\n",
        "c.execute('''CREATE TABLE comments (commentText text, commentID text, topicTitle text, topicText text, topicID text, topicCategory text)''')"
      ],
      "execution_count": null,
      "outputs": [
        {
          "output_type": "execute_result",
          "data": {
            "text/plain": [
              "<sqlite3.Cursor at 0x7f629bdd8340>"
            ]
          },
          "metadata": {
            "tags": []
          },
          "execution_count": 5
        }
      ]
    },
    {
      "cell_type": "code",
      "metadata": {
        "id": "e6Rlbjy6f59l",
        "colab_type": "code",
        "colab": {}
      },
      "source": [
        "user_agent = \"com.sayan.personal\"\n",
        "r = praw.Reddit(client_id=\"8FlIx6rbsfBRTQ\",  \n",
        "                client_secret=\"z7WW_vP75QGNoez_d2ecTtLBRRs\",\n",
        "                user_agent=user_agent)\n",
        "subreddits = ['datascience', 'gameofthrones']\n",
        "limit = 1000"
      ],
      "execution_count": null,
      "outputs": []
    },
    {
      "cell_type": "code",
      "metadata": {
        "id": "KqnZU4Qgo1Sn",
        "colab_type": "code",
        "colab": {}
      },
      "source": [
        "def praw_get_data(limit, subreddit_name):\n",
        "  topics = r.subreddit(subreddit_name).hot(limit=limit)\n",
        "  comment_insert = []\n",
        "  topic_insert = []\n",
        "  topic_NBR = 1\n",
        "  for topic in topics:\n",
        "    if (topic_NBR/limit)*100 in range (1, 100):\n",
        "      print(f'TOPIC: {topic.id} complete: {(topic_NBR/limit)*100}')\n",
        "    topic_NBR += 1\n",
        "    try:\n",
        "      topic_insert.append((topic.title, topic.selftext, \n",
        "                          topic.id, subreddit_name))\n",
        "    except:\n",
        "      pass\n",
        "    \n",
        "    try:\n",
        "      for topic in topic.comments:\n",
        "        comment_insert.append((comment.body, comment.id,\n",
        "                              topic.title, topic.selftext, \n",
        "                              topic.id, subreddit_name))\n",
        "    except:\n",
        "      pass\n",
        "  print('************')\n",
        "  print('Inserting data into SQLite')\n",
        "  c.executemany('INSERT INTO topics VALUES (?, ?, ?, ?)', topic_insert)\n",
        "  print('Inserted topics.')\n",
        "  c.executemany('INSERT INTO comments VALUES (?, ?, ?, ?, ?, ?)', comment_insert)\n",
        "  print('Inserted comments')\n",
        "  conn.commit()"
      ],
      "execution_count": null,
      "outputs": []
    },
    {
      "cell_type": "code",
      "metadata": {
        "id": "1C8Pb8E2r31w",
        "colab_type": "code",
        "colab": {
          "base_uri": "https://localhost:8080/",
          "height": 1000
        },
        "outputId": "32c7ccb9-4876-4ece-ab48-416bc6169c0d"
      },
      "source": [
        "for subject in subreddits:\n",
        "  praw_get_data(limit=limit, subreddit_name=subject)"
      ],
      "execution_count": null,
      "outputs": [
        {
          "output_type": "stream",
          "text": [
            "TOPIC: hvc6qs complete: 1.0\n",
            "TOPIC: huxsto complete: 2.0\n",
            "TOPIC: huop3m complete: 3.0\n",
            "TOPIC: hu84wo complete: 4.0\n",
            "TOPIC: htgon3 complete: 5.0\n",
            "TOPIC: hsx70c complete: 6.0\n",
            "TOPIC: hrr9q9 complete: 8.0\n",
            "TOPIC: hr857i complete: 9.0\n",
            "TOPIC: hqflt3 complete: 10.0\n",
            "TOPIC: hpf2zb complete: 11.0\n",
            "TOPIC: hoqz1y complete: 12.0\n",
            "TOPIC: hnam46 complete: 13.0\n",
            "TOPIC: hme3mt complete: 15.0\n",
            "TOPIC: hl4crd complete: 16.0\n",
            "TOPIC: hl7oxd complete: 17.0\n",
            "TOPIC: hkdcw3 complete: 18.0\n",
            "TOPIC: hk0ff3 complete: 19.0\n",
            "TOPIC: hj9kg7 complete: 20.0\n",
            "TOPIC: himwch complete: 21.0\n",
            "TOPIC: hiimdx complete: 22.0\n",
            "TOPIC: hhhkiq complete: 23.0\n",
            "TOPIC: hg4fzc complete: 24.0\n",
            "TOPIC: hg2ljy complete: 25.0\n",
            "TOPIC: hfcin7 complete: 26.0\n",
            "TOPIC: hei7ho complete: 27.0\n",
            "TOPIC: hd7b4j complete: 30.0\n",
            "TOPIC: hcit68 complete: 31.0\n",
            "TOPIC: hbbcxa complete: 32.0\n",
            "TOPIC: haojt0 complete: 33.0\n",
            "TOPIC: ha6hmz complete: 34.0\n",
            "TOPIC: h96e3t complete: 35.0\n",
            "TOPIC: h883pd complete: 36.0\n",
            "TOPIC: h14ies complete: 37.0\n",
            "TOPIC: gzvvco complete: 38.0\n",
            "TOPIC: gzd84g complete: 39.0\n",
            "TOPIC: gy9ff2 complete: 40.0\n",
            "TOPIC: gx04es complete: 41.0\n",
            "TOPIC: gwczhn complete: 42.0\n",
            "TOPIC: gvwo3j complete: 43.0\n",
            "TOPIC: gu2raf complete: 44.0\n",
            "TOPIC: gu99p1 complete: 45.0\n",
            "TOPIC: gtqxbu complete: 46.0\n",
            "TOPIC: gsg5eh complete: 47.0\n",
            "TOPIC: gryhrf complete: 48.0\n",
            "TOPIC: gqshph complete: 49.0\n",
            "TOPIC: gomivv complete: 50.0\n",
            "TOPIC: go4arp complete: 51.0\n",
            "TOPIC: gn5ddq complete: 52.0\n",
            "TOPIC: gle83b complete: 53.0\n",
            "TOPIC: gkam51 complete: 54.0\n",
            "TOPIC: gdh074 complete: 59.0\n",
            "TOPIC: gbmv7s complete: 60.0\n",
            "TOPIC: gavciu complete: 61.0\n",
            "TOPIC: g8v44c complete: 62.0\n",
            "TOPIC: g8we2d complete: 63.0\n",
            "************\n",
            "Inserting data into SQLite\n",
            "Inserted topics.\n",
            "Inserted comments\n",
            "TOPIC: hw5ze8 complete: 1.0\n",
            "TOPIC: hw3tbe complete: 2.0\n",
            "TOPIC: hv41jp complete: 3.0\n",
            "TOPIC: hvdsf8 complete: 4.0\n",
            "TOPIC: huodmg complete: 5.0\n",
            "TOPIC: hujrwd complete: 6.0\n",
            "TOPIC: hudzbj complete: 8.0\n",
            "TOPIC: htsh45 complete: 9.0\n",
            "TOPIC: htdpuq complete: 10.0\n",
            "TOPIC: hsjedc complete: 11.0\n",
            "TOPIC: hsu9z5 complete: 12.0\n",
            "TOPIC: hsasdy complete: 13.0\n",
            "TOPIC: hqa5d5 complete: 15.0\n",
            "TOPIC: hpwucf complete: 16.0\n",
            "TOPIC: hqosj3 complete: 17.0\n",
            "TOPIC: hq8b5v complete: 18.0\n",
            "TOPIC: hprk0r complete: 19.0\n",
            "TOPIC: hpputd complete: 20.0\n",
            "TOPIC: hpixai complete: 21.0\n",
            "TOPIC: hp78oe complete: 22.0\n",
            "TOPIC: hnrqef complete: 23.0\n",
            "TOPIC: hohtbq complete: 24.0\n",
            "TOPIC: hnvbmo complete: 25.0\n",
            "TOPIC: hnxjg6 complete: 26.0\n",
            "TOPIC: hnopxy complete: 27.0\n",
            "TOPIC: hm6y6e complete: 30.0\n",
            "TOPIC: hmozq2 complete: 31.0\n",
            "TOPIC: hm7hl8 complete: 32.0\n",
            "TOPIC: hlmkec complete: 33.0\n",
            "TOPIC: hketms complete: 34.0\n",
            "TOPIC: hkraj2 complete: 35.0\n",
            "TOPIC: hkepet complete: 36.0\n",
            "TOPIC: hkl10m complete: 37.0\n",
            "TOPIC: hk96s0 complete: 38.0\n",
            "TOPIC: hk76z9 complete: 39.0\n",
            "TOPIC: hixisj complete: 40.0\n",
            "TOPIC: hj9lr8 complete: 41.0\n",
            "TOPIC: hhy58r complete: 42.0\n",
            "TOPIC: hj0nya complete: 43.0\n",
            "TOPIC: hi2vtg complete: 44.0\n",
            "TOPIC: hi1an7 complete: 45.0\n",
            "TOPIC: hhw4yw complete: 46.0\n",
            "TOPIC: hhemuq complete: 47.0\n",
            "TOPIC: hg5kyr complete: 48.0\n",
            "TOPIC: hgd0mh complete: 49.0\n",
            "TOPIC: hgb7sg complete: 50.0\n",
            "TOPIC: hfw6vn complete: 51.0\n",
            "TOPIC: hfp7yr complete: 52.0\n",
            "TOPIC: hfdz0m complete: 53.0\n",
            "TOPIC: hfg6ht complete: 54.0\n",
            "************\n",
            "Inserting data into SQLite\n",
            "Inserted topics.\n",
            "Inserted comments\n"
          ],
          "name": "stdout"
        }
      ]
    },
    {
      "cell_type": "code",
      "metadata": {
        "id": "mUy8LORTr7J7",
        "colab_type": "code",
        "colab": {}
      },
      "source": [
        "stopwords = nltk.corpus.stopwords.words('english')\n",
        "\n",
        "def word_filter(excluded, word_row):\n",
        "  filtered = [word for word in word_row if word not in excluded]\n",
        "  return filtered\n",
        "\n",
        "def lowercase_array(word_row):\n",
        "  lowercased = [word.lower() for word in word_row]\n",
        "  return lowercased"
      ],
      "execution_count": null,
      "outputs": []
    },
    {
      "cell_type": "code",
      "metadata": {
        "id": "83ziMTYcyvzA",
        "colab_type": "code",
        "colab": {}
      },
      "source": [
        "conn = sqlite3.connect('reddit.db')\n",
        "c = conn.cursor()"
      ],
      "execution_count": null,
      "outputs": []
    },
    {
      "cell_type": "code",
      "metadata": {
        "id": "7nHDaauZwgW6",
        "colab_type": "code",
        "colab": {}
      },
      "source": [
        "def data_processing(sql):\n",
        "  c.execute(sql)\n",
        "  data = {'word_matrix': [], 'all_words': []}\n",
        "  row = c.fetchone()\n",
        "  while row is not None:\n",
        "    word_row = nltk.tokenize.word_tokenize(row[0] + \" \" + row[1])    \n",
        "    word_row_lowercased = lowercase_array(word_row)\n",
        "    word_row_nonstopwords = word_filter(stopwords, word_row_lowercased)\n",
        "    data['all_words'].extend(word_row_nonstopwords)\n",
        "    data['word_matrix'].append(word_row_nonstopwords)\n",
        "    row = c.fetchone()\n",
        "  return data"
      ],
      "execution_count": null,
      "outputs": []
    },
    {
      "cell_type": "code",
      "metadata": {
        "id": "l-jEJYOgx1Rm",
        "colab_type": "code",
        "colab": {}
      },
      "source": [
        "subreddits = ['datascience', 'gameofthrones']\n",
        "data = {}\n",
        "for subject in subreddits:\n",
        "  data[subject] = data_processing(sql='''SELECT topicTitle, topicText, topicCategory from topics WHERE topicCategory = ''' + \"'\" + subject + \"'\")"
      ],
      "execution_count": null,
      "outputs": []
    },
    {
      "cell_type": "code",
      "metadata": {
        "id": "os7h511Nyksf",
        "colab_type": "code",
        "colab": {
          "base_uri": "https://localhost:8080/",
          "height": 54
        },
        "outputId": "92ad4f97-fbf5-4761-c491-49ad1adc75ee"
      },
      "source": [
        "print(data['datascience']['word_matrix'][0])"
      ],
      "execution_count": null,
      "outputs": [
        {
          "output_type": "stream",
          "text": [
            "['weekly', 'entering', '&', 'transitioning', 'thread', '|', '19', 'jul', '2020', '-', '26', 'jul', '2020', 'welcome', 'week', \"'s\", 'entering', '&', 'transitioning', 'thread', '!', 'thread', 'questions', 'getting', 'started', ',', 'studying', ',', 'transitioning', 'data', 'science', 'field', '.', 'topics', 'include', ':', '*', 'learning', 'resources', '(', 'e.g', '.', 'books', ',', 'tutorials', ',', 'videos', ')', '*', 'traditional', 'education', '(', 'e.g', '.', 'schools', ',', 'degrees', ',', 'electives', ')', '*', 'alternative', 'education', '(', 'e.g', '.', 'online', 'courses', ',', 'bootcamps', ')', '*', 'job', 'search', 'questions', '(', 'e.g', '.', 'resumes', ',', 'applying', ',', 'career', 'prospects', ')', '*', 'elementary', 'questions', '(', 'e.g', '.', 'start', ',', 'next', ')', 'wait', 'answers', 'community', ',', 'check', '[', 'faq', ']', '(', 'https', ':', '//www.reddit.com/r/datascience/wiki/frequently-asked-questions', ')', '[', 'resources', ']', '(', 'resources', ')', 'pages', 'wiki', '.', 'also', 'search', 'answers', '[', 'past', 'weekly', 'threads', ']', '(', 'https', ':', '//www.reddit.com/r/datascience/search', '?', 'q=weekly', '%', '20thread', '&', 'restrict_sr=1', '&', 'sort=new', ')', '.']\n"
          ],
          "name": "stdout"
        }
      ]
    },
    {
      "cell_type": "code",
      "metadata": {
        "id": "4f47j1OJylSA",
        "colab_type": "code",
        "colab": {
          "base_uri": "https://localhost:8080/",
          "height": 513
        },
        "outputId": "8c0643a5-cc76-4a7c-d57a-79c5899d8be4"
      },
      "source": [
        "wordfreqs_cat1 = nltk.FreqDist(data['datascience']['all_words'])\n",
        "plt.hist(wordfreqs_cat1.values(), bins = range(10))\n",
        "plt.show()\n",
        "wordfreqs_cat2 = nltk.FreqDist(data['gameofthrones']['all_words'])\n",
        "plt.hist(wordfreqs_cat2.values(), bins = range(20))\n",
        "plt.show()"
      ],
      "execution_count": null,
      "outputs": [
        {
          "output_type": "display_data",
          "data": {
            "image/png": "[encoded data removed]",
            "text/plain": [
              "<Figure size 432x288 with 1 Axes>"
            ]
          },
          "metadata": {
            "tags": [],
            "needs_background": "light"
          }
        },
        {
          "output_type": "display_data",
          "data": {
            "image/png": "[encoded data removed]",
            "text/plain": [
              "<Figure size 432x288 with 1 Axes>"
            ]
          },
          "metadata": {
            "tags": [],
            "needs_background": "light"
          }
        }
      ]
    },
    {
      "cell_type": "code",
      "metadata": {
        "id": "raba3AKQ8plf",
        "colab_type": "code",
        "colab": {
          "base_uri": "https://localhost:8080/",
          "height": 72
        },
        "outputId": "0901cc1e-a46a-466e-db07-de4382c8cfc8"
      },
      "source": [
        "print(wordfreqs_cat1.hapaxes())\n",
        "print(wordfreqs_cat2.hapaxes())"
      ],
      "execution_count": null,
      "outputs": [
        {
          "output_type": "stream",
          "text": [
            "['equal', 'durations', 'ft', 'retard', 'theoretically', 'shot', 'lenders', 'rf', 'industrial', 'cpg', 'shipping', 'trailers', 'lacked', 'centric', 'arduino', '/machine', '//www.udemy.com/course/machine-learning-course-with-python/', 'utm_source=adwords', 'utm_medium=udemyads', 'utm_campaign=python_v.prof_la.en_cc.row_ti.7380', 'utm_content=deal4584', 'utm_term=_._ag_85724077824_._ad_437497333677_._kw__._de_m_._dm__._pl__._ti_dsa-774930031889_._li_9073643_._pd__._', 'matchtype=b', 'gclid=cj0kcqjw9b_4brcmarisadmuiyo5bmedqnkv9qrtcxua9zh50ilno-madex-b42ce-rtd_jr4iyqjb0aaghiealw_wcb', 'persist_locale=', 'locale=en_us', 'attempt', 'on/for', 'teams/companies', 'overinflated', 'perception', 'corporations', 'non-profits', 'wasted', 'time/energy', 'not-very-technical', 'dollars/man-hours', 'outset', 'overpromise', 'underperform', 'ambiguous', 'bs', 'bat', 'overruled', 'spilled', 'thru', 'prevailed', 'role/focus/specialization', 'uiuc', 'pertaining', 'boards', 'obtuse', 'workable', 'typeform', 'recs', 'protecting', 'flares', 'kurzgasagt', 'flare', 'warning', 'nj', '1tb', '180', '1080', 'outage', '1/8', '99.9', 'securing', 'solder', 'seal', 'semi-conductor', 'nav', 'catastrophic', 'bi/dashboards', 'attending', 'lander', '//rstats.ai/nyr/', 'chat/', 'observer', 'genuine', 'slowing', 'decline', 'depicted', 'noticeably', 'angle', 'pronounced', 'braking', 'it-', 'skinny', 'v', 'precursor', 'wane', 'dropping', 'indulging', 'downward', 'slopes', 'coincide', 'bookstores', 'volumes', 'publisher', 'prestige', 'fulfillment', 'persevere', 'drooling', 'contribute', 'element', 'whereby', \"'profile\", 'leaf', 'nodes', 'catboost', 'alas', 'ensemble', 'grab', 'attributions', 'yields', 'retrieve', '0.451', '0.405', 'excessive', 'generalize', \"'different\", 'presentations/', 'hating', 'finicky', '2021', '70', 'digitization', 'cater', 'availabilities', 'pertinent', 'forrays', 'fruitful', 'skill/strategy', 'school/books/moocs', 'specially', 'sectors', 'gov', 'pertains', 'analytics/science', 'self-paced', 'esri', 'geospatial', 'geared', 'primer', 'unemployment', 'environmental', 'boo', 'oregon', 'fulltime', 'touching', 'failure', 'g', 'cost-saving', 'money-saving', 'catering', 'anti-tech', 'computers', 'frustration', 'wasteful', 'cockblocked', 'toes', 'puppy', 'wrapping', 'noodle', 'envisioning', 'third-party', 'databases/platforms', 'cross-referenced', 'entity', 'realtime', 'geopolitical', 'cringe', '5-ish', 'coding/development', 'modest', 'exceeds', 'practies', 'standardisation', 'analsyis', 'productionised', 'rarer', 'scrum/kanban', 'engines/languages', 'outs', 'moreso', 'novice', 'ive', 'codes/problems', 'intricate', 'one-pager', 'memo', 'resolved', 'unclean', 'intensive', 'careful', 'crucial', 'unbiased', 'disliking', 'societies', 'seasonwarez', 'featuretools', 'hosting', 'invoices', 'troubleshooting', 'fulfill', 'work-around', 'avenue', 'clunky/slow', 'petrozziello', '//www.researchgate.net/publication/328400525_distributed_neural_networks_for_missing_big_data_imputation', 'kaliamoorthy', '//sci-hub.tw/10.1007/978-981-13-1813-9_3', 'montesdeoca', '//www.scitepress.org/papers/2019/77384/77384.pdf', 'mice', 'mlcourse.ai', '//mlcourse.ai', 'familiarized', \"'rolling\", 'date-time', 'skipping', '23:10', 'familiarize', 'opted', 'alpha', 'identifier', '74', 'hooked', 'combing', 'wich', '0.6', '4.5m', 'marked', '4.5', 'non-churn', 'registers', 'register', 'youfollow', 'wording', 't-sql', 'programm', 'crawler', 'scrapers', 'statistic', 'enthusiast', 't-test', 'usefull', 'recruitment/staffing', 'kelly', 'randstad', 'recruiting/staffing', 'labour', '//towardsdatascience.com/why-python-is-not-the-programming-language-of-the-future-30ddc5339b66', 'prescription', 'tools/approaches', 'bloomer', 'stats/probs', 'analyst/data', 'plug', 'chug', 'rushed', 'envision', 'swift', 'stare', 'ceiling', '1000+', 'advertise', 'visiting', 'sr.', '150mb', 'connection', 'restrict', 'crawling', 'requirement', 'enables', 'recognized', 'superpower', 'grid/random', 'installing', 'tune_sklearn', 'imports', 'sklearn.datasets', 'sklearn.model_selection', 'sklearn.linear_model', 'n_samples=11000', 'n_features=1000', 'n_informative=50', 'n_redundant=0', 'n_classes=10', 'class_sep=2.5', 'x_test', 'y_test', 'test_size=1000', 'distributions', 'tuples', 'param_dists', \"'alpha\", '1e-4', \"'epsilon\", '1e-2', 'tune_search', 'param_distributions=param_dists', 'n_iter=2', 'early_stopping=true', 'max_iters=10', 'search_optimization=', 'tune_search.fit', 'tune_search.best_params_', '//docs.ray.io/en/master/tune/api\\\\_docs/sklearn.html', '//docs.ray.io/en/master/tune/api_docs/sklearn.html', 'fin', 'net', 'simulate', 'delivered', 'requested', '*_can', 'damn', 'commentary', 'subtask', 'trickier', 'borrow', 'siloed', 'analysis_project', 'task_1', 'task_2', 'task_3', 'task_4', 'task_5', '`task_1`', '`task_2`', '`task_3`', '________________', 'luxurious', '`breakpoint', 'plotting/analyis', '`x', 'analysis`', '`analysis', 'x`', 's1', 'located', 'procede', 'afaik', '`s1`', '`b1', 'checks`', '`b2', '`b3', '`1`', '`2`', 're-open', '🤔i', 'skills/experience', 'prospect', 'transferable', 'ladder', 'elbow', '||row1|row2|row3|row4|row5|row6|row7|row8|row9|row10|', '1|0|0,0723|0,0736|0,0743|0,0825|0,0485|0,0549|0,0401|0,0799|0,0534|', '2|0,0723|0|0,0504|0,0494|0,0573|0,0473|0,0535|0,0638|0,0564|0,0524|', '3|**0,0736**|0,0504|**0**|**0,0520**|0,0719|**0,0502**|0,0561|0,0667|0,0564|0,0524|', '4|0,0743|0,0494|0,0520|0|0,0322|0,0610|0,0547|0,0649|0,0693|0,0653|', '5|0,0825|0,0573|0,0719|0,0322|0|0,0692|0,0629|0,0580|0,0732|0,0687|', '6|0,0485|0,0473|0,0502|0,0610|0,0692|0|0,0298|0,0635|0,0561|0,0404|', '7|0,0549|**0,0535**|0,0561|0,0547|**0,0629**|0,0298|**0**|**0,0581**|**0,0742**|**0,0349**|', '8|0,0401|0,0638|0,0667|0,0649|0,0580|0,0635|0,0581|0|0,0794|0,0486|', '9|0,0799|0,0564|0,0564|0,0693|0,0732|0,0561|0,0742|0,0794|0|0,0794|', '10|0,0534|0,0524|0,0524|0,0653|0,0687|0,0404|0,0349|0,0486|0,0794|0|', '0,1759', '9', '0,2836', '0,4594', 'wheels', 'usage', 'list/dictionary', 'comprehension', '`lst', '`for', '`lst.append', 'lst`', 'unclear', 'geo-location', '2-dimensional', 'geo-locations', 'latitudes', 'longitudes', 'units', 'outermost', \"'as-is\", 'adjustment', 'footnote', 'offset', 'force', 'lockdowns', 'calculation', '94', 'peer', 'feud', 'torn', 'brothers', 'reservoir', 'royal', 'dutch', 'sector/industry', 'wave', 'layoffs', 'infatuated', 'science/', 'coder', 'lay-off', 'peace', 'pov', '34', 'radical', 'tbh', 'earned', 'lacks', 'r/datasience', 'eagerly', 'awaiting', 'useful/popular', 'kudos', 'shake', 'disappointment', 'initiatives', 'idealize', 'futile', 'descriptions', 'wayyy', '//www.researchgate.net/publication/327298996_hardcore_gamer_profiling_results_from_an_unsupervised_learning_approach_to_playing_behavior_on_the_steam_platform', 'replicate', 'retrieved', 'players', 'aaa', 'indie', 'f2p', '//imgur.com/a/urucmqy', 'presume', 'multidimensional', 'axis', 'chosen', \"'appid\", 'optimized', 'twelve', 'sciencey', '0,1\\\\', 'labelled', 'eye', 'consequently', 'considerably', 'estimating', '*actual*', 'thereof', 'relabel', 'mistaken', 'outperforms', 'divulge', 'clarifying', 'indian', 'act', 'participating', 'iterative', 'western', 'prejudices', 'guest', 'non-deep', 'xgb', 'tree/flow', '//www.pnrjournal.com/viewimage.asp', 'img=jpharmnegativeresults_2010_1_2_61_75708_f1.jpg', 'downhill', 'granular', 'authority', 'tonne', 'corrected', 'whilst', 'conflicting', 'easiest', 'joined', 'golden', 'letting', 'algos', '//www.kaggle.com/c/ashrae-energy-prediction', '3gb+', 'insufficient', 'consolidate', 'reliant', 'career/skill', 'undertake', 'procurement', 'requesting', 'open-ended', '**any**', 'bigrams/trigrams', 'lemmatizing', 'sustainable', 'distinct', 'headers', '`import', 'pd', 'warnings', 'language_check', 'spacy', 'nltk', 'sent_tokenize', 'nltk.tokenize', 'gensim', 'gensim.corpora', 'language_check.languagetool', \"'en-us\", 'spacy.load', 'en_core_web_sm', 'warnings.filterwarnings', 'word.translate', 'str.maketrans', '.replace', 'tool.check', 'm.category', \"'redundant\", \"'capitalization\", \"'redundancy\", \"'plain\", 'm.locqualityissuetype', \"'style\", \"'uncategorized\", 'm.ruleid', \"='morfologik_rule_en_us\", 'm.msg', \"='possible\", 'spelling', 'm.replacements', 'tool.correct', 'language_check.correct', 'token.lower_', '.isnumeric', 't.isnumeric', 'token.lemma_', \"'/path'\", \"'file_name.csv\", \"sep='|\", \"encoding='utf-8\", \"'stopwords.csv\", 'header=0', 'stop.stopwords.tolist', 'string.ascii_lowercase', 'string.digits', \"'/\", \"'+\", \"'n/a\", \"'10\", \"'100\", \"'like\", \"'love\", \"'nan\", \"'ton\", \"'-pron-\", \"'good\", \"'great\", \"'best\", \"'better\", \"'few\", \"'many\", \"'least\", \"'have\", \"'find\", \"'years\", \"'less\", \"'little\", \"'never'\", \"'name\", \"'high\", \"'newer\", \"'small\", \"'young\", \"'everything\", \"'anywhere\", 'minus', 'common_terms', 'ignore+', \"'q5\", '.astype', 'str', '.str.replace', '.str.strip', \"'q5_valid\", 'oe.q5_tokens.astype', 'bool', 'oe.q5_valid', '.unique', 'dictionary.filter_extremes', 'no_below=3', 'no_above=0.95', 'dictionary.doc2bow', 'gensim.models.tfidfmodel', 'dictionary=dictionary', 'normalize=true', 'tf_idf_lda_model', 'corpus=tfidf_corpus', 'id2word=dictionary', 'num_topics=8', 'random_state=100', 'chunksize=1000', 'passes=20', 'iterations', 'minimum_probability=0.52', 'workers=2', 'tf_idf_lda_model.top_topics', 'consumers', 'pseudonymized', 'non-anonymous', 'b/w', 'enablement', 'discovered', 'south', 'asia', 'abroad', 'abroad/work', 'australia', 'countries/universities', 'diploma', 'accommodation', '60k-65k', 'computer/data', 'privilege', 'icml', 're-used', 'endorsement', 'signature', 'admitted', 'inexperienced', 'reviews/suggestions', '3+', \"'distributions\", 'atm', 'divided', 'loads', 'x_percentile_10', 'x_median', 'x_percentile_90', 'y_std', 'etc-', 'shortcomings', 'showcased', 'reiterate', 'accomplished', 'reverting', 'shortcoming', 'shifted', 'grinding', 'shuffled', 'bussiness', 'thechnical', 'notebooks/.py', 'method/way', 'company/team', 'codebase/tools', 'code/juptyer', '\\\\~2.5', 'unfinished', 'co-worker', 're-using', 'accessed/still', 'accesses', 'edits', 'readme', 'fast-forward', 'shadowing', 'untitled', 'tools/automate', 'floating', 'codebases', 'bajillion', 'debugger', 'xeus-python', 'jupyterdash', 'extension', 'completion', 'tba', 'quality-of-life', 'big-picture', 'categorization', 'transportation', 'construction', 'staffing', 'ten', 'b*', 'fuzzy', 'inc', 'conditioning', '-if', 'accomplishes', 'directors/vps', 'hivemind', 'managers/people', 'panels', 'aptitude', 'senior/principal\\\\', 'weeds', 'frustrates', 'technical-round', '6-8', 'directors', 'vps', 'rant-like', 'grammar/details', 'reshaping', 'casting', '-extracted', '-used', 'rid', '-threw', 'semi', '10,000+', 'already-labeled', 'ingesting', 'coordinate', 'pairs', 'alongside', 'steer', 'automates', 'user/customer', 'logical', 'logging', 'btws', 'holders', 'island', 're-familiarize', 're-familiarization', 'internalizing', 'schooling', 'bout', 'spanning', '**from', 'gotchas', 'ml/dl/', 'retain', 'internals', 'descent', 'taught/used', 'bytes', 'represent/store', 'structures/algorithms', 'lookup', 'hash', 'iterable', 'refresh', 'hashable', 'mutable', 'remembered', 'midwestern', 'unicorn', 'dime', 'admit', 'ridiculously', 'ds/analytics/statistical', 'mathematically', 'gifted', 'doubly', 'spoiled', 'grain', 'salt', 'school/still', 'survivors', 'predict/explain', 'highlight', 'neatly', '**impact', 'msr', 'unheard', 'and/mentors', 'adapt', '*senior*', 'l3', 'l4', 'l5', 'leveling', 'resentful', 'levels.fyi', 'equivalence', '**find', 'sessions', 'follow-up', 'favor', 'forums', '**strike', 'valued', 'orthogonal', 'toolkit', '~2-3', 'lifelong', 'endeavor', 'negotiator', 'half-way', 'breather', 'vacations', 'breaks', 'endless', 'rat-race', '5-6', 'everyday', 'contradictory', 'time-span', 'teller', '**don', 'scientists/ml', 'farther', 'loathe', 'doxxed', 'oil/gas', 'stone', 'five', 'concerning', 'role/situation', 'formally', \"'stats\", 'infancy', 'thankfully', 'learning/training', 'esl', 'prml', 'maths/natural', 'consolidating', 'breath', 'escape', 'worry', 'oversell', 'under-qualified', 'knowledgebase', 'displayed', 'fellows', 'tomatoes', 'yielded', 'kitchen', 'garden', '83', '//drive.google.com/file/d/18nigw7snz3qi2npq7qmffbdph9rh7spk/view', 'usp=drivesdk', 'vertical', 'red', 'training/testing', 'shout', 'inadequate', 'spotlight', 'pursing', 'waking', 'appreciation', '/rant', 'stumbled', 'stairs', '2020-07-11', 'mary', '2020-07-10', 'predict_proba', 'exacly', 'probabilty', 'arguing', 'cleaning/', 'organizing/', 'earlier', 'menial', 'gopher', 'yelled', 'whopping', 'gall', 'buddies', 'nonconfrontational', 'midwesterner', 'doubled', 'stimulating', '125k', 'dc', 'pursuits', 'plunge', 'compelling', '//imgur.com/jdjfwaw', 'visualised', 'kagglers', 'lift', 'screenings', 'aiming', 'dedicated', 'flustered', 'ages', 'faking', 'bragging', 'overreacting', 'understands', 'sf/nyc', 'applicant', 'sometime', 'scaring', 'da/ds', 'smarter', 'bcom', 'inferior', 'first-ever', \"'***head\", 'analytics***', 'literacy/maturity', 'deficit', 'combines', 'impact/social', 'drafted', 'classed', 'low/mid', 'confirmation', 'retained', '3-year', 'heads', 'aids', 'achieving', 'unlock', 'data-informed', 'objectives/responsibilities', '**infrastructure**', 'formats', 'administer', 'initiative', '**analysis**', 'effectively', 'indicators', 'donor', 'supporters', 'journeys', 'marketing/advertising', 'campaign', '**management**', 'optimise', 'closely', 'competitors', 'low/mid-range', 'wet', 'patience', 'implement/fix', 'two-year+', 'technical/non-technical', 'crm/central', 'scams', 'matt', 'tran', 'engineered', 'congo', 'dude', 'promoting', 'blackmailed', 'kid', 'criticizing', 'audiences', '350', 'scamming', 'low-quality', 'above-average', 'preying', 'desperate', 'regulations', 'non-existent', 'unlike', 'harsh', 'buying', 'scam', 'popularity', 'pl/sql', 'stacks', 'edw', 'indexed', '***why***', 'legacy', 'patch', \"'office\", 'insane', '«', '»', 'offend', 'tool/framework', 'urls', 'snippets/algorithms', 'structures/algos', 'wordpress', 'hunters', '\\\\*\\\\*note', 'remind', 'jog', 'memory.\\\\*\\\\*', 'toolboxes', 'optimizations', 'eventual', 'hesitant', 'zone', 'trending', '1-1', 'juniors', 'on-site', 'rejecting', '*animated*', \"'how\", 'reception', \"**'making\", 'animated', \"r'**\", '//youtu.be/snci0s0e4io', '//imgur.com/a/9chzcr7', 'validating', '0.8762103', '.087', '8.7', 'dislike', 'annotations', 'laymen', 'biotechnology/sciences', 'minoring', 'diagnosis', 'doesnt', 'guideline', 'flaws', 'kitty/plug', 'innovative', 'ideas/thoughts', 'redesign', 'lecture', 'self-regulated', 'fa18', 'sp19', 'fa19', 'sp20', 'respectively', 'bus', '563', 'biochemistry', 'uniformly', 'phases', 'grand', 'worded', 'acts', 'wonky', 'fantastically', 'pre-defined', 'phase\\\\', 'reshape', 'rename', 'exclude', 'consuming', 'studentidnum', 'responseid', '-99', 'n/a', 'likert', 'fa18\\\\_bgn', 'fa18\\\\_mid', 'fa18\\\\_end', 'sp19\\\\_bgn', 'sp19\\\\_mid', 'sp19\\\\_end', 'sp20\\\\_bgn', 'sp20\\\\_mid', 'sp20\\\\_end', 'merged/combined', 'tells', 'intersect', 'sounding', 'spanking', 'stores', 'r/r', 'jesus', 'refine', 'ew', 'idk', 'appreciative', '~3-400gb', '300-400gb', 'unemployed', 'passion', 'aford', 'aws/azure', 'disk', '100gb', 'cvs', 'exceed', 'associate', 'experimented', 'ascribed', 'positively', 'quantifiable', 'experiments/deployed', 'deluded', 'problem-solving', 'strive', 'visible', 'creativity', 'externalities', 'competitor', 'launches', 'widget\\\\_y', 'regulation', 'enacted', 'widget\\\\_z', 'buyers', 'widgets', 'suspending', 'routines', \"y'all\", 'marketers', 'probe', 'annoying', 'assessing', 'interviewees', 'selfish', 'containers', 'submit', 'deduction', 'dtypes', 'strings', 'low-unique-count', 'configuration', 'short-circuit', 'bryan', 'caplan', '//www.amazon.com/case-against-education-system-waste/dp/0691174652', 'roi', 'hc', 'cultivating', 'mills', 'charging', 'leg', 'flourish', 'distinguishing', 'certs', '2nd/3rd', 'supplements', 'bme', 'advantageous', 'facilitate', 'professors/advisors', 'math/stats/coding', 'sales/marketing', 'mri', 'plasma', 'sysadmin', 'biomedical', 'eng', 'biology', 'pacific', 'nw', '30s', 'married', 'thoughtful', 'auc/f1', 'tweaked', 'separable', 'modelled', 'stddev', 'permanent', 'renters', 'eyeballs', 'classifies', 'eyeballing', 'entail', 'transformations', 'mart', 'watered', 'coranavirus', 'shortened', \"'windows\", 'preference', 'unix', 'peoples', 'interning', 'displaying', 'sry', 'bummer', 'returning', 'horrible', 'mcc', '0.28', '12in', 'thin', 'retina', 'econ', '1,2', 'ghz', 'm3', '8gb', 'economics/econometrics', 'purchasing', '13', '1.4ghz', 'turbo', '3.9ghz', '256gb', '3.6ghz', '256', 'pcs', 'despise', 'conventional', 'econometrics/statistics', 'go-to', 'website/journal/etc', '.what', 'on/talked', 'favourites', 'improves', 'lyft', 'pinterest', 'invite', 'resources/advice/insight', 'fang-like', 'hispanic', 'born', 'add-on', 'productivity/aesthetics', 'greece', 'booming', 'ruled', 'site/project', '😊', 'lifetime-value', 'podcast', 'arguably', 'podcasts', 'a-priori', 'attract', 'unfair', 'floated', 'holdout', 'synthetic', 'controls', 'ime', 'purely', 'carefully', 'sophisticated', 'involving', 'hamming', 'svm', 'f1', 'continuous-categorical', 'smote', 'resample', 'science/ml', 'saver', 'mentees', 'weekends', 'guided', 'mentor/mentee', 'bio', 'ireland', 'september', 'python/sql/jupyter', 'notebooks/ml', 'mesh-like', 'mesh', 'vanishes', 'concatenation', 'vectors', 'generalised', 'inferred', 'low-variational', 'organised', 'higher-variational', 'colour', 'shut-off', 'sudden', 'engagement', 'spree', 'bode', 'full-fledged', '360', 'blank', 'juices', 'plead', 'optics', '**later**', 'asap', 'infectious', 'frequencies', 'occurrence', '2000', '800', 'equally', 'null', 'pyclustering', 'precompute', 'precomputed', 'docstrings', 'impletation', 'evalute', 'jr.', 'rnd', 'sysadmin/application', 'shadowed', 'downfalls', 'conclusions/predictions', 'texas', 'msds', 'encrypted', 'homomorphic', 'encryption', '//youtu.be/nlsd2lo-s50', 'retrieval', 'measures', 'modular', 'generalizable', 'carried', 'models/data/source', 'files/results', 'overhead', 'compulsion', 'cleanest', 'neatness', 'unproductive', 'analyst/business', 'bypassing', 'blobs', '\\\\`random\\\\_state\\\\`', '//github.com/scikit-learn-contrib/hdbscan/issues/326', '`approx_min_span_tree=false`', 'dropdowns/widgets', 'ipywidgets', 'dropdown', 'pleasing', 'embeddable', 'standardization', 'satandardization', 'float', 'standarize', '0,1s', 'remaings', 'inbetween', 'distorted', '175', 'implications', 'clusterizing', 'indeintify', 'suing', 'refusing', 'sexual', 'harassment', 'disappointing', 'branching', 'vocabulary', '16c', '17d', 'ons', 'hd', 'duty', '1234t', '1234r', 'd6t', 'd6-20', 'parentmodel', 'childmodel', 'd6d', 'd6d-20', 'letters', 'placeholders', 'pile', 'denominators', 'parent', 'child', 'tiers', 'model|parentmodel|childmodel', '2500-4', '2500bcm', '2503pd', '2503', '2503p', '25040', '250g', '230g', '250h-00', '250lvr', '250l', 'awd', 'rollercoaster', '\\\\`nbdime\\\\`', '\\\\`nbstripout\\\\`', 'collab', 'heartbeat', 'fully-functional', 'apps/libraries', 'human-readable', 'diffs', 'uis', 'auto-formatted', '\\\\`black\\\\`', 'creator', 'coach', 'foundational', 'pat', 'mocc', 'khan', 'academy', 'construct', 'falling', 'vizzes', 'permitted', 'pasted', 'researched', 'rounds', 'loading', 'rejection', 'blahblahblah', 'bi/analyst', 'reviewing', 'fortunate', 'lucked', 'deficiencies', 'refund', 'qualities', 'avg', 'versus', 'hotter', 'non-returned', 'unrelated', 'pool', 'penalties', 'scored', 'europe', 'top5', 'leagues', 'striker', 'hypothesis/problem', '2007-2020', 'opta', 'events-', 'catered', 'management/', 'scoping/', 'gathering/etc', 'subfields', 'specifications', 'ctc', 'sketch', 'molding', 'rendering', 'solidworks', 'catia', 'revit', 'sub-fields', 'lucrativeness', 'magical', 'city-specific', 'very-niche', 'seekers+++', 'jobs+++', 'swapped', '|role|description|special', 'skills|supply/demand|', '|quantitative', 'researcher|analyzes', 'trading', 'prop', 'shops', 'etc.|c++', 'puzzle', 'school|seekers++|', 'builder|builds', 'making.|ability', 'engineering|jobs+++|', 'infrastructure|builds', '|software', 'learning|jobs+|', 'researchers|close', 'loosely', 'needed|phd', 'publications|seekers+++|', 'pipelines|software', '|jobs++|', '|experimentation', 'infrastructure|statistics', 'engineering|jobs+|', '|product', 'experimentation|design', 'opportunities|statistics', 'sql|seekers+|', 'analyst|perform', 'analysis|sql', 'tableau|seekers+++|', 'hierarchical', 'competion', 'concluded', 'forecasts', '30,000', 'walmart', 'bottom-level', '30,000+', 'parallelized', '55m', '190', 'performers', 'r/cscareerquestionseu', 'germany', 'march', 'zoom', 'touch', 'elated', '222', 'modified', 'straight-up', '**ghosted', '118', '**outright', 'rejections**', '68', '**rejections', 'stage**', '**still', 'process**', '**offers**', 'depressed', 'resilient', 'grade', '1.7/5', 'europe/germany', 'assistant', 'ml/dl', 'typical/common', '/c++', 'python.org', '//python.org', 'launch', 'compiling', '~15', 'installs', 'signals', 'preserving', 'l2', 'frechetdist', '136', '136x136', 'strength', 'scikit', '//scikit-learn.org/stable/modules/clustering.html', 'np', '**5', 'ggplots', 'r.**', '//i.imgur.com/1tdrlkj.jpg', '**and', 'the**', '**youtube', 'video**', '**feel', 'to**', '**to', 'neuroscience', 'error-prone', 'dunno', '😭', 'rebrush', 'sf', 'clinical/medical', 'familiarise', 'biomed', 'bioinformatics', 'pharmacology', 'oversimplified', 'delving', '2nd', 'para', 'timeouts', 'disconnecting', 'extending', 'waits', 'pd`', 'nba_api.stats.static', 'players`', 'playergamelog`', 'commonplayerinfo`', 'nba_api.stats.library.parameters', 'seasonall`', 'sleep`', 'commonplayerinfo.commonplayerinfo', 'player_id=2544', '/usr/local/lib/python3.6/dist-packages/urllib3/connectionpool.py', '_make_request', 'conn', 'url', 'chunked', '**httplib_request_kw', '383', '384', 'six.raise_from', '385', 'sockettimeout', 'basesslerror', 'socketerror', '/usr/local/lib/python3.6/dist-packages/requests/adapters.py', 'cert', '527', 'sslerror', '528', 'elif', 'isinstance', '529', '530', '531', 'product/service', 'lend', 'products/services', 'tightly', 'purchases.', 'hunch', 'retrained', 'prescheduled', 'raising', 'powers', 'recommends', 'succumb', 'retraining', 'mentor/pay', 'puts', 'literacy', 'fundraising/project', 'ambitions', 'data-focused', 'programmes', 'mammoth', \"'consultants\", \"'python\", 'occasional', 'cheatsheet', 'covers', 'trash', 'language-agnostic', 'imposed', 'imho', 'fostering', 'innovativeness', 'perverse', 'incentive', '//en.wikipedia.org/wiki/perverse_incentive', 'cobra', '//en.wikipedia.org/wiki/cobra_effect', 'mcnamara', 'fallacy', '//en.wikipedia.org/wiki/mcnamara_fallacy', 'pervasive', 'data-science-specific', 'auto-regessive', 'garch/arch', 'annual', 'chucked', '1,1', 'team-up', 'data-science', 'codeacademy', 'lightfm', 'autoencoders', 'corresponds', 'outlined', 'impressions', 'enraged', 'disgusted', 'fought', 'tremendously', 'native', 'garbled', 'monster', 'attracted', 'pisses', 'richer', 'thumbnails', 'thumbnail', 'throughs', 'ctr', 'upward', 'intervention', 'counterfactual', 'pointwise', 'unstable', 'atleast', '7-day', 'orange', 'dirt', 'buzz', 'offense', 'formulas', 'wolframalpha', 'noosql', 'migration', 'attempted', 'hyper', 'cnns', 'lstms', 'scientist/mle', 'unpaid', 'playground', '~10k', 'categorical/continuous', 'nearest', 'neighbor', 'infinity', 'doubtful', 'confusion', 'skeptical', 'iyo', 'blurred', 'limit\\\\', 'h', 'thanks**', 'fetched', 'update\\\\', '*please', 'learning*', '*i', '**my', 'professionally', 'blend', 'saas', '**for', 'multitouch', 'seeks', 'contributing', 'media-mix', 'branded', 'contributed', 'touchpoint', 'me\\\\', 'upfront', 'aligned', 'feedback\\\\', 'dm**', 'project\\\\', 'start\\\\', 'evening', 'invites', 'wednesday', 'comment/dm\\\\', 'tag', 'only\\\\_pythoncoding**', 'front-line', 'marketing\\\\_and\\\\_code**', 'only\\\\_marketing**', 'mentor/share', 'only\\\\_stats\\\\_analytical**', 'code/market', 'sprinkle', 'carve', 'slot', 'semi-recognised', 'uni', '7-10', 'multidmension', 'it.i', '97,5', 'process.the', 'inversed', 'tranformed', 'interquartlie', 'squared', 'scattered', 'detecting', 'tackled', 'familiarity', 'toolsets', 'mapreduce', 'prostituted', 'prostitution', 'clarify', 'ranting', 'satisfaction', 'sneak', 'c-level', 'pump', 'hits', 'showcasing', 'rewarded', 'strip', 'shown', 'affordability', 'ears', 'showcase', 'surgery', 'acience', 'pre-made', 'ti', 'belongs', '*ai', 'order*', 'surpassed', 'argues', 'laws', 'gripes', 'enamored', 'funneling', 'cash', 'ventures', 'silicone', 'remained', 'stagnant', 'complacent', 'brushing', 'assert', 'procedural', 'suites', 'cycles', 'productionized', 'cycle', 'sprint', 'fight', 'higher-ups', 'burner', 'agile-ish', 'smattering', 'arises', 'flight', 'kanban', 'prep/cleansing/automation/reporting', 'deriving', 'ongoing', 'auditors/accountants', 'audit/accounting', 'accounting/audit', 'posed', 'examine', 'downtown', 'los', 'angeles', 'non-chain', 'restaurants', 'prime', 'pitching', 'faangmulla', '//www.teamblind.com/post/', 'ama', '-staff-ds-at-airbnb-with-12-yoe-across-four-faangmulla-nygf0tuk', \"'analyst\", 'end-users', 'warehouses', 'supermarkets', 'standardize', 'tracked', 'nowhere', 'afterward', 'car', 'driver', 'messes', '**manually**', 'carriers', 'fuck', 'sorted', 'districts', 'neighbors', 'alphabetically', 'criminally', 'laughing', 'hysterically', 'joker', 'categorized', 'near-field', 'worries', 'carries', 'shrinks', 'apis', 'storm', '50-200', 'grows', 'rinse', 'recall', 'touched', 'pyramid', 'lengthy', 'veteran', \"'roadmap\", 'redditor', '//thinkgrowth.org/the-startup-founders-guide-to-analytics-1d2176f20ac1', 'forrest', 'classifiers', 'locally', 'voice', 'omni-channel', 'derived', 'outliers/anomalies', '//towardsdatascience.com/5-ways-to-detect-outliers-that-every-data-scientist-should-know-python-code-70a54335a623', 'digest', 'clicked', 'underwhelming', 'pose', 'underwhelmed', 'presumptuous', 'visually', 'boxplots', 'scatterplots', 'un-pigeonholing', 'unstuck', 'secondarily', 'ndas', 'welfare', 'organisation/people', 'gradual', \"'data-driven\", 'inspecting', 'automatizing', 'debate', 'foundations', 'medium/big', 'smooth', 'noob', 'monetary', '|customer|new', 'column|', '|jimmy|great', 'customer|', '|mary|about', 'churn|', '|joe|churned|', 'ventured', 'crunch', 'insert', '//cooldata.wordpress.com/2014/02/26/automate-rfm-scoring-of-your-donors-with-this-python-script/', 'saves', 'dr**', 'basecamp', 'exercising', 'dataquest', 'recruiters/employers', 'affiliate', 'iterating', 'subtracting', 'aic', 'sun', 'distract', 'procrastinators', 'confidently', 'cuts', 'sidetracked', 'bombarded', 'according', '15-20', 'chase', 'distracting', 'resist', 'distraction', 'ruthless', 'guilt-free', 'pleasure', 'pains', 'tremendous', 'immerse', 'mastering', 'entice', '/r/statistics', '/r/programming', '/r/learndatascience', 'ingestion', '4500', 'workbook', 'inefficient', 'military', 'tougher', 'legit', 'cultural', '*vastly*', 'underestimate', 'storage/transfer/processing', '1m', 'proposition', 'fail', 'monopoly', 'margins', 'venture', 'personalization', 'deploy/test', 'refactored', 'deployment/retraining', 'user-item', 'tweak/refine', 'redeploy', 'thoughts/comments', 'educating', 'stereotypical', 'seemingly', 'mom-and-pop', 'climate', 'someway', 'adult', 'fwiw', 'fluent', 'vernacular', 'overstepping', 'under-presenting', 'traverse', '/statistical', 'nmf', 'forgotten', 'in-turn', 'intelligently', 'criss-cross', 'holes', \"*'what\", \"for'*\", 'bold', 'gut', '2tb', 'bottleneck', 'hdf5', 'smb', '18.04', 'origin', '*which', 'most*', '*how', 'historical', 'data*', '**predict', 'churn**', '//towardsdatascience.com/hands-on-predict-customer-churn-5c2a42806266', 'plotly/', 'hypothetical', 'tempted', 'gained', 'divulging', 'proprietary', 'grip', 'york', 'fierce', 'town', 'science/analyst', 'tx', 'scenes', 'visibly', 'vision**', 'academic/technical', 'r/machinelearning', 'r/askstatistics', 'countless', 'sleeping', 'joke', '**water', 'industry**', 'bump', 'grabbing', 'coffee', 'hanging', 'hallways', 'moderation**', '**blog/project', 'links**', 'attempts', 'self-promotion', 'commonly-used', 'restricted', '**learners/transitioners**', 'advisor', 'redirect', '**weekly', '**video', 'listicles**', 'tended', 'negatives', 'sight', '**memes**', 'tacky', 'large-ish', '**technical', 'questions**', 'directed', '**junk/low', 'effort**', 'speaks', 'uncommon', '**politics/off-topic**', 'removed', 'explicitly', 'removable', 'future**', '**content', 'long-running', '**moderation', 'bot**', 'u/datascience-bot', 'removals', '**removal', 'reasons**', 'context/resources', '**flairs**', 'sorta', 'adjusted', 'capability', '**moderators**', 'families', 'moderating', 'winds', '**we', 'criticisms**', 'equities', 'anticipation', 'property', 'profitable', 'rental', 'rates', 'metropolitan', 'employ', 'qualifiers', 'narrowing', 'distributing', 'starter', 'hoard', 'didnt', 'pdfs', 'clouds', 'fragment', 'brainstorming', 'classifications', 'brutal', 'terminator', 'sarcastic', 'models/solutions', 'planner', 'been/are', 'citizen', 'holder', 'sponsor', 'h1b', 'participate', 'opt', 'caps', 'bolded', '1500', '72', 'immigration', 'collate', 'first-party', 'par', 'towardsdatascience', 'bubble', 'advances', 'progressed', 'arena', 'sounded', 'cubicle', 'behaviors', 'chime', 'work/life', 'rumors', 'assumed', 'edit2', 'blown', 'willingness', 'vaguely', 'runner', 'solves', 'metadata', 'tables/', 'indexes', 'timing', 'inspect', 'autocomplete', 'clauses', '//www.pgcli.com/docs', 'auto-completion', 'datagrip', '//www.jetbrains.com/datagrip/', 'bulkier', 'sequel', '//sequelpro.com/', '//www.mysql.com/products/workbench/', 'diagrams', 'popsql', '//popsql.com/', 'freeze', 'killed', 'loaded', 'breaker', 'dbeaver', '//dbeaver.io/', 'fits', 'grail', 'wisdom', 'dataviz', 'intelligence/analysts', 'montreal', '0-5', 'toronto', 'taxes', 'glassdoor', 'inaccurate', 'mtl', 'numbers/ranges', '190k', 'ml-focused', '25k/semester', 'username_sql_queries', 'complaint', 'terminated', 'plagiarised', '2020.', '//www.reddit.com/r/machinelearning/comments/ex2sks/d_siraj_is_still_plagiarizing/', 'solidify', 'session', 'served', 'non-stats', 'stats/ds/ml', 'mbp', 'sexist', 'male', 'offensive', 'popped', 'autofill', 'angry\\\\', 'translating', 'pronoun', 'nurse', 'javascript/tensorflow.js', 'desktop', 'digging', 'redditors', '6-ish', 'analyzed', 'extracted', 'compliments', 'text-based', 'edtech', 'knewton', 'adaptive', 'claims', 'false', 'fang', 'co', '4ish', '250k/yr', 'outlandish', 'casually', 'masters/phd', 'figures', 'horrific', 'rightfully', 'preparing', 'loop', 'kidding', 'shoulder', 'lie', 'phony', '**i', 'bookish', 'unsophisticated', 'society\\\\~', 'disastrous', 'swing', 'fool', 'binging', '🏃\\u200d♂️', 'response..', 'speechless', 'discord/group', 'pandas.iplot', 'iplot', 'html/javascript', 'heroku', '500mb', 'requirements.txt', '100+mb', 'elastic', 'beanstalk', 'floydhub', 'developping', 'tool/ide', 'lackluster', 'autocompletion', 'sad', '//www.docker.com/play-with-docker', 'port', 'get\\\\_dummies', 'statsmodels', 'converged', 'nan', 'intercept', 'bi/sql', 'server/r/python', 'stitching', 'productionalized', 'course/book', 'higher-level', 'worthy', 'segments', 'misleading', 'unlikely', 'segmentations', 'repsopnsibilites', 'bugfixes', 'extreamly-advanced', 'streaming', '1k', 'migrating', 'snowflake', 'wherscape', 'athena', 's3', 'kaagle', 'fade', 'technologies/languages', 'hive-ql', 'ariflow', 'althow', 'scheduling', 'jira', '5-10', 'knowlege', 'exams', 'white-paper', 'proposals', 'technicalities', 'clea', 'ineffecient', 'completes', 'feild', 'speeds', 'cores', 'cache', 'isimportant', '2400mhz', '3200mhz', 'motherboard', \"'normal\", 'grid-searching', 'lightgbm', 'linear/tree-based', '/r/buildapc', '~520', 'weather', 'traning', '~80', '~20', 'alarming', 'skill-gap', 'python/sql', 'd3.js', 'delegated', 'woefully', 'advice/tool', 'scientist/ml', 'bandwidth', 'reccomend', 'on-campus', 'reputable', 'institution', 'waterfall', 'scrum', 'sprints', 'chatbots', 'outlay', 'chatbot', 'historic', 'mobile', 'advancements', 'suspect', 'devise', 'foresee', 'declarative', 'hobbled', 'scraped-key', 'logged', '35', 'relational', 'protocols', 'corrupt', 'warranty', 'rdbms', 'regulated', 'identities', 'formalities', 'menu', 'verification', 'ins', 'passing', 'automatons', '2023', 'tempting', 'workforce', 'robots', 'lowest', 'accommodating', 'i7', 'dependable', 'durable', \"'am\", 'migrated', 'devops/data', 'repositories', 'plsql', 'practically', 'configure', 'prompts', 'tapped', 'displays', 'reclassify', 'learning/machine', 'learning/neural', 'swe/data', 'misnomer', 'resembled', 'og', 'databases/algorithms', 'iq', 'shaped', 'unilaterally', 'one-dimensional', '**more', 'metrics**', 'press', 'installed/invoked', 'lab`', 'notebook`', 'cl', 'productivity', 'ide-like', 'persistent', 'browser', 'tabs', 'restarting', 'succeeds', 'crossroads', 'separated', 'elaborate', 'summarized', 'gpt3', 'somebody', 'checklists', 'warned', 'un-confuse', 'warn', 'sphere', 'interplanetary', 'magnetic', 'atmosphere', 'dips', 'shapes', 'inputted', 'discern', 'linking', 'recognition', 'spikes/dips', 'mlengineer', 'bridge', 'specializing', 'steroids', 'vp', 'restart', 'cloud/virtual', 'virtual/cloud', 'low-cost', 'i5', '9.99/month', 'step-wise', 'grid', 'estimation', 'problem**', 'comprised', 'concentrations', 'composition', '|ingredient|min', '|max', '|x|25|50|', '|y|25|50|', '|z|25|50|', 'normality', 'uniformity', 'want**', 'simulated', '1000', 'configurations', 'calculations', 'design/front-end', 'spain', '—more', 'less—', '//www.ahmedbesbes.com/case-studies/end-to-end-ml-app', '//veekaybee.github.io/2020/06/09/ml-in-prod/', '//plotly.com/dash/', 'streamlit', 'hugginface', '//huggingface.co/', 'pytorch/flask', 'abhishek', 'thakur', '//www.youtube.com/channel/ucbprjjiwfyng4x-crbnv78a', '//www.kaggle.com/abhishek/notebooks', 'pre-trained', 'spanish', 'benefited', '//twitter.com/_dylancastillo/status/1272238506916675591', 'python/dash', 'ha', 'painfully', 'sacrificed', 'dry', 'cry', 'nginx', 'gunicorn', '*hacky*', 'sooner', 'converted', 'cell', 'phones', 'quote', 'upgrade/no', 'cant', 'increasingly', 'namely', '//www.reddit.com/r/datascience/comments/h8yjdf/im_offered_a_data_engineer_role_instead_of_data/', '//www.reddit.com/r/datascience/comments/h9p4kl/from_data_scientist_to_machine_learning_engineer/', 'themes', 'engineering-focused', '*waned*', '*our', 'memory*', 'flawed', 'whims', 'emotions', 'consequences', 'clock', '9-5', 'rewards', 'costliest', '**enter', 'document**', 'evan', '//jvns.ca/blog/brag-documents/', 'accomplishments', 'accumulate', 'olympic', 'medals', 'coworker', 'anticipate', 'bug', 'proactively', 'promise', 'wonders', 'negotiating', '*what', 'doing*', 'ruthlessly', 'principle**', 'proud', 'amongst', '**frequency**', '**collaborate**', '*to', 'you*', 'accountable', '**your', 'manager**', 'quarter', '**weird**', '**unnatural**', 'dumping', 'lap', 'vouch', 'reshuffle', 'quarterly', 'wait..what', '**ending', 'thoughts**', 'clearer', 'illustrations', '//www.careerfair.io/reviews/howtobragatwork', '//www.careerfair.io/', 'newsletter', 'undergraduate', '2012', 'asus', 'k56cm', 'samsung', 'galaxy', 's6', 'tablet', 'newly', 'employed', 'secretly', 'badly-written', 'off-putting', 'transformer', 'cnn', 'multi-task', 'multi-lingual', 'dual-encoder', 'rife', 'logistical', 'black-box', 'debug', 'day-dreaming', 'grievances', 'product-focused', 'sentiments', 'committing', 'threshold', 'mistakes', 'empirical', 'literal', 'hucksters', 'nobodies', 'fakes', 'firmly', 'want.', 'jaw', 'dropped', 'good.', 'witnessed', 'manipulated', 'pie', 'negligent', 'hottest', 'clarity', 'trainer', 'trainers', 'workshops', 'evenings/weekends', 'backed', 'bots', 'austinpowers', 'movie', 'respond', 'impressively', 'wav', '8000', 'augmentation', 'librosa', 'on-premise', 'legs', 'drifted', 'macs', 'laptops', 'windows/linux', 'keyboard', 'thinkpad', 'x1', '1499.99', '//www.lenovo.com/us/en/laptops/thinkpad/thinkpad-x1/x1-carbon-gen-7/p/22tp2txx17g', 'conservation', 'wildlife', 'inspired', 'animals', 'segment', 'differentiate', 'chicken-and-egg', 'mile', 'superforecasters', 'eye-roll', 'textbooks/resources', 'hft', 'unanimously', 'teaches', 'ta', 'algebra', 'dw', '500k', '50+', 'accurately', 'duplicates', 'conversions', 'standardizing', 'graduation', 'consultancy/management', 'burnout', 'gan', 'vae', 'non-software', '+matplotlib', 'killer', 'tinkered', 'semma', '//documentation.sas.com/', 'docsetid=emref', 'docsettarget=n061bzurmej4j3n1jnj8bbjjm1a2.htm', 'docsetversion=14.3', 'locale=en', 'crisp-dm', '//www.datasciencecentral.com/profiles/blogs/crisp-dm-a-standard-methodology-to-ensure-a-good-outcome', 'google-fu', 'brains', 'conceptual', 'frick', 'r/languagetechnology', 'february', 'suspicious', 'configuring', 'emr', '\\u200b\\u200bwhat', 'scary', 'science/analysis/engineering', 'andrew', 'n.g', 'liking', 'advices', 'emulator', 'plugins', 'mentoring', 'devs/pms', '…', 'fortunately', 'team\\\\', 'one-time', '**specifically', 'incisive', 'weeks/months', 'in-between', 'technicality', '***i', 'thinking***', 'surprises', 'imposition', 'edited', 'formatting/clarity', 'temporal', 'spans', '\\\\~4', 'month/year', 'roll', 'thats', 'examines', 'onboarding', 'headcounts', 'headcount', 'crunchbase', 'static', 'business/coding', 'labelling', 'va', 'pair', 'summer-fall', 'asynchronous', 'worms', 'are/aren', 'write-ups', 'internship/results', '40s', 'with/for', 'cheery', 'gig', 'exogenous', 'univariate', 'influenced', 'pacf', 't-1', 't-n', 'temperate', 'whack', 'lstm', 'mild', 'panic', 'analyst-y', 'causing', 'rework', 'bite', 'floundering', 'peer-reviewed', 'arts/humanities/social', 'tangential', 'miserable', '0.6fte', 'culminate', 'soul-crushing', 'softwares', 'versed', '160k', 'rebranded', 'overstate', 'unrewarding', 'slicing', 'rarely', 'investigating', 'incomprehensible', '**have', 'trajectory', 'privileged', 'weighed', 'dissatisfaction', 'activations', 'need-based', 'wealthy', 'he/they', 'plan/theme/budget', 'approves', 'it/negotiates', 'factored', 'budgeted', 'destroyed', 'tweak', 'inquiries', 'glean', 'operational', 'discounting', 'modeled', 'emerging', 'pathway', 'lightweight', 'minimizing', 'deployments', 'seasonally', 'coefficient', 'precision', 'tuesdays', 'tuesdays..', 'caked', 'significants', 'yield', 'pet', 'telecom', 'browse', 'miscommunication', 'billing', 'csat', 'judging', 'judge', 'acquire', 'resource-constrained', 'science/visualisation', 'statements/', 'midst', 'aid', 'acheive', 'attached', 'consisting', 'utitilities', 'bonuses', 'fallen', 'visualise', '8-9', 'seek', 'varied', 'summarize', 'inundated', 'complain', 'nonetheless', 'demands', 'categorize', 'obliviously', 'ridiculous', 'stab', 'shoot', 'inflation', 'p-values', 'enlighten', 'just-out-of-the-academic-press', '5000', 'masked', 'procedurally', 'detected', 'replaced', 'brian', '//github.com/microsoft/presidio', 'weigh', 'macie', 'tagging', '//rstudio.com/resources/rstudioconf-2020/value-in-data-science-beyond-models-in-production/', '***other', 'than***', 'off-the-shelf', 'automl', 'intelligence-type', 'goal-setting', 'self-service', 'ad-hoc', 'delved', 'dplyr', 'verbs', 'intentions', 'igniting', 'two-phase', 'catch', 'magicians', \"'tis\", 'transitions', 'operationalization', \"'*guy\", 'basement', \"'*well\", 'oiled', 'machinery', 'spits', 'maintains', 'standardise', 'high-frequent', '|technology|purpose|open', 'source/closed', 'source|pricing|comment|', '//wandb.com/', '|experiment', 'documentation|closed', 'source|free', '35/user', '175/user', 'corp', '|really', 'frameworks|', '//dvc.org', 'versioning|open', 'source|free|we', 'learning|', '//aws.amazon.com/sagemaker/', '|serving', 'training|open', '|depends', '0.08', '/hr', '|not', 'models|', '**tech', 'read/write', 'flat', '**curious', 'with**', 'gcp', 'bluemix', 'pros/cons', '**best', 'advice**', 'standardised', 'designed', 'productisation', '//www.reddit.com/r/datascience/comments/gw8z13/do_you_code_in_object_oriented_way_in_python_when/fsu2p8p', '**do', 'rigor', '**fail', 'summarise', 'qualitative', 'hypothesise', 'insensitive', 'modeller', 'non-ml', 'oppotive', 'computer/notepad', 'code/math', 'science/data/analytics', 'sofa', 'noobish', 'serverless', 'memory/cpu/gpu', \"'command\", 'station', 'delegates', 'fargate', 'pipes', 'lambdas/containers', 'dinosaur', 'legitimately', 'simultaneously', 'significance', 'stumble', 'gans', '*never', 'razor', 'compensate', 'nerd', 'adequate', 'in-depth', 'quality/salary', 'midwest', 'cutbacks', 'blanket', 'engineer/dba', 'lead/manager', 'weary', 'manager/recruiter', '**every', '48', '**companies', 'march-may', 'region', 'masks', 'distancing', 'luck', '3.7', 'atom', 'downloading', 'pip', 'v3.7', 'depend', 'installed', 'gs-12', 'respected/have', 'poking', 'b.sc./m.sc', 'directories', 'lineage', 'provisioning', '24h', 'tenant', 'teach', 'opensource', 'optional', 'self-hostable', 'tenancy', 'openshit/opendatahub', 'vertaai/modeldb', 'pachyderm', 'wishes', 'overfitting', 'heatmaps', 'vif', 's/model', '*use', 'shap', '*plot', 'drop-off', 'eliminating', 'elimination', 'pruning', '*checking', 'one-hot', 'subregions', '*compare', 'combinations', 'yellow', 'lurker', 'utd', 'fist', 'american', 'financially', 'reduction', 'wont', 'expenses', 'sustain', 'jr', 'wgu', 'international', 'united', 'mates', 'seniors', 'difficult/almost', 'till', 'november/', 'sponsorship', 'checking', 'caret', 'tidyverse', 'packrat', 'data.table', 'high-level', 'drake', '//books.ropensci.org/drake/', 'insider', 'stella', '\\\\^\\\\_\\\\^', \"o'reilly\", '**python', 'developers**', 'wes', 'mckinney', '**hands-on', 'systems**', 'aurelien', 'geron', 'themselves/', 'book/tutorials', '//www.reddit.com/r/ml\\\\_dotnet/', '//www.reddit.com/r/ml_dotnet/', '70-30', 'liblinear', 'shrank', '//i.imgur.com/vm224zi.png', 'y-axis', 'denotes', 'params', 'train_sizes', 'train_scores', 'test_scores', 'learning_curve', \"penalty='l1\", 'solver', \"'liblinear\", 'cv=10', 'shuffle=true', \"scoring='roc_auc'\", 'advantages/disadvantages', 'markdowns', 'rmarkdown', 'knitr', 'spyder-reports', 'functioning', 'spectrum', 'technical-related', 'activties', 'data-savvy', 'agile/scum', 'micromanaged', 'churns', 'retros', 'bleh', 'owners', 'bees', 'accounted', 'scope/source', 'analytics/data', 'industries/companies/job', 'owner/technical', 'diverging', 'org', 'enlightening', 'characteristics', 'qual', 'quant', 'won/lost', 'tackling', 'tree-based', 'regularized', 'stackexchange', 'infrequently', 'updating', 'lag', 'ml/', 'reporting/analysis', 'sap', 'bo', 'convince', 'uci', 'pondering', 'fresher', 'generalized', 'kicked', 'expectation/requirement', 'waste/invest', 'pardon', 'acc', '93.5', '**seniority', 'juniority**', 'diagnosing', 'dr.', 'house-like', 'life-threatening', 'passionately', 'single-handedly', 'defending', 'grisham', 'goldman', 'sachs', 'multi-billion', 'trades', '**any', 'career**', 'bright', '3/4/5', 'slide', '**importance', 'organisation**', 'wildly', 'guff', 'organisations', 'revenues', 'argue', 'shortsighted', 'joining', 'accordingly', 'salespeople', 'sensory', 'shutdown', 'enlightened', 'open-minded', '**there', 'work**', 'brand-new', 'quantitatively', 'literature/video/article', 'necessariliy', 'da/calculations', 'campaigns', 'mismatching', 'shopping', 'condense', 'conked', 'man', 'hmm', 'statistically', 'modes', 'bless', 'soul', 'barista', 'cafe', 'reset', 'realisation', 'simplicity', '–', '//app.wandb.ai/openai/published-work/learning-dexterity-end-to-end', 'vmlldzoxmtuymdq', 'robotics', 'robotic', 'block', 'reorientation', '//openai.com/blog/learning-dexterity/', 'cloning', 'ablate', 'demographic', 'enough.', '~', '0.65', 'synthesize', 'autoencoder', 'closest', 'knot', 'majored', 'contents/data', 'redacted', 'redact', 'contents', 'optimisation', 'expotential', 'allocations', '.15', '1/total/2', 'algortihm', 'p', '1|max', 'unlucky', 'credentials/passwords', 'pipelines/etl', 'reins', '//i.imgur.com/43eedle.jpg', 'etls', 'username', 'password', 'gitignored', 'credentials.ini', 'keys', 'kingdom', 'keepass', 'vault', '.kdbx', 'keyfile', 'storage/deploying', 'ethic', '3-5', 'propublica', 'sentencing', '//www.propublica.org/article/machine-bias-risk-assessments-in-criminal-sentencing', 'recipe', 'mundane', 'happily', 'divyansh', 'agarwal', 'san', 'francisco', 'ride', 'rider-driver', 'essays', '//data8.org/', 'uc', 'berkeley', 'backup', 'prepped', 'invited', 'eats', 'maps', 'attended', '//marketplace.uber.com/matching', 'responding', 'meets', 'leeway', 'designers', 'functionally', '**you', 'interned', '230', 'fewer', 'occasions', 'buy-in', 'begun', 'surrounded', 'incredible', 'teammates', 'organized', 'poker', 'badminton', 'scopes', 'causality', 'a/bs', 'actively', '**hope', 'at**', 'careerfair', '//www.careerfair.io/reviews/datascientist', 'website/platform', 'sell/buy', 'buy/sell', 'data-scientists', 'data-scientist', 'consist', 'non-statistical', 'mistakenly', 'exported', 'revising', 'unprofessional', 'unfeasible', 'double', 'diverse', 'semi-automated', 'data-visualization', 'friends', 'self-study', 'business-facing', 'homerooms', 'highlights', 'trade', 'secrets', 'hopkins', 'contractors', 'security+', 'alumni', 'intention', 'enticing', '//www.reddit.com/r/datascience/comments/dn5uxq/amazon\\\\_data\\\\_scienceml\\\\_interview\\\\_questions/', '//www.reddit.com/r/datascience/comments/dn5uxq/amazon_data_scienceml_interview_questions/', 'kmeans', 'backprop', 'blew', 'kindness', 'cathartic', 'sheer', 'ill', 'systemic/institutionalized', 'racism', 'belief', 'systemic', 'racial', 'spirit', 'sociological/demographic/economic-related', 'constitute', 'rooted', 'resolve', 'architectures', 'informational', 'cost-effective', 'stats/it', 'disclosure', 'comparably', '*and*', 'poll', '//www.reddit.com/poll/gu1iqk', 'varients', 'seperate', 'system/approach', 'stress', 'for/wish', '\\\\~100k', 'played', 'two-player', 'readme.md', '//readme.md', 'overlooking', 'workspaces', 'politically', 'articulation', 'approvals', 'facts', 'choosen', 'css', 'bleak', 'calm', 'chill', 'simplistic', 'fake', 'about..', 'breathe', 'mull', 'devote', 'inconsistencies', 'uncover', 'alter', 'perceptions', 'optimistic', 'leverage', 'costumers', 'profits', 'confounding', 'detached', 'previsibility', 'predictability', 'depressing', 'arrived', 'walked', 'nitty', 'gritty', 'toed', 'stupidly', 'sorry..but', 'indexing', 'jargon', 'pry', 'freaks', 'upset', 'complicating', '1+', 'constructive', 'stayed', 'histogram', 'analogy', 'minimize', 'obscured', 'balance.', 'proved', 'zoned', 'stands', 'vice', 'president', 'howdy', 'similarly', 'veroni', 'styled', 'segregation', 'phrase', 'loser', 'adjustments', 'minima', 'stupidity', '**it', 'friday', 'vent', 'ed', 'prioritise', 'arguments', 'seatbelts', 'accidents', 'licence', 'inspected', 'dodgy', 'passengers', 'needless', 'appalled', 'rigs', 'heavier', 'scripts/tools', 'infosec', '41', 'scientist/engineer', 'programmin', 'ii', 'iii', 'java', 'ultimate', 'georgia', 'omscs', 'pornhub', 'viewing', 'load', 'convention', 'observed', 'bootstrap', 'vote', 'datastage', 'pro/con', 'permissions', 'ec2', 'environments/connect', 'test/backup', 'clarification', 'advocating', 'privileges', 'u/lacompacida', 'eloquently', 'referred', 'tradeoff', 'u/slightberry', 'stance', 'spinning', 'isolated', 'joe', 'shmoe', 'prod', 'ticket', 'stood', 'stressful', 'southern', '70k', '75k', 'january', 'fafsa', 'webscraping', 'hadoop/mapreduce/spark', 'promos', 'sairma', '☟', 'step-by-step', 'containerize', 'containerization', 'registry', 'gcr', 'moez\\\\_62905/deploy-machine-learning-model-on-google-kubernetes-engine-94daac85108b', 'moez_62905/deploy-machine-learning-model-on-google-kubernetes-engine-94daac85108b', 'modulated', 'implanted', 'bio-statisticians', 'overshadows', 'teammate', 'low-skilled', 'replaceable', 'bits', 'pieces', 'performs', 'ridge', 'wash', 'outperform', 'bing', 'scraped', 'textual', 'caption', 'autistic', 'matlab', 'matlabs', 'utter', 'unnecessarily', 'tick', 'outputting', 'selectable', 'schemes', 'fucking', 'moba', 'autochess', 'hearthstone', 'hsreplay.net', 'op.gg', 'winrates', 'diversity', 'comeback', 'interactivity/counterplay', 'cap/floor', '~200', 'juggling', 'waveform', 'oscilloscope', '//en.wikipedia.org/wiki/oscilloscope', 'persuasive', 'local-only', 'quad', 'ryzen', '3600', 'lang', '//www.r-project.org/', 'declare', '300-400', '100-200', '//www.gormanalysis.com/blog/reading-and-writing-csv-files-with-cpp/', 'admittedly', '//www.postgresqltutorial.com/import-csv-file-into-posgresql-table/', 'interfacing', 'tried-and-true', '*go', 'instinct', '//github.com/ben-strasser/fast-cpp-csv-parser', 'featuring', 'back-end', 'pysimplegui', '//pysimplegui.readthedocs.io/en/latest/', 'game-changer', '50-100', 'mutual', 'reformulate', 'backtest/validate', 'aggregated', 'kurtosis', 'payments', 'normalised', 'counted', \"'compound\", 'pcie', 'lanes', 'gpus', 'threadripper', 'forests', 'rnn', 'ambivalence', 'pour', 'michael', 'waskom', 'afternoon', 'influencer', 'tweeted', 'sucks', 'readings', 'sa', 'upwork/freelancer.com', 'plea', '99', 'up-skilling', 'ycombinator', 'developments', 'reported', 'sticky', 'treating', 'helper', 'crowd-sourced', 'episode', '262', 'donate', 'cause/charity', 'unsurprisingly', 'beat', 'counteract', 'arbitrarily', 'excluding', 'cliched', 'arithmetic', 'comprehend', 'practicing', 'multiplying', 'subtraction', 'fulfilling', 'prophecy', 'incompetence/insecurity', 'comparisons', 'mbas', 'acca', 'postgrads', 'bait-y', 'democratize', '1.', '2.', 'slides', '3.', 'irrelevant', 'presumably', 'cook', 'seafood', 'cook/waste', 'doable', 'throws', 'cooked', 'hundred', 'analyst/product', 'polarising', 'gradually', 'dir', 'decrease', 'avoids', '*why*', 'glaze', 'foolproof', 'chapter', 'polynomial', 'base+10', '+18k', 'rsus', 'flashiness', 'adoption', 'sparse', 'mac/linux', 'nvidia', 'graphics', '64gb', 'linux/mac', '**dean', '//www.reddit.com/r/datascience/comments/glfdmm/a_data_science_company_stole_my_gfs_ml_project/', 'authorised', 'litigation', 'republish', 'radio', 'stations', 'musicians', 'music', 'drudge', 'huffington', 'fark', 'newslookup', 'newsvine', 'wn', 'listing', 'deceive', 'ownership', 'hair-brained', 'deserving', 'deed', 'unpunished', 'aggravation', 'reward', 'attacked', 'awarding', 'embarrassed', 'penny', 'aggregator', 'oversite', 'hindsight', 'assure', 'convenient', 'sophomoric', 'unintentional', 'first-degree', 'murder', 'fooled', 'profession', '7th-grade', 'daughter', 'decipher', 'reader', 'trolling', 'punitive', 'silencing', 'congratulations', 'visibility-enhancing', 'dataiku', 'prize', '~400k', '20-30', 'discrete/categorical', 'numerical', 'platinum', 'cateogorical', 'age/how', 'calories', 'curated', 'pointing', 'filtered', 'custum', '0s', '1s', '2s', 'hackathons', 'contextual', 'cosine', 'extend', 'narrowed', 'washing', 'defective', 'equilibrium', 'theft', 'permission=theft', 'eight', 'kdnuggets', 'outlets', 'appeal', 'millions', 'fluffy', 'buzzword', 'bingo', 'cited', 'quotation', 'paraphrasing', 'releasing', 'blacklisted', 'issued', 'apology', 're-purposing', 'ngram', 'skyrocketed', 'curiously', 'adopted', '//books.google.com/ngrams/graph', 'content=deep+learning', 'year_start=1800', 'year_end=2008', 'corpus=15', 'smoothing=3', 'share=', 'direct_url=t1', '2cdeep', '20learning', '2cc0', 'cum', 'laude', '65k', 'lowered', 'negotiation', 'responds', 'machine-learning', 'surprise', '**dean-hoffman**', '//www.reddit.com/user/dean-hoffman/', '**posted', 'copy-pasted', 'reposting', '**ridiculously', 'founder', 'excellence', 'writers', 'bot-operated', 'copy+paste', 'techcrunch', 'confirmed', 'labs', 'pennsylvania', 'rights', 'infringe', 'tos', 'infringement', 'copyrighted', 'deleted', '//www.reddit.com/user/dean-hoffman/comments/gkoxpd/ai\\\\_and\\\\_real\\\\_state\\\\_predicting\\\\_rental\\\\_prices\\\\_in/', '//www.reddit.com/user/dean-hoffman/comments/gkoxpd/ai_and_real_state_predicting_rental_prices_in/', 'strict', 'protections', '24th', '2015-2019', '2015-2018', 'chunks', 'images/nlp', 'affair', 'workplace', 'unsatisfied', 'homelessness', 'urban', 'elsevier', 'springer', 'morph', 'conditional', 'defaulters', 'borrower', 'borrowers', 'imply', 'delinquencies', '9999', 'binning', 'expense', 'granularity', 'cutoff', 'building/ml', 'organise', 'learnings', 'artefacts', 'organising', 'kick', 'sidecar', 'security/compliance', 'snapshot', 'exec', 'ppt', 'notion/confluence/gdocs/something', 'single-use', 'build-in', 'flowers', 'accessed', 'csv-file', 'pre-selected', 'twice', '54k', 'obs', 'fund-string', 'scanning', 'faulty', 'attributed', 'non-match', 'unfortunate', 'bearable', 'streamline', 'ease', \"match/don't-match\", 'banned', 'hates', 'clicking', 'hidden', 'express', 'adept', 'invested', 'geez', 'reformatting', 'postprocesses', 'computationally', 'giant', 'unneeded', 'praises', 'probabilistic', 'membership', 'gift', 'mother', 'district', 'identifies', 'coordinates', 'powerschool', 'birthday', 'psychiatric', 'pharmaceutical', 'associations', 'look/ask', 'disposable', 'thier', 'mixture', 'gaussian', 'k-prototype', 'intuitive', 'fan', 'hometeam', 'ik', 'ping', 'pong', 'aav', 'durability', 'winshares', 'ppg', 'apg', 'neck', 'woods', 'product/overall', 'oc', 'heterogeneous', 'geographical', 'monitors', 'location/store', 'adwords/fb', 'in-store', 'gdpr', 'ccpa', 'compliance', 'geographic', 'emea', 'britain', 'apac', 'japan', 'programmatically', 'factual/foursquare', 'placeiq', 'groundtruth', 'cuebiq', 'x-mode', 'safegraph', 'hat', 'welcomed', 'tidytuesday', 'pythons', 'tidytuesday**', 'dependencies', 'install`ing', '//docs.conda.io/projects/conda/en/latest/user-guide/getting-started.html', '//docs.conda.io/projects/conda/en/latest/user-guide/tasks/manage-environments.html', '//haveagreatdata.com/posts/data-science-python-dependency-management/', 'whisperer', 'shortage', 'non-beginners', 'mesmerized', 'polished', 'self-education', 'slew', 'shockingly', 'unimaginative', 'repetitive', 'section', 'imported', 'pd.scatter\\\\_matrix', 'df.corr', 'homes', 'controlled', 'upsell', 'inspiration', 'dismayed', 'richness', 'submissions', 'fancy', 'fitted', 'variability', 'transformed', 'width', 'decay', 'death', 'foot', '2k', '40x', 'yalls', 'manageable', 'sanitize', 'similarities', 'considerations', 'politcal', 'questionnaire', 'itch', 'patients', 'ehrs', 'officially', 'avenues', 'science/analytics', 'suffice', 'arvix', 'crude', 'art', 'champions', 'reign', 'reigns', '==', 'fast.ai', 'practical/coding', \"'mathy\", 'intuitively', 'breadcrumbs', 'lexikon', 'spotify', 'announced', 'official', '//github.blog/2020-05-06-new-from-satellite-2020-github-codespaces-github-discussions-securing-code-in-private-repositories-and-more/', 'eye-catching', 'released', 'conjunction', 'satellite', '//medium.com/syncedreview/github-announces-codespaces-for-in-browser-coding-6c2240f1b911', 'influencers', 'parade', 'throwaway', 'contributor', '6+', 'dare', 'practitioner', 'followers', 'effusing', 'packaged', 'b-school', 'freely', 'platitudes', '*believe', 'searched', 'bust', 'stir', 'drama', 'twitter/linkedin', 'here**', '//www.reddit.com/r/datascience/comments/gfnax4/im_sick_of_ai_influencers_especially_ones_that/fpvvxsk', 'jealous', 'woman', 'salesman', 'shameless', 'self-promoter', 'listen', 'salesmen', 'grassroots', 'youth', 'afterschool', 'inner', 'inevitably', 'one-man', 'grades', 'volunteer', 'migrate', 'centralized', 'replicating', 'replicable', 'accommodate', 'open-source/low-cost', 'automatable', 'cross-platform', 'firebase', 'collaborators', 'advisors', 'indication', 'presents', 'capstone', 'rule', 'thumb', 'imperfect', 'deaths', 'windy', 'roads', '*really*', 'skillsets', 'cure', 'cancer', '*someone*', 'metric**', 'broader', 'can**', 'post-processed', 'skipped', 'demonstrating', 'muscles', 'play-by-play', 's.barkley', 'yard', 'nyg', 'statline', 'analysis**', 'secondly', 'lastly', 'designs', 'web-app', 'selections', '**work', 'alone**', 'corroborate', 'guarantee', 'seldom', 'punish', 'hardest', 'portion', 'googled', 'laggy', 'multi-output', '*two*', 'desmondyeoh/structuring-jupyter-notebooks-for-fast-and-iterative-machine-learning-experiments-e09b56fa26bb', '.net', 'clone', 'chest', '9+', 'analysis/', 'speech', 'impediment', 'stammer', 'doubted', 'lock-down', 'refined', 'polish', 'manager/business', 'ambition', 'consulting/implementation', 'manager-level', 'data/advanced', 'enhence', 'iseas', 'hirers', 'forgetting', 'cs/ds', 'applying/getting', 'sde', 'comparatively', 'fivethirtyeight', 'approval', 'polling', 'principal', 'prospective', '**bg', 'lookout', 'virus', 'recruit', 'prestigious', '**issue', 'needle', 'haystack', 'recruits', 'marks', 'crossed', 'disaster', 'rambling', 'individuals', 'handed', '**q', 'exhibited', 'symptoms', 'uploading', 'nightly', 'mlr', 'overnight', 'names/types', 'job/etl', 'trainees', 'detector', 'recruited', 'beginner-intermediate', 'breadth', 'practicality', 'scientists/analysts', 'cataloging', 'traceable', 'demonstration', 'shorter', '`unstack`', 'accompanying', '`set_index', '`groupby`', '`df.duplicated', 'esp', 'duplicate', 'df.duplicated', \"'a\", \"'b\", 'keep=false', 'b.', '~df.cola.isin', 'df1.colb', '\\\\`merge\\\\`', '`vlookup`', '`indexmatch`', 'drop\\\\_duplicates', 'extraordinary', 'recover', 'extreme', 'strange', 'hone', 'speaking', 'familiarizing', 'freezing', 'pounding', 'palms', 'sweaty', 'tunnel', 'baby', 'datascientist', 'remuneration/benefits', 'geography', 'citizens', 't.', 'exposed', 'myriad', '2/3', 'one-shot', 'quick-win', 'reinventing', 'wheel', 'reused', 'flowing', 'well-measured', 'post-production', 'ceteris', 'paribus', '0.1-5', 'legalese', '//www.tensorflow.org/certificate', 'id/passport', 'webcam', 'beforehand', 'strongly', '//www.coursera.org/specializations/tensorflow-in-practice', 'finishes', 'drawback', '\\\\~10mins', '//www.tensorflow.org/datasets', 'load\\\\_data', 'notably', 'low-stress', '//www.reddit.com/r/datascience/comments/b3gawa/what\\\\_are\\\\_good\\\\_careers\\\\_for\\\\_shitty\\\\_data\\\\_scientists/', '//www.reddit.com/r/datascience/comments/b3gawa/what_are_good_careers_for_shitty_data_scientists/', 'easygoing', 'listings/openings', 'demotivated', 'dismal', 'bitter', 'taste', 'mouth', 'hyperbolic', 'backstory', 'revolve', \"'promises\", 'retrospect', 'red-flag', 'hoped', 'contracts', 'hopper', 'nov/dec', 'unsuccessfully', 'transferred', 'promising', 'feb/mar', 'flimsy', 'perfectly', 'de/etl', 'suit', 'wtf', 'transitioned', '.the', 'sits', 'prioritized', 'outright', '**ds', 'week**', 'adapted', 'pitches', 'mission', 'monetize', 'holistically', 'administrate', 'synergy', 'science/ml/ai', 'enthusiasts', '80+', 'pressuring', 'medium-sized', '90k/year', '1200/month', '2-bedroom-2-bathroom', 'apartment', 'criticized', 'offices', 'hardworking', 'stunningly', 'separating', 'causation', 'healthy', 'transparent', 'caring', 'company-wide', 'pto', 'incompetent', 'amid', 'criminal', 'micro', 'shocked', 'grammar', 'correlate', 'progressions', 'bachelors/relevant', 'masters/', 'ceilings', 'underqualified', 'disqualifies', 'ml/modelling', 'underpaid', 'infra', 'disillusioned', 'inflated', 'modelling/ml', 'nationality', 'newer', 'coronavirus', 'founded', 'milk', 'honey', 'episodes', 'nevertheless', '400', 'nuance', 'transformation/analytics', 'bcg', 'gamma', 'finishing', 'm7', 'upskill', 'recession', 'skills/concepts', 'insourcing', 'euphoria', '//www.mckinsey.com/business-functions/mckinsey-analytics/our-insights/why-data-culture-matters', 'citing', 'skepticism', 'in-', 'arise', 'realization', 'tank', 'supportive', 'tends', 'addiction', 'targeted', 'interesting/unexpected', 'human/etc', 'behavior/the', 'incognito', 'thankful', 'ttest', 'homogeneity', 'hardly', 'committee', 'floored', 'coherent', 'title/role', 'entails', 'keen', 'boxes', 'glaring', 'offenders', 'conscientious', 'degrading', '2010', 'ranks', 'macro', 'bread', 'butter', 'vizs', 'anecdote', 'knock', 'interactives/viz', 'pythonistas', 'bash', 'awk', 'analysts/scientists', 'pe', 'hf', 'critique/help', '~4', 'ml/dev', 'undetected', 'commits/merge', 'results/objects', 'triggers', 'on-prem', 'usable', 'devops/linux', 'moderate', 'pipeline/modeling', '~6', 'workstations', 'silver', 'incorporate', '**data', 'extraction/processing', 'engineering/data', 'definitions', '*very*', '**modeling', 'ingest/validation', '**reporting', 'separately', 'specification', 'functional', 'tied', 'disaggregate', 'repositories/tasks', 'mirrors', '//dvc.org/', 'minio', '//min.io/', 'dags', 'teach/talk', 'robust/transparent', 'shareholders', 'satisfied', 'lateral', 'raytheon', 'ula', 'compensated', 'staring', 'depended', 'hated', 'apr', 'runescape', 'neopets', 'wishing', 'scarce', 'uncertain', 'empathize', 'professionals/students', 'alike', 'recruiters/managers', 'research/analytics', 'gunning', 'r/datascienceadmissions']\n",
            "['trigger', 'transportation', 'hail', 'reimagine', 'pokemon', 'trainer', '*redacted*', 'litter', 'canada', 'walder', 'medici', 'photo', 'hedges', 'extreme', 'speed', 'excruciatingly', 'pace', 'sustenance', 'physical', 'surely', 'mount', 'picking', 'trained', 'adopt', 'appearances', 'unnoticed', 'whispers', 'valentines', '😂', 'quote', '\\\\-', 'rogue', 'delight', 'feedback', 'handled', 'wise', 'colour', 'heavily', 'focoused', 'giant', 'beasts', 'inteligent', 'tgink', 'undergo', 'developments', 'hardcore', 'atonement', 'cells', 'responsible', 'imprisonment', 'on-screen', 'thasliii', 'sticker', 'umayyad', 'abbasid', 'foreign', 'perception', 'lot..', 'dialog', 'rescue', 'heartwarming', 'bits', 'fantastic', 'liking', 'motive', 'melted', 'scratching', 'cheapest', 'giggling', 'viimorteart', 'adah', 'sharma', 'beginner', 'rendation', 'beat', '1v1', 'confession', 'quicker', 'contenders', 'loads', 'specific', 'majorly', 'improved', 'effect', 'sake', 'surprising', 'heck', 'consolation', 'prize', 'yells', 'distracting', 'nope', 'forgiving', 'complications', 'bruise', 'impactful', 'removed', 'firmly', 'collapsing', 'reuniting', 'permanent', 'hand-print', 'mark', 'grabbed', '@', 'portmates', 'insta', 'throwback', 'sdcc', 'cuz', 'cons', 'unsolved', 'young', 'earn', 'services', 'someday', 'stabs', 'reference', 'nonetheless', 'pickup', 'jus', 'determined', 'seeking', 'manipulator', 'pre-credits', 'tapestry', 'bruno', 'laser', 'coasters', 'microphones', 'hiphop', 'mashup', 'credits', 'sean', 'bean', 'serves', 'butt', 'naked', 'cliffhanger', 'ptsd', 'everytime', 'compare', 'airs', 'incompetent', 'directors', 'filling', 'void', 'likes', 'altered', 'carbon', 'declining', 'ozark', 'listed', 'vibe', 'intend', '2018', '2019', 'announce', 'hooks', 'balls', 'storyline..', 'af', 'bridge', 'heading', 'babe', '\\\\^\\\\_\\\\^', 'intensely', '5|', 'lightheaded', 'pebble', '//youtu.be/xrbbj0cvty8', 't=628', '//www.reddit.com/poll/hupk2g', 'amory', 'lorch', 'wee', 'bairn', 'swearing', 'oaths', 'trend', 'sorts', 'digitally', 'celebrating', 'familiar', 'skins', 'joe', 'dempsie', 'hannah', 'murray', '//preview.redd.it/lekqm4tjnwb51.jpg', 'width=800', 's=05c6ad72fc9ce0579fc4c0fdca3dddf0c32d7cf1', '//preview.redd.it/ikxxjc1jnwb51.jpg', 'width=640', 's=211d4a905a1f0dafb53f0c0882faaaf1c193a66d', 'discovered', 'cicities', 'families', 'governments', 'kl', 'twitter', 'discretion😑', 'viewers', 's8e1', 'stuck', 'symbol', 'unfaithfulness', 'reacts', 'cliche', 'chambers', 'infront', 'statue', 'sobbing', 'correct', 'crying', 'understated', 'intense', 'violently', 'communicate', 'quietly', 'nodding', 'marriage', 'uncomfortable', 'fathers', 'kidnapped', 'lied', 'belittled', 'mocked', 'excluded', 'shunned', 'gut', 'cheap', 'tool', 'quarrel', 'upheaval', 'targaryns', 'kidnapping', 'caring', 'pursuing', 'direct', 'result', 'grim', 'reminder', 'collapse', 'suffering', 'tribulation', 'trap', 'repeating', 'mistakes', 'sleeping', 'impulse', 'steal', 'repeatedly', 'loud', 'interpersonal', 'repercussions', 'targaryn', 'utilitarian', 'results', 'sayin', 's4', 'e10', 'catylen', 'brandon', 'faithful', '//www.reddit.com/poll/hucnbm', 'gendri', 'eased', 'respected', 'couldve', 'rage', 'provoke', 'evidence', 'nicely', 'ms.', 'sacking', 'lansing', 'undefended', 'vanished', 'sustained', 'losses', 'assistance', 'presumably', 'loyal', 'vanishing', 'hole', 'lunch', 'exterior', 'lasted', 'concentrated', '200,000', 'dropping', 'precision', 'radiation-free', 'nuke', 'park', 'indiscriminate', 'calculated', 'intimidation', 'tactic', 'triggered', 'commoners', 'narratively', 'salvageable', 'investing', 'robbs', 'climax', 'introduction', 'thats', 'tone', 'memorable', 'widely-asked', 'introduce', 'settled', 'vi', 'committed', '_', 'pious', 'vanish', 'article', \"'how\", 'stool', 'risk', 'agot', 'washing', 'machine', 'chills', 'ramin', \"djawadi's\", 'intensity', 'non-nonsensical', 'mistress', 'formal', 'daughters', 'myrcella', 'manage', 'dubious', 'relation', 'martells', 'tommen/cersei', 'strangely', 'intervene', 'ruling', 'ep10', 'tyrells', 'independently', '*for', 'year*', 'principal', 'addition', 'hypothetically', 'deploy', 'strategies', 'isles', 'assume', 'leaderless', 'resistance', 'pose', 'challenge', 'vector', 'badass', 'nudity', 'violence', 'nude', 'ugliest', 'crier', '//www.reddit.com/poll/htm3ou', 'sheltering', 'behaving', 'basis', 'resurrection', 'deceased', 'god-tier', 'visionary', 'misjudgement', 'comfortable', 'transporting', 'crate', 'tombs', 'graphic', 'designers', 'dm', 'exposure', 'diy', 'egg', 'factor', 'loyalty', 'hinting', 'compressed', 'elongated', 'address', 'issues', 'terms', '//www.reddit.com/poll/ht9x3k', 'presidents', 'luck', 'drunk', 'evidently', 'browsing', 'evening', 'revisited', 'rescore', 'pair', 'popped', 'vaporwave', 'brothers', 'themed', 'roday', 'hyped', 'hm', 'water/the', 'spoils', 'hardholm', 'scariest', 'sunk', 'awaited', 'masterful', 'grounded', 'gawd', 'satisfaction', 'describe', 'matched', '200', 'rag', 'criminals', 'blend', 'egret', 'brave', 'pips', 'goosebumps', 'courage', 'insult', 's1e4', 'marveling', 'gasps', 'confidence', 'banner', 'demanding', 'expressions', 'turned', 'powerhouse', 'embodies', 'emotions', 'regality', 'cursed', 'among', 'wallet', 'birthday', 'keeper', 'jons', 'sending', 'nightswatch', 'militarized', '*every*', 'non-combatants', 'rigid', 'structure', 'square', 'applies', 'participates', 'ladies', 'trade', 'armored', 'ornate', 'multi-colored', 'dresses/jewels', 'ditched', 'greek', 'goddess-like', 'gowns', 'alternates', 'space-age', 'fur', 'lined', 'queenly', 'moved', 'locations', 'climates', 'require', 'lighter', 'bulk', 'furs', 'tyene', 'craster', 'happily', '//preview.redd.it/r8a1gfxu07b51.png', 'width=2880', 's=98821ba7ec50cda7537517727bb7524e7760cb6f', '//preview.redd.it/hoq2espw07b51.jpg', 'width=1920', 's=72c2a73a2afc6dbc63bd9d1345a67c63c05539c8', 'shiny', 'era', 'essentially', 'nominally', 'scar', 'long-term', 'governance', 'deposed', 'decades', 'underprivileged', 'amass', 'devotees', 'shortly', 'thereafter', 'abuse', 'prepared', 'depicted', 'fave', '//www.reddit.com/poll/hs45je', 'well..i', 'apologies..i', 'debrief', 'godhood', 'skills', '//www.reddit.com/poll/hrzfka', 'drawer', 'mock', 'joestsars', 'jojo', 'adventure', 'blurays', 'backlash', '//www.reddit.com/poll/hrgzd3', 'endings', 'lynesse', 'hightower', 'sparks', 's1e5', 's2e7', 'linking', 'em', 'pencil', 'trent', 'redmond', \"'the\", 'edition*', 'lannister/brienne', 'drinking', 'contest', '21st', 'century', 'vulgar', 'virgin', 'reductive', 'crediting', 'abusers', 'bird', 'reject', 'proposal', 'poignant', 'informed', 'evoked', 'rhaenyra', 'ii', 'convenience', 'staged', 'unrealistic', 'implausible', 'loyalists', 'injury', 'unseat', 'grief', 'sexist', 'coined', \"'who\", 'rules', 'arianne', 'talla', \"'because\", 'ignores', 'superiority', 'purely', 'spite', \"'stay\", 'response', 'explicitly', 'parallel', 'impulsive', 'vent', 'saul', 'wash', 'sight', '*there', 'editions', '7/10', 'infiltrate', 'faking', 'twoiaf', 'wherein', 'remained', 'autumn', 'howling', 'ascent', 'p.172', 'affc', 'primed', 'patient', 'readers', 'grooming', 'harrold', 'hardnyng', 'regent', 'sickly', 'alteration', 'occurrence', 'flew', 'vhagar', 'inner', 'yard', 'alayne', 'waycastles', 'prudent', 'waddle', 'amiright', 'unimpressed', 'nonchalant', 'climbing', 'stairs/arya', 'grin/jamie', 'death/dothraki', 'hoard', 'kneeled/ser', 'kneeled/tyrion', 'differentiating', 'depth', 'featured', 'overrated', 'morning', 'rumor', 'fame', 'garvonka', '//www.instagram.com/gavronka_/', 'awards', 'robbed', 'harrington', 'guest', 'ass', 'flabbergasted', 'sag', 'award', 'ensemble', 'deborah', 'riley', 'production', 'none', 'imho', 'pits', 'runner-ups', '//www.reddit.com/r/gameofthrones/comments/hqosj3/spoilers\\\\_best\\\\_fights\\\\_in\\\\_game\\\\_of\\\\_thrones\\\\_final/', '//www.reddit.com/r/gameofthrones/comments/hqosj3/spoilers_best_fights_in_game_of_thrones_final/', '//www.reddit.com/poll/hqowq5', 'speaking', 'vanquished', 'society', 'inheritance', 'agreed', 'avoid', 'closest', 'imminent', 'doorstep', 'wreak', 'havoc', '--', 'ridiculousness', 'lessons', 'votes', '//www.reddit.com/r/gameofthrones/comments/hqowq5/spoilers\\\\_best\\\\_fights\\\\_in\\\\_game\\\\_of\\\\_thrones\\\\_bonus/', '//www.reddit.com/r/gameofthrones/comments/hqowq5/spoilers_best_fights_in_game_of_thrones_bonus/', '//www.reddit.com/poll/hqosj3', 'bait', 'untrue', 'comprehensive', 'breaker', 'misplaced', 'socially', \"'justice\", 'firm', 'allowing', 'effected', 'tact', 'refuses', 'unfit', 'pushed', 'standing', 'promises', 'secrecy', 'hung', 'unneeded', 'villainous', 'angered', 'excuse', 'seek', 'betrothed', 'liar', 'lies', 'crime', 'folly', 'complains', 'resigns', 'targeted', 'actively', 'convenient', 'likelihood', 'willing', 'offered', 'protection', 'slip', 'waits', 'danger', 'doubt', 'examples', 'hows', 'obsessed', 'expense', 'lucifer', 'gruff', 'complection', 'ruin', 'supposedly', 'pls', 'essay', 'youtuber', 'demands', 'arguing', 'deceived', 'reasoning', 'leather', 'seats', 'shades', 'amazon', 'aeron', 'praise', 'appreciated', 'commitment', 'parallell', 'pounding', 'unpack', 'excellent', 'handle', 'suspense', 'aria', 'baddest', 'asha', 'inhaled', 'loudly', 'shopping', 'boundaries', 'lots', 'subjugated', 'economic', 'benefit', 'argument', 'transport', 'n.ireland', 'visit', 'ellari3l_cosplay', 'dismiss', 'brief', 'alaskan', 'r+l', 'j', 'groundwork', 'crazier', 'brethren', 'senselessly', 'backstabbed', 'affiliations', 'assumed', 'hearts', 'presume', 'indeed', 'fateful', 'begs', 'noses', 'illusory', 'necklace', 'self', 'hue', 'shells', 'focus', 'heroic', 'cook', 'flame', 'cooked', 'bath', 'alludes', 'crustaceous', 'crusader', 'destined', 'freedom', 'speculated', 'highlight', 'fragility', 'annihilation', 'superior', 'species', 'priestesses', 'exhausted', 'ruler', 'persecute', 'masterfully', 'highlights', 'fleeting', 'humans', '//imgur.com/gallery/4ayhwnk', 'pandemic', 'approaching', 'prioritized', 'defending', 'former', 'coin', 'acutely', 'aware', 'financial', 'difficulties', 'resolving', 'valuable', 'readily', 'eyed', 'dormant', 'generic', 'quest', 'resolution', 'chase', 'intermittent', 'culminating', 'reestablishing', 'castles', 'explored', 'regions', 'struggled', 'alot', '//www.reddit.com/poll/hpxtcn', 'survivors', 'myraham', 'seaguard', 'captain', 'peppercrab', 'stew', 'camped', 'thinning', 'catches', 'contraption', 'pulled', 'inside', 'loose', 'curly', 'merged', 'interact', 'filmed', 'separately', 'farther', 'corpses', 'savagely', 'feasters', 'strewn', 'overturned', 'chairs', 'hacked', 'trestle', 'tables', 'asprawl', 'pools', 'congealing', 'limbs', 'heads', 'severed', 'clutched', 'cups', 'spoons', 'roast', 'fowl', 'leg', 'lamb', 'scepter', 'mute', 'appeal', '48', '**sss', 'direwolves', '**s', 'mance', 'rayder', '**a', '**b', '**c', '**d', 'janos', 'slynt', '**f', 'pycelle', '**per', 'judging', 'sit', 'persuasive', 'charismatic', 'v=lpqrz974v4k', 'kracken', 'federico', 'musetti', 'roght', 'drawls', 'threw', 'drawl', 'symptoms', 'coronavirus', 'ant', 'improvised', 'frauds', 'legacy', '1-year', 'retrospective', 'simple', 'bed', 'decree', 'invalided', 'jon/aegon', '1er', 're-watching', 'manse', 'raider', 'lings', 'certain', 'border', 'mexico', 're-watched', '–', 'waterfall', 'skylarkling', 'dragonback', 'wished', 'emerges', 'unburned', 'throws', 'possibilities', 'subversive', 'anti-hero', 'one-note', 'furthermore', 'returning', 'seasoned', 'spanning', 'defiance', 'duskendale', 'predominantly', 'exploring', 'exploration', 'sucker', 'learnt', 'newbie', 'preparing', 'prime', '//www.reddit.com/poll/hpadmp', '\\\\', 'spoilers\\\\', 'coupe', 're-reading', 'wen', 'bc', 'spoil', 'spoiling', '**is', 'rivals', 'seriousness', 'unleashing', 'choreography', 'grips', '**i', 'lotr', 'comparison', '//preview.redd.it/0pn8dv43b6a51.png', 'width=1918', 's=a4f70d4f6c27511b14171ca2a0a9be029d617336', 'metaphor', 'figures', 'represent', 'devil', 'angel', 'opposite', 'sister-wives', 'mix', 'mannis', 'artur', 'tarnowski', 'sahin', 'duezguen', '//youtu.be/pwc-8qqp-qi', 'delete', 'physics', 'expert', 'unskilled', 'misunderstandings', 'lore', 'passages', 'affected', 'failing', 'sidetrack', 'exists', 'hllor', 'unpredictable', 'books/show', 'center', 'spiraling', 'downvote', 'doom', 'fourteen', 'erupted', 'widely', 'debated', 'volcano', 'drifting', 'orbit', 'entering', 'belt', 'cluster', 'comet', 'tangle', 'myrish', 'lyseni', 'legend', 'tellls', 'hatched', 'shadow', 'alas', 'journeyman', 'pen', 'chains', 'valar', 'morghulis', 'ig', 'usual', 'established', 'logical', 'conclusions', 'explaining', 'unfair', 'fot', '😍😍', '//youtu.be/bods-az4jn4', 'bothering', 'direwolf', 'quickie', 'piano', 'inheriting', 'it/forgot', 'corlys', 'velaryon', 'snake', 'fabled', 'tides', 'dracarys', 'devan', 'spin-off', 'halfway', 'amazed', 'detest', 'loathe', 'shamed', 'allegiance', 'treasonous', 'themes', 'g.o.t', 'remind', 'constantly', 'wed', 'strength', 'dragon/targaryan', 'defined', 'unselfish', 'belonging', 'outcast/black', 'sheep', 'mistreated', 'bitter', 'belonged', 'arrogance', 'self-confidence', 'via', 'torture', 'captive', 'fantasy', 'dandy', 'charming', 'reality', 'bitch-slap', 'witnessed', 'beheaded', 'effectively', 'intentions', 'passion', 'sexual', 'ardor', 'is…', 'inhumanity', 'debate', '//passtime.fun/crossletters/play/39', 'preview', '//i.imgur.com/ixb68en.png', 'tough', 'howuch', 's04e02', 'dancing', 'tirion', 'helper', 'lightsaber', 'seed', 'item', 'branimal', 'spin', '👁️🐺🦅', '//www.reddit.com/poll/ho0974', 'collectors', 'p.r', '//preview.redd.it/gsv9m2q2sv951.jpg', 'width=600', 's=07f550c43c6c3894e32e3b972c4de1061f41d17f', '//preview.redd.it/aluas7q2sv951.jpg', 'width=402', 's=c49893a9d3117b67c104aa1496118306d6245d1f', 'pictures', 'v=xf\\\\_8tkjilmc', 'v=xf_8tkjilmc', 'words', 'who-s', 'accepting', 'lessening', 'empowering', 'focusing', 'tying', 'calculated-seeming', 'tyrion/dany', 'grieving', 'prefer', 'resignation', 'appointed', 'shattered', 'repair', 'lesser', 'collateral', 'righteous', 'implement', 'presence', 'holes', 'vacillating', 'ratings', '+', 'televison', 'briann', 'tarth', 'reny', 'priestess', 'cosplaying', 'edited', 'queens', 'benefited', 'heel', 'punishment', 'power/lands/assets', 'bind', 'theres', 'forgive', 'heirs', 'maesters', 'warned', 'emissary', 'confident', 'device', 'romance', 'permitted', 'parrot', 'calls', '7x03', 'sovereignty', 'confessed', 'paternity', 'grenade', 'mixed', 'courtier', 'chew', 'toy', 'grabbing', 'olympics', 'manipulate', 'courtiers', 'mea', 'muscle', '//www.reddit.com/r/gameofthrones/comments/hno7zt/spoilers\\\\_best\\\\_fights\\\\_in\\\\_game\\\\_of\\\\_thrones\\\\_part\\\\_5/', '//www.reddit.com/r/gameofthrones/comments/hno7zt/spoilers_best_fights_in_game_of_thrones_part_5/', '//www.reddit.com/poll/hnopxy', 'mdf', 'lights', 'starnado', 'creations', 'fb', '5-', 'modified', 'feature', '//www.reddit.com/r/gameofthrones/comments/hnnlwb/spoilers\\\\_best\\\\_fights\\\\_in\\\\_game\\\\_of\\\\_thrones\\\\_part\\\\_4/', '//www.reddit.com/r/gameofthrones/comments/hnnlwb/spoilers_best_fights_in_game_of_thrones_part_4/', '//www.reddit.com/poll/hno7zt', 'steady', 'progress', 'nymeria', 'sort-of', 'penance', 'upvote', 'outs', 'ate', 'ball', 'fatness', 'havnt', 'packed', 'politics', 'enlighten', '//www.reddit.com/poll/hnn9q5', '//www.reddit.com/r/gameofthrones/comments/hn15ux/spoilers\\\\_best\\\\_fights\\\\_in\\\\_game\\\\_of\\\\_thrones\\\\_part\\\\_3/', '//www.reddit.com/r/gameofthrones/comments/hn15ux/spoilers_best_fights_in_game_of_thrones_part_3/', '//www.reddit.com/poll/hnnlwb', 'mugs', 'reads', 're-do', '..i', 'confess', 'frodo', 'congrats', 'sisters', 'disliked', 'claiming', 'brien', 'sleep', 'floor', 'trunk', 'supper', 'tricks', 'daddy', 'cuts', 'troll', 'trolled', 'gods', 'april', 'fools', 'backstory', 'sides', 'unbearable', 'versions', 'appeared', 'clean', 'ffs', 'official', 'contain', 'yay', 'v=h-out\\\\_vv88e', 'v=h-out_vv88e', 'devote', 'targareyns', 'danny', 'king/queen', 'regardless', 'secession', '//www.reddit.com/r/gameofthrones/comments/hn0g22/spoilers\\\\_best\\\\_fights\\\\_in\\\\_game\\\\_of\\\\_thrones\\\\_part\\\\_1/', '//www.reddit.com/r/gameofthrones/comments/hn0g22/spoilers_best_fights_in_game_of_thrones_part_1/', '//www.reddit.com/poll/hn0vsn', 'bricks', 'savage', '**note', '*jon', 'bolton*', 'option', '***just', 'gates***', 'arrows', 'beats', '//www.reddit.com/r/gameofthrones/comments/hn0vsn/spoilers\\\\_best\\\\_fights\\\\_in\\\\_game\\\\_of\\\\_thrones\\\\_part\\\\_2/', '//www.reddit.com/r/gameofthrones/comments/hn0vsn/spoilers_best_fights_in_game_of_thrones_part_2/', '//www.reddit.com/poll/hn15ux', 'needs', 'referred', 'refer', 'addressed', 'recall', '//www.reddit.com/poll/hn0g22', 'covid', 'mask', 'aemon', 'was..', 'glimpse', '*love', 'duty*', 'hindsight', 'mother😭', '10x', 'prologue', 'ladder', 'ros', 'shae', 'cinematic', 'beauty', 'episdoe', 'crossed', 'boat', 'exact', 'simultaneously', 'hastings', 'catastrophe', '1914', 'audible', 'incident', 'escalated', 'reformed', 'figureheads', 'till', '1918', '1945', 'depending', 'lockdown', 'sours', 'rewatchability', '5-6', 'consistently', 'noticably', 'worse', 'ep', 'cringey', 'writes', 'memoir', 'cercei', 'mask/face', 'study', 'wyman', 'manderly', 'burbrey', 'dustin', 'defect', 'secure', 'skagos', 'asked', 'belief', 'ressurect', 'ressurected', 'amdist', 'tears', 'amidst', 'passes', 'bleeding', 'afterwards', 'execute', 'tempering', 'reborn', 'sometime', 'raegar', 'reenforcing', 'arriving', 'exercise', 'showrunners', 'achievement', 'professional', 'botched', 'rushing', 'fixing', 'store', 'plotted', 'hauling', 'marked', 'unknowingly', 'ancient', 'protecting', 'underneath', 'weapons', 'mammoths', 'swarm', '999th', 'commander', 'eddison', 'tollett', 'breaches', 'strolling', 'raising', 'signified', 'dolorous', 'edd', 'rising', 'ranks', 'entourage', 'seige', 'characterization', 'odds', 'randall', 'dickon', 'refusing', 'bay', 'surrounding', 'overhead', 'starve', 'inciting', 'uprising', 'dissimilar', 'yunkai', 'sends', 'garrisons', 'directions', 'hearth', 'karhold', 'deepwood', 'motte', 'dreadfort', 'newly', 'headed', 'ancestral', 'overrun', 'informs', 'arrived', 'setting', 'convince', 'playful', 'banter', 'helps', 'forcing', 'dragonpit', 'arranged', 'angle', 'prepare', 'costs', 'dedicated', 'loathing', 'builder', 'thousands', 'prison', 'suffer', 'commences', 'wayside', 'injuring', 'flies', 'hero', 'gather', 'duels', 'bests', 'fatal', 'nowhere', 'presumed', 'lunges', 'plunges', 'dragonglass', 'burst', 'breathes', 'sigh', 'relief', 'immediate', 'calvary', 'helm', 'scorned', 'decimating', 'turncoats', 'slaughter', 'harbor', 'securing', 'subplots', 'flirting', 'foundation', 'consummating', 'howland', 'greywater', 'grieve', 'jojen', 'consummated', 'culmination', 'bleed', 'watches', 'massacred', 'reign', 'terror', 'brotherhood', 'narrative', 'purposes', 'bearing', 'disillusioned', 'heals', 'stopping', 'unbelievably', 'idiotic', 'stood', 'fruition', 'thankful', 'declared', 'excised', 'peace', 'crimes', 'drinks', 'task', 'rebuilding', 'spearheads', 'continuing', 'injured', 'slipping', 'cue', 'torn', 'compelled', 'rallies', 'condition', 'roaring', 'concerned', 'telephone', 'unbeatable', 'motley', 'crew', 'worries', 'frees', 'surrender', 'gates', 'torch', 'sneak', 'quests', 'armys', 'overwhelm', 'backed', 'corner', 'nexus', 'civilians', 'liberating', 'wind', 'scorpions', 'shots', 'swaths', 'raining', 'cleganebowl', 'advertised', 'manic', 'desperation', 'ignite', 'wildfyre', 'stores', 'wraps', 'chokes', 'crushing', 'bloodbath', 'dazed', 'stumbles', 'surveying', 'similarly', 'tries', 'justify', 'resolves', 'devastation', 'revel', 'victory', 'plunging', 'freeing', 'grip', 'tyrant', 'walks', 'flying', 'leaders', 'treason', 'news', 'spread', 'wide', 'reward', 'contribution', 'sewer', 'drainage', 'reclaims', 'kisses', 'asks', 'matthos', 'country', 'begin', 'explorer', 'discovers', 'americos', 'forests', 'wrapped', 'hailed', 'instant', 'judged', 'virtually', 'internal', 'logic', '//www.reddit.com/poll/hmakvn', 'incest', '6.10', 'non-book', 'reader', '59', 'incestuous', 'underemphasised', 'compass', 'rails', 'non-argument', 'reopened', 'rooting', 'blown', 'wound', \"'is\", \"'oh\", 'partner', \"'do\", 'worry', '*later*', 'citizen', \"'argh\", 'swarms', 'noooo', '*angry', 'expression', 'mounts', 'escapes', \"'no\", 'articles', 'slight', 'shouldve', 'rode', 'depend', 'mercy', 'symbolism', 'pointless', '7x5', 'eastwatch', 'targaryen/stark/greyjoy/tully/dornish/leftover', 'loyalist', 'figure', 'depleted', 'ambush', 'increasing', 'despair', 'ongoing', 'keeping', 'triggering', 'burn/accidental', 'setoff', 'justifies', '9/episode', '//www.reddit.com/poll/hllu6l', 'dramatically/secretly', 'minute', '//youtu.be/xf_8tkjilmc', 'hours', 'popcorn', 'attacking', 'chain', 'archived', 'commentary', 'blu-ray', 'vfx', 'department', 'concept', 'explosion', 'storyboards', 'allegedly', 'landing—they', 'green', 'fascinating', 'infuriating', 'rendition', 'troc', 'e1', 'plex', 'library', 'enter', 'narration', 'describes', 'area', 'accessible', 'disrepair', 'boarded', 'entrances', 'murderer', 'advancing', 'dudes', 'walking', 'overjoyed', 'purchase', 'magali', 'villanueva', 'insane', 'harsh', 'reached', 'cheer', 'met', 'nation', 'fender', 'guitars', 'elenastripe', 'taiwanese', 'eng', 'clip', 'v=yn8gqt7xuxs', 'includes', 'rumours', 'secondly', 'speculating', 's8e3', 'acrylic', 'vans', 'traveling/timeline', 'criticisms', '7/8', 'teleport', 'guide', 'capturing', 'forget', 'indication', 'capital', 'needing', 'narrow', 'sail', 'elena', 'compared', 'paint', 'muciano', 'ultra', 'rough', 's04e09', 'stakes', 'tracking', 's03e09', 's06e09', 'basterds', 'fire-breathing', 'visually', 'stunning', 'described', 'rant', 'elect', 'dirty', 'june', 'f', 'k', 'n', 'cringe', 'destroy', 'morals', 'rewrote', 'videogame', 'drew', 'inactive', 'subreddit', 'subscribers', 'saga', 'sentence', 'clue', 'screwing', 'track', '**if**', 'dare', '//preview.redd.it/oo811yikpo851.png', 'width=1524', 's=50d8ba43bce1b7ae2e178ff11426cc910cff53fc', 'heh', 'lord.', 'doubted', 'w/', 'hooked', 'unite', 'ww', 'realised', 'intent', 'baited', 'queenslayer', 'crossing', 'silly', 'borked', \"'seeing\", 'sweet', 'inform', 'contribute', 'wouldnt', 'kat', 'leannas', 'fourth', 'detail', 'popularly', 'childbirth', 'stafford', 'good-brother', 'joanna', 'session-', 'dear', 'assignment', 'tessa', 'y/o', 'dutch', 'student', 'studying', 'creative', 'subject', 'participatory', 'cultures', 'analyse', 'exited', 'dive', 'normally', 'reply', 'project', 'research', 'encountered', 'distributors', 'gender', 'f/m/x', 'optional', 'meaningful', 'contributing', 'user', 'generated', 'text', 'posted', 'users', 'platforms', 'professionalise', 'answering', '**any', 'perceive', 'welcome', 'nouveau', 'attached', 's8e4', 'funeral', 'djawadi', 'unreal', 'essential', 'conveys', 'immense', 'develop', 'thoroughly', 'remarkable', 'composer', 'fronts', 'dragoons', 'potentially', '3:9', \"y'all\", 'mahqueen', 'hostage', '__greyjoy', 'rebellion__', 'includign', '^^lannister^^', '^^stark^', '^^tully^^', 'behest', 'greyjoys', 'failed', 'bid', '__theon', 'greyjoy__', 'ward', '__eddard', 'stark__', '__theon__', '__hostage__', 'quoted', 'joker', 'stable', 'threatens', '180', 'monroeidiot', 'torrhen', 'knelt', 'reigned', 'invaded', 'submitting', 'inspiration', 'dion', 'mysteries', 'plotlines', 'differ', 'skip', 'complaining', 'orchestrated', 'peter', 'squarely', 'restoration', 'schemings', 'illyrio', 'mopatis', 'strictly', 'majority', 'polar', 'opposites', 'admire', 'narcissistic', 'relevant', 'marches', 'promising', 'river', 'marrying', 'ordering', 'secures', 'loan', 'akin', 'hire', 'mercenaries', 'relative', 'placed', 'neither', 'disgust', 'reluctant', 'acceptance', 'flock', 'favour', 'involvement', 'therefore', 'lysa', 'valemen', 'suit', 'represents', 'alliances', 'mutual', 'friendships', 'exploits', 'manipulates', 'possess', 'betray', 'westerosi', 'chinese', 'becane', 'vlosely', 'dissapointed', 'corrected', 'recognize', 'inferior', 'servant', 'staff', 'push', 'cocktail', 'inspired', 'stained', 'idc', 'boss', 'implausibly', 'passive', 'plausibly', 'food', 'supply', 'tarlys', 'costly', 'unnecessary', \"'nuts\", 'breached', 'dangerous', 'f**k', 'bloodshed', 'executing', '8a', 'largely', 'breaching', 'ferrying', 'vulnerable', 'targ/stark', 'blindsided', 'defence', 'hastier', 'antics', '8b', 'emergence', 'igniting', 'factions', 'afterward', 'supporters', 'scenario', 'successfully', 'advocate', 'acceptable', 'compromise', 'characrer', 'tho', 'proved', 'pulling', 'litterally', 'binging', 'harder', 'root', 'fast', 'geoffrey', 'duolingo', 'teaches', '//www.reddit.com/poll/hjdycq', '//www.reddit.com/poll/hjla7z', 'twice', 'granduer', 'noticing', 'colonist', 'trees', 'structures', 'oldstown', 'genetic', 'andals', 'countries', 'developed', 'dinosaurs', 'breath', 'gravity', 'animals', 'strange', 'feeds', 'americans', 'step', 'europeans', 'asians', 'achieved', '500', 'famine', 'technology', 'grew', 'plants', 'thorough', 'planters', 'aspects', 'three-eye', 'commissions', 'section', '👑', 'matters', 'e.g', 'receives', 'plotline', 'declined', 'reunion', 'recruiting', 'dotharaki', 'umbers', 'siding', 'darrio', 'downs', 'survived', 'alongside', 'bravery', 'wasted', 'opportunities', 'neglecting', 'abilities', 'trident', 'breach', 'pyke', 'cripple', 'wierdo', 'height', 'paying', 'circlejerk', 'recreation', 'zoo', 'images/drawings', 'ensures', 'illusion', 'historically', 'holy', 'roman', 'austrian', 'habsburgs', 'habsburg-lorraines', 'indefinitely', 'maria', 'theresa', '400', 'streak', 'husband', 'elected', 'fadly', 'romdhani', 'inquires', 'inquired', 'myr', 'supernatural', 'exception', 'sign', 'chalk', 'unreliable', 'poisonous', 'mushrooms', 'captors', 'visions', 'purposefully', 'outright', 'shaken', 'theoretically', 'stark/lannister', 'mrycella', 'outlived', 'dissappointed', 'prophesied', 'legends', 'interpret', 'childeren', 'afraid', 'glad', 'begun', 'c', 'blog', '2021', '\\U0001f97a', 'e', 'craft', 'ebook', 'vital', 'crafting', 'rolls', '9th', 'whoever', 'algo', 'ex', 'ellaborate', 'phase', 'shelf', 'pleased', 'raleigh', 'ritchie', 'singer', 'titel', 'tagging', 'careful', 'damnit', 'express', 'feelings', 'girlfriend', 'fictional', 'wierwood', 'dunkirk', 'redeemable', 'smarter', 'sincere', 'gutted', 'redeemed', 'proper', 'blade', 'redeem', 'treatment', 'review', 'exclusive', '//www.reddit.com/poll/hia621', 'descendents', 'girls', 'unless', 'watchmen', 'vows', 'darkness', 'watcher', 'wakes', 'sleepers', 'warn', 'proclaimed', 'cloaks', 'tribute', 'snapped', 'note', 'sighed', 'chapters', 'update', 'accuracy', 'gots', 'famous', 'deaths', 'contained', 'pants', 'clout', 'reposting', 'acc', 'adapted', 'enjoying', 'confusing', 'becuase', 'replys', 'johnny', 'airport', 'airing', 'disgraced', 'strand', 'mutiny', 'replicas', 'receiving', 'jaimie', 'budget', 'views', 'forms', 'bond', 'h', 'ghar', 'goodbye', 'braavos', 'acquire', 'personality', '4:16', 'local', 'chella', 'cheyk', 'clan', 'clans', 'fifty', 'forty-six', 'adaptation', 'portrayed', 'natalie', 'lee', 'football', 'crazed', 'introducing', 'teams', 'premier', 'league', 'ssooooonnn', 'kinder', 'joys', 'everyday', 'folks', 'sucking', 'shitshow', 'sucks', 'expectation', 'disappointment', 'answers', 'helpful', 'overwhelmed', 'complex', 'backstories', 'googling', 'names/and', 'connected', 'mood', 'osha', 'timelapse', 'jaw-dropping', '//preview.redd.it/e4xsykf7fn751.png', 'width=1280', 's=27c14398d98622ee7013c392dafe90e82ae661ec', 'stitch', 'collection/missing', 'arantza', 'sestayo', 'acknowledged', 'rheagar', 's7e2', 'olena', 'greyworm', 'penis', 'emotionally', 'shay', 'hitting', 'g.', '72', 'completion', '//www.reddit.com/poll/hh29wz', 'categorizing', 'classes', 'brutish', 'principals', 'baratheon-', 'overly', 'ruthless', 'tire', 'facing', 'opponents', 'armed', 'uninjured', 'bolton', 'solders', 'roberts', 'weapon', 'hammer', 'cave', 'chest', 'frequently', 'carnal', 'siring', 'plethora', 'barbaric', 'stark-', 'paladin', 'strict', 'ethics', 'stray', 'grave', 'freys', 'lannisters-', 'tacticians', 'swordsman', 'sunspear', 'training', 'experienced', 'strategic', 'warrants', 'devised', 'ships', 'skilled', 'retains', 'vast', 'outsmarted', 'guerrilla', 'targaryen-', 'sorcerer', 'sorcerers', 'fits', 'perfectly', 'hatch', 'resistant', 'additional', '27', 'overview', '6th', '7th', 'concurrently', 'two-thirds', 'split', 'moves', 'equated', '700', 'surpassed', 'stated', '6-7', '1500', '23', '6-8', '10-episode', 'total', 'totalling', 'handful', 'ebay', \"'winds\", 'analogy', 'lanister', 'colored', 'portfolio', 'makeup', 'brushes', 'joey', 'cup', 'consentration', 'controlling', 'average', 'rating', 'descent', 'brann', 'underwhelming', 'spinoff/prequel', 'qarth', 'selsnt', 'babies', 'recorded', 'ludvig', 'neighbour', 'dog', 'iorek', 'solo', 'acoustic', 'propaganda', 'boot', 'flea', 'market', 'captions', 'commentaries', 'sleeve', 'printed', 'printer', 'unclearly', 'attach', 'recognises', 'edition', 'bootlegged', 'searches', 'promotional', 'picture', '//preview.redd.it/1f8j5x0ir8751.jpg', 's=9427f9598ab2a1c2a3e95a932da07d695f24d0bf', 'lists', 'subtitles', 'bottom', '//preview.redd.it/h5tw6y0ir8751.jpg', 's=2760a95782d83497f429ffbbe9c4e0119559a653', 'logo', '//preview.redd.it/kynl5x0ir8751.jpg', 's=c237237cf699c2c9bbd08edf3ff9dcacc2286162', 'decor', 'covered', 'classical', 'first-ever', 'funko', 'pop', 'customs', 'repainting', 'costumes', 'itunes', 'discounts', 'veep', 'appleosophy', 'evolve', 'medieval', 'suspenseful', 'edge', 'tv/movies', 'greatness', 'portrrait', 'walkthrough', 'renders', 'badassery', 'redeeming', '//www.reddit.com/poll/hfse74', 'aaand', 'count', 'expire', 'pleasure', 'despicable', '5/5', 'whichever', 'closes', '//www.reddit.com/r/gameofthrones/comments/hftp58/spoilers\\\\_best\\\\_battles\\\\_in\\\\_game\\\\_of\\\\_thrones\\\\_65\\\\_bonus/', '//www.reddit.com/r/gameofthrones/comments/hftp58/spoilers_best_battles_in_game_of_thrones_65_bonus/', '//www.reddit.com/poll/hft53d', 'definitive', '1-73', 'top/bottom', 'finishes', 'crescendo', 'baelor', 'class', 'pacing', 'amplify', 'tension', '5.8', 'bright', 'weak', 'massacre', 'breathtaking', '8.2', 'letter', 'grown', 'singing', 'jenny', 'w/the', 'montage', '3.9', '4.9', '8.5', 'rose', '4.2', '8.4', 'egregious', 'forgetting', 'parlay', '7.6', 'expedition', 'entertaining', 'bonkers', 'beef', 'arya/sansa', 'unbowed', 'unbent', 'unbroken', '5.6', 'rape', 'focused', 'inexcusable', 'jaime/bronn', 'snakes', 'laughably', 'dishonorable', '5.5', '7.2', 'harpy', '5.4', 'cute', 'murdering', 'sprees', 'interpreted', 'changing', 'permanently', 'thag', 'ability', 'misinterpret', 'booming', 'tooth', 'smashed', 'buddy', 'bootleg', 'poetic', 'false', 'admits', \"'disapointed\", '6/5', 'tie', '//www.reddit.com/r/gameofthrones/comments/hft53d/spoilers\\\\_best\\\\_battles\\\\_in\\\\_game\\\\_of\\\\_thrones\\\\_55\\\\_final/', '//www.reddit.com/r/gameofthrones/comments/hft53d/spoilers_best_battles_in_game_of_thrones_55_final/', '//www.reddit.com/poll/hftp58', 'pods', 'rr', 'reportedly', 'adara', 'parallels', 'impacts', 'torrential', 'floods', 'freezing', 'temperatures', 'starvation', 'breakup', 'correspond', 'basic', 'level', 'sheet', 'levels', 'rise', 'wiping', 'coastal', 'reset', 'recovering', 'scratch', 'schoch', 'impacted', 'coronal', 'mass', 'ejection', 'ravaged', 'magnetosphere', 'badly', 'sized', 'freak', 'hurricanes', 'thunderstorms', 'forming', 'scientist', 'ought', 'brush', 'stories', 'convey', 'personified', 'extent', 'inspirations', 'edits', 'grammer', 'correctly', 'granted', '*hurts*', 'topographic', 'tl', 'dr', 'print', 'file', 'cnc', 'efforts', 'werent', 'integrity', 'important', 'reputation', 'franchize', 'sullied', 'complained', 'cheque', 'alert', 'remove', 'posts', 'westeros/essos/ect', 'conquer', 'ease', 'wildling', 'zanza', 'uniting', 'continents', 'whose', 'road', '2004', 'memory', 'jogged', 'v', 'peoples', 'longer', 'scheming', 'strategy', 'complaint', 'surrounded', 'streaming', 'reccomend', 'blu', 'ray', 'colors', 'ditch', 'peoole', 'david', 'd.b', 'growing', 'anymore', 'f*', 'contract', 'lommy', 'unbelievable', 'twins', 'twin', 'shitting', 'g', 'smartest', 'motherfucker', 'assured', 'necessary', 'steps', 'combine', 'light-jesus', 'thousand', 'necrotic', 'conjecture', 'speculation', 'twow', 'n+a=j', 'savior', 'a-pie', 'slapping', 'stuffing', 'hopes', 'ign', '..nuff', 'storm', 'doltrice', 'musical', 'actresses', 'aryas', 'poisoned', 'audiobook', 'replacement', 'dotrice', 'redo', 'narratorial']\n"
          ],
          "name": "stdout"
        }
      ]
    },
    {
      "cell_type": "code",
      "metadata": {
        "id": "QHyQUJdJ9JY1",
        "colab_type": "code",
        "colab": {
          "base_uri": "https://localhost:8080/",
          "height": 72
        },
        "outputId": "b04690c7-5a10-487f-d46b-c7b00bbd1f14"
      },
      "source": [
        "print(wordfreqs_cat1.most_common(20))\n",
        "print(wordfreqs_cat2.most_common(20))"
      ],
      "execution_count": null,
      "outputs": [
        {
          "output_type": "stream",
          "text": [
            "[('.', 3764), (',', 3670), ('data', 1436), ('?', 1342), (')', 1089), ('(', 1022), (':', 651), ('science', 460), (\"'m\", 414), (\"n't\", 382), ('like', 377), (\"'s\", 367), ('would', 363), ('work', 360), ('’', 358), (\"''\", 281), ('``', 274), ('!', 251), ('time', 251), ('[', 247)]\n",
            "[('.', 1502), (',', 1112), ('[', 602), (']', 602), ('spoilers', 561), ('?', 413), ('’', 279), (')', 239), (\"'s\", 238), ('(', 227), ('season', 218), (':', 201), ('would', 172), ('show', 164), ('jon', 159), ('king', 141), ('game', 137), (\"n't\", 133), ('thrones', 127), ('one', 126)]\n"
          ],
          "name": "stdout"
        }
      ]
    },
    {
      "cell_type": "code",
      "metadata": {
        "id": "xyddHX6q9dNm",
        "colab_type": "code",
        "colab": {}
      },
      "source": [
        "stemmer = nltk.SnowballStemmer('english')\n",
        "\n",
        "def word_stemmer(word_row):\n",
        "  stemmed = [stemmer.stem(word) for word in word_row]\n",
        "  return stemmed"
      ],
      "execution_count": null,
      "outputs": []
    },
    {
      "cell_type": "code",
      "metadata": {
        "id": "wRaUPy5z9lk6",
        "colab_type": "code",
        "colab": {}
      },
      "source": [
        "manual_stopwords = [',', '.', '(', ')', '?', ':', '[', ']', '’', \"''\", '``',\n",
        "                    '1', '2', '3', '4', '5', '6', '7', '8', '9', '10', \n",
        "                    \"'m\", \"n't\", \"'s\", '&', '%', '*', '...', '-', ';', '--'\n",
        "                    '\"', \"'\", '|', '/'\n",
        "                    ]\n",
        "\n",
        "def data_processing(sql):\n",
        "  c.execute(sql)\n",
        "  data = {'word_matrix': [], 'all_words': []}\n",
        "  row = c.fetchone()\n",
        "  while row is not None:\n",
        "    tokenizer = nltk.tokenize.RegexpTokenizer(r'\\w+|[^\\w\\s]+')\n",
        "    word_row = tokenizer.tokenize(row[0] + \" \" + row[1])    \n",
        "    word_row_lowercased = lowercase_array(word_row)\n",
        "    word_row_nonstopwords = word_filter(stopwords, word_row_lowercased)\n",
        "    word_row_nonstopwords = word_filter(manual_stopwords, word_row_nonstopwords)\n",
        "    word_row_stemmed = word_stemmer(word_row_nonstopwords)\n",
        "\n",
        "    data['all_words'].extend(word_row_stemmed)\n",
        "    data['word_matrix'].append(word_row_stemmed)\n",
        "    row = c.fetchone()\n",
        "  return data"
      ],
      "execution_count": null,
      "outputs": []
    },
    {
      "cell_type": "code",
      "metadata": {
        "id": "XKt9oGzQCDqp",
        "colab_type": "code",
        "colab": {}
      },
      "source": [
        "subreddits = ['datascience', 'gameofthrones']\n",
        "data = {}\n",
        "for subject in subreddits:\n",
        "  data[subject] = data_processing(sql='''SELECT topicTitle, topicText, topicCategory from topics WHERE topicCategory = ''' + \"'\" + subject + \"'\")"
      ],
      "execution_count": null,
      "outputs": []
    },
    {
      "cell_type": "code",
      "metadata": {
        "id": "VpVWWf_8CRmT",
        "colab_type": "code",
        "colab": {
          "base_uri": "https://localhost:8080/",
          "height": 513
        },
        "outputId": "31c705fa-475e-4cf2-ba62-797e3d9d9385"
      },
      "source": [
        "wordfreqs_cat1 = nltk.FreqDist(data['datascience']['all_words'])\n",
        "plt.hist(wordfreqs_cat1.values(), bins = range(10))\n",
        "plt.show()\n",
        "wordfreqs_cat2 = nltk.FreqDist(data['gameofthrones']['all_words'])\n",
        "plt.hist(wordfreqs_cat2.values(), bins = range(20))\n",
        "plt.show()"
      ],
      "execution_count": null,
      "outputs": [
        {
          "output_type": "display_data",
          "data": {
            "image/png": "[encoded data removed]",
            "text/plain": [
              "<Figure size 432x288 with 1 Axes>"
            ]
          },
          "metadata": {
            "tags": [],
            "needs_background": "light"
          }
        },
        {
          "output_type": "display_data",
          "data": {
            "image/png": "[encoded data removed]",
            "text/plain": [
              "<Figure size 432x288 with 1 Axes>"
            ]
          },
          "metadata": {
            "tags": [],
            "needs_background": "light"
          }
        }
      ]
    },
    {
      "cell_type": "code",
      "metadata": {
        "id": "HRrGlR4CCWxb",
        "colab_type": "code",
        "colab": {
          "base_uri": "https://localhost:8080/",
          "height": 72
        },
        "outputId": "1149b541-99dd-42d3-81f9-2a655bb4c709"
      },
      "source": [
        "print(wordfreqs_cat1.hapaxes())\n",
        "print(wordfreqs_cat2.hapaxes())"
      ],
      "execution_count": null,
      "outputs": [
        {
          "output_type": "stream",
          "text": [
            "['durat', 'ft', 'retard', 'lender', 'rf', 'cpg', 'trailer', '(%', 'centric', 'arduino', 'udemyad', 'utm_campaign', 'python_v', 'prof_la', 'en_cc', 'row_ti', '7380', 'utm_cont', 'deal4584', 'utm_term', '_ag_85724077824_', '_ad_437497333677_', '_kw__', '_de_m_', '_dm__', '_pl__', '_ti_dsa', '774930031889_', '_li_9073643_', '_pd__', 'matchtyp', 'gclid', 'cj0kcqjw9b_4brcmarisadmuiyo5bmedqnkv9qrtcxua9zh50ilno', 'madex', 'b42ce', 'rtd_jr4iyqjb0aaghiealw_wcb', 'persist_local', 'en_us', 'overinfl', 'outset', 'overpromis', 'underperform', 'ambigu', 'bat', 'overrul', 'spill', 'thru', 'prevail', 'uiuc', 'obtus', 'workabl', 'typeform', 'rec', 'kurzgasagt', 'nj', '1tb', '180', '1080', 'outag', 'solder', 'seal', 'conductor', 'nav', 'catastroph', 'lander', 'rstat', '/“', 'declin', 'depict', 'angl', 'pronounc', 'brake', 'skinni', 'v', 'precursor', 'indulg', 'downward', 'coincid', 'bookstor', 'prestig', 'persever', 'drool', 'wherebi', 'leaf', 'node', 'catboost', 'ala', 'ensembl', '451', '405', 'excess', '/\"', 'finicki', '2021', 'pertin', 'forray', 'fruit', 'gov', 'esri', 'geospati', 'gear', 'primer', 'environment', 'boo', 'oregon', 'fulltim', 'failur', 'anti', 'cockblock', 'toe', 'puppi', 'wrap', 'noodl', 'referenc', 'realtim', 'geopolit', 'cring', 'modest', 'practi', 'analsyi', 'productionis', 'rarer', 'out', 'moreso', 'novic', 'ive', 'intric', 'pager', 'memo', 'unclean', 'crucial', 'unbias', 'seasonwarez', 'featuretool', 'invoic', 'troubleshoot', 'clunki', 'petrozziello', '328400525_distributed_neural_networks_for_missing_big_data_imput', 'kaliamoorthi', 'sci', 'hub', 'tw', '1007', '978', '981', '1813', '9_3', 'montesdeoca', 'scitepress', 'mice', '23', '@', '..).', '74', 'hook', 'comb', 'wich', '5m', '\\\\*', 'youfollow', 'crawler', 'scraper', ',..', '....)', 'useful', 'kelli', 'randstad', 'labour', '30ddc5339b66', 'prescript', '?(', 'bloomer', 'prob', 'chug', 'swift', 'sr', '150mb', 'crawl', 'recogn', ']`', ']\"`', 'tune_sklearn', 'model_select', 'linear_model', 'n_sampl', '11000', 'n_featur', 'n_inform', 'n_redund', 'n_class', 'class_sep', 'x_test', 'y_test', 'test_siz', 'tupl', 'epsilon', '}', 'param_distribut', 'n_iter', 'early_stop', 'max_it', 'search_optim', 'best_params_', '_doc', 'api_doc', 'fin', '(\"*', '_can', '?*\",', 'damn', 'commentari', 'subtask', 'trickier', 'silo', 'task_4', 'task_5', '`?', '________________', 'luxuri', 'breakpoint', 'analyi', '>.', 'proced', 'afaik', 'b1', 'b2', 'b3', '🤔', 'ladder', 'elbow', '||', 'row1', 'row2', 'row3', 'row4', 'row5', 'row6', 'row7', 'row8', 'row9', 'row10', '|:-|:-|:-|:-|:-|:-|:-|:-|:-|:-|:-|', '1759', '2836', '4594', 'usag', '[]`', '):`', 'append', ')`', 'unclear', 'latitud', 'longitud', 'outermost', 'footnot', 'offset', '%),', '94', 'feud', 'torn', 'reservoir', 'royal', 'dutch', 'wave', 'layoff', 'infatu', 'coder', 'lay', 'peac', 'pov', '34', 'radic', 'tbh', 'earn', 'datasi', 'await', 'kudo', 'shake', 'futil', 'wayyy', '327298996_hardcore_gamer_profiling_results_from_an_unsupervised_learning_approach_to_playing_behavior_on_the_steam_platform', 'aaa', 'indi', 'f2p', 'urucmqi', 'multidimension', 'chosen', 'appid', 'twelv', 'sciencey', '\\\\].', 'thereof', 'relabel', 'indian', 'western', 'prejudic', '?),', 'guest', 'xgb', 'pnrjournal', 'viewimag', 'asp', 'img', 'jpharmnegativeresults_2010_1_2_61_75708_f1', 'downhil', 'tonn', 'whilst', 'golden', 'ashra', '3gb', 'insuffici', 'reliant', 'undertak', 'procur', 'bigram', 'trigram', 'lemmat', 'distinct', 'sent_token', 'corpora', 'languagetool', 'en_core_web_sm', 'filterwarn', 'maketran', \"('',\", '(?', ')(.)\\\\', '(.)\\\\', 'locqualityissuetyp', 'uncategor', 'ruleid', 'morfologik_rule_en_us', 'msg', 'spell', 'lower_', '))<', \"!='\", 'lemma_', \"'/\", 'file_nam', 'sep', \"='|',\", 'utf', 'tolist', 'ascii_lowercas', \"([';','.','/',',','+',\", ',\\'#\\',\"\\'\",', '\"\\',', \"'',\", \"“',\", \"'','&',\", \",'-\", 'pron', \"-'])\", \",'\", 'minus', 'common_term', '+[\"', '\"]', 'bool', '][', '())', 'filter_extrem', 'no_below', 'no_abov', 'doc2bow', 'tfidfmodel', 'id2word', 'num_top', 'random_st', 'chunksiz', 'minimum_prob', '52', 'top_top', ')```', 'pseudonym', 'anonym', 'south', 'asia', 'australia', 'diploma', '60k', 'icml', 'endors', 'signatur', 'inexperienc', 'atm', 'x_percentile_10', 'x_median', 'x_percentile_90', 'y_std', 'reiter', 'revert', 'grind', 'bussi', 'thechnic', 'unfinish', 'untitl', 'bajillion', 'debugg', 'xeus', 'jupyterdash', 'tba', 'transport', 'fuzzi', 'inc', '\"--', '---', 'hivemind', 'aptitud', 'weed', 'cast', 'rid', 'alongsid', 'steer', 'btws', 'island', 'bout', 'gotcha', '...**', 'descent', 'byte', 'lookup', 'hash', 'refresh', 'hashabl', 'mutabl', 'unicorn', 'dime', 'doubli', 'spoil', 'grain', 'salt', 'survivor', 'msr', 'unheard', 'l3', 'l4', 'l5', 'resent', 'fyi', 'favor', 'orthogon', 'toolkit', 'lifelong', 'endeavor', 'breather', 'vacat', 'endless', 'rat', 'race', 'everyday', 'contradictori', 'teller', 'farther', 'loath', 'doxx', 'stone', 'five', 'infanc', 'esl', 'prml', 'escap', 'oversel', 'knowledgebas', 'tomato', 'kitchen', 'garden', '83', '18nigw7snz3qi2npq7qmffbdph9rh7spk', 'usp', 'drivesdk', 'vertic', 'shout', 'inadequ', 'spotlight', 'purs', 'wake', 'stair', '>\\\\---', 'predict_proba', 'exac', 'probabilti', 'earlier', 'menial', 'gopher', 'yell', 'whop', 'gall', 'buddi', 'nonconfront', 'stimul', '125k', 'dc', 'pursuit', 'plung', 'compel', 'jdjfwaw', 'kaggler', 'fluster', 'overreact', 'nyc', 'smarter', 'bcom', 'inferior', \"***'.\", 'deficit', 'unlock', 'wet', 'patienc', 'matt', 'tran', 'congo', 'dude', 'blackmail', '350', 'prey', 'desper', 'harsh', 'pl', 'edw', '***?', 'legaci', 'patch', 'insan', '«', '»?', 'snippet', 'hunter', '\\\\*\\\\*', 'remind', 'jog', '.\\\\*\\\\*', 'hesit', 'recept', 'snci0s0e4io', '9chzcr7', ':-)**', '8762103', '087', '%?', 'annot', 'laymen', 'biotechnolog', 'diagnosi', '...).', 'doesnt', 'kitti', 'redesign', 'fa19', 'bus', '563', 'biochemistri', 'grand', 'wonki', 'renam', 'studentidnum', 'responseid', 'likert', 'spank', 'jesus', 'ew', 'idk', 'aford', 'disk', '100gb', 'cvs', 'ascrib', 'delud', 'strive', '_y', 'enact', '_z', 'buyer', 'suspend', 'probe', 'annoy', 'interviewe', 'selfish', 'submit', 'deduct', 'dtype', 'circuit', 'bryan', 'caplan', '.](', 'dp', '0691174652', 'roi', 'hc', 'cultiv', 'mill', 'flourish', 'supplement', 'bme', 'mri', 'plasma', 'biomed', 'eng', 'biolog', 'pacif', 'nw', '30s', 'marri', 'stddev', 'perman', 'renter', 'mart', 'coranavirus', 'shorten', 'unix', 'sri', 'bummer', 'horribl', 'mcc', ':(', '12in', 'thin', 'retina', 'econ', 'ghz', 'm3', '8gb', '4ghz', 'turbo', '9ghz', '256gb', '6ghz', '256', 'pcs', 'despis', 'lyft', 'pinterest', 'hispan', 'born', 'greec', '😊)', 'arguabl', 'priori', 'unfair', 'holdout', 'synthet', 'ime', 'sophist', 'ham', 'svm', 'smote', 'resampl', 'saver', 'ireland', 'septemb', 'vanish', 'concaten', 'generalis', 'engag', 'spree', 'bode', 'fledg', '360', 'blank', 'juic', 'plead', 'optic', 'asap', 'infecti', 'occurr', '2000', '800', 'null', 'pyclust', 'docstr', 'implet', 'evalut', 'rnd', 'downfal', 'texa', 'msds', 'homomorph', 'nlsd2lo', 's50', 'modular', 'generaliz', 'overhead', 'compuls', 'cleanest', 'unproduct', 'bypass', 'blob', 'contrib', '326', 'approx_min_span_tre', 'ipywidget', 'embedd', 'satandard', 'standar', 'rema', 'inbetween', 'distort', 'implic', 'indeintifi', 'su', 'refus', 'sexual', 'harass', 'vocabulari', '16c', '17d', 'on', 'hd', '1234t', '1234r', 'd6t', 'placehold', 'pile', 'denomin', 'parent', 'child', '---|---|----', '2500bcm', '2503pd', '2503', '2503p', '25040', '250g', '230g', '00', '250lvr', '250l', 'awd', 'rollercoast', 'nbdime', 'nbstripout', '\\\\`.', 'collab', 'heartbeat', 'coach', 'pat', 'mocc', 'khan', 'academi', 'vizz', 'permit', 'blahblahblah', 'defici', 'refund', 'hotter', 'unrel', 'pool', 'top5', 'leagu', 'striker', '2007', 'subfield', 'ctc', 'sketch', 'mold', 'render', 'solidwork', 'catia', 'revit', 'swap', '|:-|:-|:-|:-|', 'prop', '++,', 'puzzl', 'builder', '.)|', 'loos', '\"|', 'hierarch', 'conclud', 'walmart', '55m', '190', 'cscareerquestionseu', 'zoom', 'elat', '222', 'ghost', '118', '68', 'resili', '#/', '€', '€)', 'preserv', 'l2', 'frechetdist', '136', '136x136', 'strength', 'np', '1tdrlkj', ':-).**', 'neurosci', 'prone', 'dunno', '😭', 'rebrush', 'familiaris', 'biom', 'bioinformat', 'pharmacolog', 'oversimplifi', 'para', '`>', 'playergamelog', 'seasonal', 'player_id', '2544', '---------------------------------------------------------------------------', 'urllib3', 'connectionpool', '_make_request', 'conn', 'httplib_request_kw', '383', '384', 'raise_from', '385', 'sockettimeout', 'basesslerror', 'socketerror', '527', 'sslerror', '528', 'elif', 'isinst', '529', '530', '531', 'lend', 'hunch', 'preschedul', 'succumb', 'mammoth', 'cheatsheet', 'trash', 'agnost', 'impos', 'imho', 'foster', 'pervers', 'incent', 'perverse_incent', 'cobra', 'cobra_effect', 'mcnamara', 'fallaci', 'mcnamara_fallaci', 'pervas', 'regess', 'arch', 'chuck', 'codeacademi', 'lightfm', 'enrag', 'disgust', 'fought', 'nativ', 'garbl', 'monster', 'piss', 'richer', 'through', 'ctr', 'upward', 'intervent', 'counterfactu', 'pointwis', 'unstabl', 'atleast', 'orang', ':/', 'dirt', 'buzz', 'wolframalpha', 'noosql', 'hyper', 'cnns', 'lstms', 'unpaid', 'playground', '10k', 'nearest', 'infin', 'iyo', 'blur', 'h', 'fetch', 'blend', 'saa', 'multitouch', 'touchpoint', 'upfront', 'align', 'wednesday', '_pythoncod', '_code', '_market', '_stat', '_analyt', 'sprinkl', 'carv', 'slot', 'uni', 'multidmens', '97', 'tranform', 'interquartli', 'satisfact', 'sneak', 'pump', '?\"\"', 'shown', 'ear', 'surgeri', 'acienc', 'ti', '*?', 'gripe', 'enamor', 'funnel', 'cash', 'stagnant', 'complac', 'burner', 'smatter', 'flight', 'cleans', 'ongo', 'auditor', 'downtown', 'los', 'angel', 'prime', 'teamblind', '/[', 'ama', ']-', 'nygf0tuk', 'supermarket', 'nowher', 'afterward', 'car', 'carrier', 'alphabet', 'laugh', 'hyster', 'joker', 'storm', 'rins', 'recal', 'pyramid', 'lengthi', 'veteran', 'roadmap', 'thinkgrowth', '1d2176f20ac1', 'forrest', 'voic', 'omni', ')](', '70a54335a623', 'digest', 'presumptu', 'boxplot', 'scatterplot', 'pigeonhol', 'unstuck', 'secondarili', 'ndas', 'welfar', 'debat', 'noob', 'monetari', '|:-|:-|', 'jimmi', 'crunch', 'insert', 'cooldata', '2014', '02', 'basecamp', 'dataquest', 'affili', 'aic', 'sun', 'procrastin', '\\\\#', 'sidetrack', 'bombard', 'resist', 'guilt', 'pleasur', 'immers', 'learndatasci', '4500', 'workbook', 'militari', 'tougher', 'legit', 'underestim', '>$', '1m', 'proposit', 'monopoli', 'redeploy', 'stereotyp', 'climat', 'someway', 'adult', 'fwiw', 'fluent', 'vernacular', 'overstep', 'travers', 'nmf', 'forgotten', 'criss', 'gut', '2tb', 'bottleneck', 'hdf5', 'smb', '04', '5c2a42806266', '.:', 'hypothet', 'proprietari', 'grip', 'york', 'fierc', 'town', 'tx', 'scene', 'askstatist', 'countless', 'joke', '\"**', '**\";', 'bump', 'coffe', 'hallway', 'learner', 'transition', 'redirect', 'listicl', 'sight', 'tacki', 'junk', 'uncommon', 'sorta', 'wind', 'properti', 'metropolitan', 'hoard', 'didnt', 'pdfs', 'fragment', 'brainstorm', 'brutal', 'sarcast', 'planner', 'sponsor', 'h1b', '1500', '72', 'immigr', 'collat', 'bubbl', 'arena', 'cubicl', 'chime', 'rumor', 'edit2', 'blown', 'willing', 'runner', 'metadata', 'claus', 'jetbrain', 'bulkier', 'sequel', 'sequelpro', 'kill', 'breaker', '\\\\--', 'grail', 'wisdom', 'dataviz', 'montreal', 'toronto', 'tax', 'glassdoor', 'inaccur', 'mtl', '190k', '25k', 'username_sql_queri', 'complaint', 'plagiaris', '$$$.', 'ex2sk', 'd_siraj_is_still_plagiar', 'solidifi', 'mbp', 'sexist', 'male', 'autofil', 'angri', 'pronoun', 'nurs', 'desktop', 'compliment', 'edtech', 'knewton', '4ish', 'yr', 'outlandish', 'casual', 'horrif', 'loop', 'shoulder', 'phoni', 'bookish', 'unsophist', 'disastr', 'swing', '🏃\\u200d♂️', 'speechless', 'heroku', '500mb', 'elast', 'beanstalk', 'floydhub', 'lacklust', 'sad', '_dummi', 'statsmodel', 'converg', 'intercept', '.......', 'stitch', 'worthi', 'mislead', 'repsopnsibilit', 'bugfix', 'extream', '1k', 'snowflak', 'wherscap', 'athena', 's3', 'kaagl', 'fade', 'ql', 'ariflow', 'althow', 'jira', 'knowleg', 'clea', 'ineffeci', 'feild', 'cach', 'isimport', '2400mhz', '3200mhz', 'motherboard', 'lightgbm', 'buildapc', '520', 'weather', 'trane', 'alarm', 'd3', 'woefulli', 'bandwidth', 'reccomend', 'campus', 'waterfal', 'outlay', 'mobil', 'suspect', 'devis', 'forese', 'hobbl', 'protocol', 'corrupt', 'warranti', 'rdbms', 'ident', 'menu', 'verif', 'in', 'automaton', '2023', 'workforc', 'lowest', 'i7', 'plsql', 'reclassifi', 'misnom', 'resembl', 'og', 'iq', 'unilater', 'invok', 'cl', 'persist', 'crossroad', 'elabor', 'gpt3', 'somebodi', 'sphere', 'interplanetari', 'magnet', 'atmospher', 'discern', 'recognit', 'mlengin', 'bridg', 'steroid', '!!!!!!!!!!', 'vp', '!!!!', 'i5', 'compris', '|:-|:-|:-|', 'spain', 'ahmedbesb', 'veekaybe', '09', 'streamlit', 'hugginfac', 'thakur', 'ucbprjjiwfyng4x', 'crbnv78a', 'spanish', '_dylancastillo', '1272238506916675591', ')),', 'ha', 'sacrif', 'dri', 'cri', 'nginx', 'gunicorn', 'hacki', 'sooner', 'cell', 'cant', 'h8yjdf', 'im_offered_a_data_engineer_role_instead_of_data', 'h9p4kl', 'from_data_scientist_to_machine_learning_engin', '\\\\-----', 'whim', 'emot', 'clock', 'costliest', 'evan', 'jvns', 'ca', 'accumul', 'olymp', 'medal', 'cowork', 'proud', 'amongst', 'unnatur', 'lap', 'vouch', 'reshuffl', 'clearer', 'illustr', 'howtobragatwork', 'newslett', 'undergradu', '2012', 'asus', 'k56cm', 'samsung', 'galaxi', 's6', 'tablet', 'newli', 'cnn', 'lingual', 'rife', 'grievanc', 'threshold', 'empir', 'huckster', 'jaw', 'wit', 'pie', 'neglig', 'hottest', 'workshop', 'austinpow', 'wav', '8000', 'augment', 'librosa', 'premis', 'drift', 'keyboard', '1499', 'lenovo', '22tp2txx17g', 'conserv', 'wildlif', 'differenti', 'chicken', 'egg', 'mile', 'superforecast', '”...', 'hft', 'unanim', 'ta', 'algebra', 'dw', '500k', 'burnout', 'vae', 'killer', 'tinker', 'semma', 'docsetid', 'emref', 'docsettarget', 'n061bzurmej4j3n1jnj8bbjjm1a2', 'htm', 'docsetvers', 'datasciencecentr', 'fu', 'frick', 'languagetechnolog', '(:', 'februari', 'suspici', 'emr', ')!', '\\u200b\\u200b', 'scari', 'andrew', 'emul', 'plugin', 'pms', '…', 'incis', '(“', 'imposit', '?!\"', 'tempor', 'that', 'onboard', 'crunchbas', 'va', 'asynchron', 'worm', '40s', 'cheeri', 'gig', 'exogen', 'univari', 'pacf', 'temper', 'whack', 'lstm', 'mild', 'panic', 'rework', 'bite', 'flounder', 'tangenti', 'miser', '6fte', 'culmin', 'crush', 'vers', '160k', 'rebrand', 'overst', 'unreward', 'slice', 'incomprehens', 'trajectori', 'dissatisfact', 'wealthi', 'destroy', 'glean', 'discount', 'emerg', 'pathway', 'lightweight', '..(', 'cake', 'pet', 'telecom', 'miscommun', 'csat', 'acquir', 'constrain', 'midst', 'acheiv', 'attach', 'utitil', 'fallen', 'inund', 'complain', 'nonetheless', 'oblivi', 'stab', 'shoot', '5000', 'brian', '>\").', 'maci', 'rstudioconf', '/)\".', 'shelf', 'automl', 'dplyr', 'verb', 'ignit', 'na', 'magician', 'tis', 'operation', 'basement', 'machineri', \"*'.\", ':-)', '|:-|:-|:-|:-|:-|', 'corp', '08', '$/', 'flat', 'gcp', 'bluemix', 'productis', 'gw8z13', 'do_you_code_in_object_oriented_way_in_python_when', 'fsu2p8p', 'rigor', 'summaris', 'qualit', 'hypothesis', 'insensit', 'oppot', 'notepad', 'sofa', ':)**', 'noobish', 'serverless', 'fargat', 'dinosaur', 'simultan', ',*', 'razor', 'nerd', 'adequ', 'midwest', 'cutback', 'blanket', '\".**', 'dba', '\"**...', 'weari', '48', 'region', 'atom', 'v3', 'gs', 'poke', './', 'lineag', 'provis', '24h', 'tenant', 'opensourc', 'hostabl', 'tenanc', 'openshit', 'opendatahub', 'vertaai', 'modeldb', 'pachyderm', 'heatmap', 'vif', 'shap', 'prune', 'subregion', 'yellow', 'lurker', 'utd', 'fist', 'american', 'reduct', 'wont', 'wgu', 'mate', 'till', 'novemb', 'sponsorship', 'caret', 'tidyvers', 'packrat', ',...),', ',..).', 'ropensci', 'stella', '\\\\^\\\\', '\\\\^', 'reilli', 'wes', 'mckinney', 'aurelien', 'geron', '_dotnet', 'ml_dotnet', 'shrank', 'vm224zi', 'denot', 'param', 'train_siz', 'train_scor', 'test_scor', 'learning_curv', 'solver', 'roc_auc', 'disadvantag', 'rmarkdown', 'knitr', 'spectrum', 'activti', 'savvi', 'scum', 'micromanag', 'retro', 'bleh', 'bee', 'diverg', 'characterist', 'qual', 'quant', 'infrequ', 'sap', 'bo', 'uci', 'ponder', 'fresher', 'pardon', 'acc', '93', 'diagnos', 'defend', 'grisham', 'goldman', 'sach', 'bright', '?\".', 'wild', 'guff', 'shortsight', '**(', 'salespeopl', 'sensori', 'shutdown', 'necessariliy', 'mismatch', 'condens', 'conk', 'hmm', 'bless', 'barista', 'cafe', 'reset', 'simplic', '–', 'vmlldzoxmtuymdq', 'block', 'reorient', '/)\"', 'ablat', '65', 'synthes', 'closest', 'knot', 'algortihm', 'unlucki', 'rein', '43eedl', 'usernam', 'gitignor', 'ini', 'kingdom', 'keepass', 'vault', 'kdbx', 'keyfil', 'recip', 'mundan', 'happili', 'divyansh', 'agarw', 'san', 'francisco', 'rider', 'essay', 'data8', 'uc', 'berkeley', 'eat', 'leeway', '230', 'fewer', 'occas', 'begun', 'surround', 'poker', 'badminton', ')?**', 'causal', 'revis', 'unprofession', 'unfeas', 'homeroom', 'hopkin', 'alumni', '_scienceml', '_interview', '_question', 'amazon_data_scienceml_interview_quest', 'kmean', 'backprop', 'blew', 'cathart', 'sheer', 'ill', 'institution', 'racism', 'belief', 'racial', 'spirit', 'constitut', 'root', 'disclosur', 'gu1iqk', 'varient', 'seper', 'overlook', 'choosen', 'css', 'bleak', 'calm', 'chill', 'simplist', 'mull', 'devot', 'inconsist', 'uncov', 'alter', 'optimist', 'leverag', 'costum', 'confound', 'detach', 'previs', 'arriv', 'nitti', 'gritti', '?\").', 'to', 'jargon', 'pri', 'upset', 'histogram', 'analog', 'obscur', 'vice', 'presid', 'howdi', 'veroni', 'segreg', 'loser', 'minima', 'friday', 'vent', '!**', 'ed', 'prioritis', 'seatbelt', 'accid', 'licenc', 'dodgi', 'passeng', 'needless', 'appal', 'rig', 'heavier', 'infosec', '41', 'programmin', 'ii', 'iii', 'java', 'georgia', 'omsc', 'pornhub', 'bootstrap', 'vote', 'datastag', 'ec2', 'clarif', 'advoc', 'lacompacida', 'eloqu', 'tradeoff', 'slightberri', 'stanc', 'shmoe', 'stood', 'southern', '70k', '75k', 'januari', 'fafsa', 'webscrap', 'promo', 'sairma', '☟', 'registri', 'gcr', 'moez', '_62905', 'moez_62905', 'implant', 'overshadow', 'ridg', 'textual', 'caption', 'autist', 'utter', 'unnecessarili', 'tick', 'moba', 'autochess', 'hearthston', 'hsreplay', 'winrat', 'comeback', 'counterplay', 'juggl', 'waveform', 'persuas', 'ryzen', '3600', 'lang', '\".](', 'gormanalysi', 'postgresqltutori', 'posgresql', '/)?', 'instinct', 'ben', 'strasser', 'readthedoc', 'mutual', '(\\\\*\\\\*)', 'reformul', 'backtest', '(\\\\*)', 'kurtosi', 'normalis', '(\\\\*\\\\*).', 'compound', 'pcie', 'lane', 'gpus', 'threadripp', 'rnn', 'ambival', 'pour', 'michael', 'waskom', 'afternoon', 'suck', 'sa', 'upwork', 'plea', 'ycombin', 'sticki', 'helper', 'crowd', '262', 'donat', 'unsurpris', 'beat', 'counteract', 'arbitrarili', 'clich', 'arithmet', 'comprehend', 'propheci', 'insecur', 'mbas', 'acca', 'postgrad', 'democrat', 'irrelev', 'seafood', 'doabl', 'polaris', 'dir', ':).', 'glaze', 'foolproof', 'chapter', 'polynomi', 'rsus', 'flashi', 'spars', 'nvidia', 'graphic', '64gb', 'glfdmm', 'a_data_science_company_stole_my_gfs_ml_project', '/)**\"', 'authoris', 'litig', 'republish', 'radio', 'musician', 'music', 'drudg', 'huffington', 'fark', 'newslookup', 'newsvin', 'wn', 'deceiv', 'ownership', 'hair', 'deed', 'unpunish', 'aggrav', 'embarrass', '!?', '!!!?', 'penni', 'oversit', 'hindsight', 'conveni', 'unintent', 'murder', 'profess', '7th', 'daughter', 'deciph', 'troll', 'punit', 'silenc', 'congratul', 'enhanc', 'dataiku', 'prize', '400k', 'platinum', 'cateogor', 'calori', 'curat', 'custum', '0s', '2s', 'hackathon', 'contextu', 'cosin', 'defect', 'equilibrium', 'eight', 'kdnugget', 'outlet', 'appeal', 'fluffi', 'bingo', 'quotat', 'paraphras', 'blacklist', 'year_start', '1800', 'year_end', '2008', 'direct_url', 't1', '2cdeep', '20learn', '2cc0', 'cum', 'laud', '.\"**', 'writer', 'techcrunch', 'pennsylvania', 'tos', '_real', '_predict', '_rental', '_price', '_in', 'ai_and_real_state_predicting_rental_prices_in', 'strict', '24th', 'affair', 'workplac', 'unsatisfi', 'homeless', 'urban', 'elsevi', 'springer', 'morph', 'impli', '9999', 'cutoff', ']?', 'artefact', 'sidecar', 'snapshot', 'ppt', 'notion', 'confluenc', 'gdoc', 'flower', 'twice', '54k', 'ob', 'scan', 'faulti', 'bearabl', 'streamlin', 'eas', 'ban', 'hidden', 'express', 'adept', 'geez', 'reformat', 'postprocess', 'giant', 'unneed', 'probabilist', 'membership', 'mother', 'powerschool', 'birthday', 'psychiatr', 'pharmaceut', 'dispos', 'thier', 'mixtur', 'gaussian', 'fan', 'hometeam', 'ik', 'ping', 'pong', 'aav', 'winshar', 'ppg', 'apg', 'neck', 'wood', 'oc', 'heterogen', 'gdpr', 'ccpa', 'emea', 'britain', 'apac', 'japan', 'programmat', 'factual', 'foursquar', 'placeiq', 'groundtruth', 'cuebiq', 'safegraph', 'hat', 'ing', 'haveagreatdata', 'whisper', 'shortag', 'mesmer', 'slew', 'unimagin', 'repetit', 'section', '_matrix', '...),', 'corr', '()...)', 'upsel', 'dismay', 'fanci', 'width', 'decay', 'foot', '2k', '40x', 'sanit', 'politc', 'questionnair', 'itch', 'ehr', 'suffic', 'arvix', 'crude', 'champion', '(*)', '==', 'mathi', 'breadcrumb', 'lexikon', 'spotifi', 'conjunct', 'syncedreview', '6c2240f1b911', 'parad', 'throwaway', 'contributor', 'dare', 'effus', 'freeli', 'platitud', 'bust', 'stir', 'drama', 'gfnax4', 'im_sick_of_ai_influencers_especially_ones_that', 'fpvvxsk', 'jealous', 'woman', 'salesman', 'shameless', 'salesmen', 'grassroot', 'youth', 'afterschool', 'inner', 'inevit', 'volunt', 'firebas', '?\",', 'capston', 'thumb', 'imperfect', 'windi', 'cure', 'cancer', 'broader', 'barkley', 'yard', 'nyg', 'statlin', 'corrobor', 'guarante', 'seldom', 'punish', 'hardest', 'portion', '?.', 'laggi', 'desmondyeoh', 'e09b56fa26bb', 'chest', 'speech', 'impedi', 'stammer', 'enhenc', 'isea', 'hirer', 'sde', 'fivethirtyeight', 'bg', 'lookout', 'virus', 'prestigi', 'needl', 'haystack', 'disast', 'rambl', 'exhibit', 'symptom', 'mlr', 'overnight', 'traine', 'detector', 'breadth', 'catalog', 'traceabl', 'shorter', 'unstack', 'accompani', 'set_index', '()`', '`.', 'esp', '],', '[~', 'cola', 'isin', 'df1', 'colb', 'vlookup', 'indexmatch', '_duplic', 'extraordinari', 'recov', 'strang', 'hone', 'pound', 'palm', 'sweati', 'tunnel', 'babi', 'remuner', 'geographi', 'myriad', 'reinvent', 'reus', 'ceteri', 'paribus', 'legales', 'passport', 'webcam', 'beforehand', 'drawback', '10min', '!),', 'notabl', '_are', '_good', '_career', '_for', '_shitti', '_scientist', 'what_are_good_careers_for_shitty_data_scientist', 'easygo', 'demotiv', 'dismal', 'bitter', 'tast', 'mouth', 'hyperbol', 'backstori', 'revolv', 'retrospect', 'flag', 'hopper', 'nov', 'dec', 'unsuccess', 'feb', 'mar', 'flimsi', 'wtf', '**!', 'mission', 'monet', 'synergi', '90k', '1200', 'bedroom', 'bathroom', 'hardwork', 'stun', 'causat', 'healthi', 'pto', 'amid', 'micro', 'underqualifi', 'disqualifi', 'underpaid', 'infra', 'disillus', 'coronavirus', 'milk', 'honey', 'nevertheless', 'nuanc', 'bcg', 'gamma', 'm7', 'upskil', 'recess', 'euphoria', 'realize', 'tank', 'addict', 'unexpect', 'incognito', 'ttest', 'homogen', 'committe', 'coher', 'keen', 'glare', 'conscienti', 'degrad', '2010', 'bread', 'butter', 'knock', 'pythonista', 'bash', 'awk', 'pe', 'hf', 'critiqu', 'undetect', 'prem', 'usabl', 'workstat', 'silver', 'disaggreg', 'mirror', 'minio', 'dag', 'sharehold', 'satisfi', 'raytheon', 'ula', 'apr', 'runescap', 'neopet', 'scarc', 'uncertain', 'empath', 'alik', 'gun', 'datascienceadmiss']\n",
            "['reimagin', 'pokemon', 'trainer', 'redact', '*,', 'canada', 'walder', 'medici', 'photo', 'hedg', 'speed', 'excruci', 'susten', 'adopt', 'unnot', 'whisper', 'valentin', '😂', '?\"', '\\\\-', 'rogu', 'delight', 'feedback', 'wise', 'colour', 'heavili', 'focous', 'beast', 'intelig', 'tgink', 'undergo', 'hardcor', 'aton', 'cell', 'thasliii', 'sticker', 'umayyad', 'abbasid', 'foreign', 'percept', 'dialog', 'rescu', 'heartwarm', 'fantast', 'cheapest', 'giggl', 'viimorteart', 'adah', 'sharma', 'beginn', 'rendat', '1v1', 'quicker', 'contend', 'load', 'improv', 'sake', 'heck', 'consol', 'prize', 'yell', 'distract', 'nope', 'complic', 'bruis', '@', 'portmat', 'insta', 'throwback', 'sdcc', 'cuz', 'con', 'unsolv', 'young', 'earn', 'someday', 'stab', 'nonetheless', 'pickup', 'jus', 'determin', 'pre', 'tapestri', 'bruno', 'laser', 'coaster', 'microphon', 'hiphop', 'mashup', 'sean', 'bean', 'butt', 'nake', 'cliffhang', 'ptsd', 'everytim', 'incompet', 'director', 'fill', 'void', 'carbon', 'ozark', 'intend', '2018', '2019', 'af', 'bridg', 'babe', '\\\\^\\\\', '\\\\^;', 'lighthead', 'pebbl', 'xrbbj0cvty8', '628', 'hupk2g', 'amori', 'lorch', 'wee', 'bairn', 'swear', 'trend', 'celebr', 'familiar', 'skin', 'joe', 'dempsi', 'hannah', 'murray', 'lekqm4tjnwb51', '800', '05c6ad72fc9ce0579fc4c0fdca3dddf0c32d7cf1', 'ikxxjc1jnwb51', '640', '211d4a905a1f0dafb53f0c0882faaaf1c193a66d', 'ciciti', 'kl', 'twitter', 'discret', '😑)', 's8e1', 'stuck', 'unfaith', 'clich', 'chamber', 'infront', 'statu', 'sob', 'cri', 'underst', 'violent', 'communic', 'quiet', 'nod', 'marriag', 'uncomfort', 'belittl', 'exclud', 'shun', 'cheap', 'tool', 'quarrel', 'upheav', 'pursu', 'grim', 'tribul', 'trap', 'steal', 'interperson', 'repercuss', 'utilitarian', 'sayin', 's4', 'e10', 'catylen', 'brandon', 'hucnbm', 'couldv', 'rage', 'provok', 'ms', 'lans', 'undefend', 'sustain', 'assist', 'lunch', 'exterior', 'concentr', '000', 'precis', 'radiat', 'nuke', 'park', 'indiscrimin', 'intimid', 'salvag', 'invest', 'climax', 'introduct', 'that', 'tone', 'memor', 'settl', 'vi', 'pious', 'stool', 'risk', 'agot', 'machin', 'chill', 'ramin', 'nonsens', 'mistress', 'formal', 'myrcella', 'dubious', 'interven', 'ep10', '*?', 'hypothet', 'deploy', 'isl', 'leaderless', 'pose', 'challeng', 'vector', 'badass', 'nuditi', 'violenc', 'nude', 'ugliest', 'crier', 'htm3ou', 'shelter', 'behav', 'basi', 'resurrect', 'deceas', 'visionari', 'misjudg', 'comfort', 'crate', 'tomb', 'graphic', 'dm', 'exposur', 'diy', 'egg', 'factor', 'loyalti', 'compress', 'elong', 'ht9x3k', 'presid', 'luck', 'drunk', 'brows', 'revisit', 'rescor', 'pair', 'vaporwav', 'roday', 'hype', 'hm', 'hardholm', 'scariest', 'sunk', 'await', 'gawd', 'satisfact', 'rag', 'crimin', 'blend', 'egret', 'brave', 'pip', 'goosebump', 'courag', 'insult', 's1e4', 'marvel', 'gasp', 'banner', 'powerhous', 'embodi', '!?!', 'curs', 'among', 'wallet', 'birthday', 'keeper', 'nightswatch', 'militar', 'rigid', 'appli', 'particip', 'trade', 'ornat', 'multi', 'jewel', 'greek', 'goddess', 'gown', 'requir', 'lighter', 'bulk', 'tyen', 'craster', 'happili', 'r8a1gfxu07b51', '2880', '98821ba7ec50cda7537517727bb7524e7760cb6f', 'hoq2espw07b51', '1920', '72c2a73a2afc6dbc63bd9d1345a67c63c05539c8', 'shini', 'era', 'nomin', 'scar', 'depos', 'underprivileg', 'amass', 'devote', 'thereaft', 'depict', 'fave', 'hs45je', 'apolog', '!...', 'debrief', 'godhood', 'hrzfka', 'drawer', 'joestsar', 'jojo', 'adventur', 'backlash', '’?', 'hrgzd3', 'lyness', 'hightow', 'spark', 's1e5', 's2e7', ':/', 'em', 'trent', 'redmond', '*:', 'contest', '21st', 'vulgar', 'virgin', 'reduct', 'bird', 'reject', 'poignant', 'evok', 'rhaenyra', 'ii', 'stage', 'unrealist', 'injuri', 'unseat', 'grief', 'sexist', \"?',\", 'ariann', 'talla', 'pure', 'spite', 'explicit', 'vent', 'saul', 'sight', 'infiltr', 'twoiaf', 'wherein', 'autumn', 'howl', 'ascent', ',...', '172', 'affc', 'patient', 'groom', 'harrold', 'hardnyng', 'regent', 'sick', 'occurr', 'flew', 'vhagar', 'inner', 'yard', 'alayn', 'waycastl', 'prudent', 'waddl', 'amiright', 'unimpress', 'nonchal', 'climb', 'stair', 'grin', 'hoard', 'differenti', 'depth', 'overr', 'morn', 'rumor', 'fame', 'garvonka', 'gavronka_', 'harrington', 'guest', 'ass', 'flabbergast', 'sag', 'ensembl', 'deborah', 'riley', 'product', 'none', 'imho', 'pit', 'up', 'spoilers_best_fights_in_game_of_thrones_fin', 'vanquish', 'societi', 'avoid', 'closest', 'immin', 'doorstep', 'wreak', 'havoc', '--', 'lesson', 'spoilers_best_fights_in_game_of_thrones_bonus', 'untru', 'comprehens', 'breaker', 'misplac', 'social', 'tact', 'unfit', 'secreci', 'hung', 'unneed', 'anger', 'excus', 'betroth', 'liar', 'folli', 'target', 'activ', 'likelihood', 'will', 'how', 'obsess', 'expens', 'lucif', 'gruff', 'complect', 'ruin', 'pls', 'essay', 'deceiv', 'leather', 'amazon', 'aeron', 'prais', 'pound', 'unpack', 'excel', 'aria', 'baddest', 'asha', 'inhal', 'boundari', 'subjug', 'econom', 'ireland', 'ellari3l_cosplay', 'dismiss', 'brief', 'alaskan', 'groundwork', 'crazier', 'brethren', 'senseless', 'affili', 'inde', 'beg', 'illusori', 'necklac', 'hue', 'shell', 'heroic', 'bath', 'allud', 'crustac', 'crusad', 'destin', 'freedom', 'fragil', 'annihil', 'speci', 'exhaust', 'persecut', 'galleri', '4ayhwnk', 'pandem', 'approach', 'priorit', 'former', 'acut', 'awar', 'financi', 'difficulti', 'valuabl', 'readili', 'dormant', 'generic', 'resolut', 'chase', 'intermitt', 'reestablish', 'region', 'struggl', 'alot', 'hpxtcn', 'survivor', 'myraham', 'seaguard', 'captain', 'peppercrab', 'stew', 'thin', 'catch', 'contrapt', 'insid', 'loos', 'cur', 'merg', 'interact', 'farther', 'feaster', 'strewn', 'overturn', 'chair', 'hack', 'trestl', 'asprawl', 'pool', 'congeal', 'limb', 'sever', 'clutch', 'spoon', 'roast', 'fowl', 'leg', 'lamb', 'scepter', 'mute', 'appeal', '48', 'sss', 'direwolv', 'manc', 'rayder', 'jano', 'slynt', 'pycell', 'sit', 'persuas', 'charismat', 'lpqrz974v4k', 'kracken', 'federico', 'musetti', 'roght', 'threw', 'symptom', 'coronavirus', 'ant', 'improvis', 'fraud', 'legaci', 'retrospect', 'simpl', 'bed', 'decre', 'invalid', '1er', 'mans', 'raider', 'ling', 'border', 'mexico', '–', 'waterfal', 'skylarkl', 'dragonback', 'unburn', 'throw', 'subvers', 'anti', 'furthermor', 'span', 'defianc', 'duskendal', 'predomin', 'sucker', 'learnt', 'newbi', 'hpadmp', '\\\\[', '\\\\]', 'wen', 'bc', 'unleash', 'choreographi', 'lotr', 'comparison', '0pn8dv43b6a51', 'a4f70d4f6c27511b14171ca2a0a9be029d617336', 'devil', 'angel', 'wive', 'manni', 'artur', 'tarnowski', 'sahin', 'duezguen', 'pwc', '8qqp', 'qi', 'delet', 'expert', 'unskil', 'misunderstand', 'lore', 'sidetrack', 'hllor', 'unpredict', 'center', 'spiral', 'downvot', 'doom', 'fourteen', 'erupt', 'volcano', 'drift', 'orbit', 'belt', 'cluster', 'comet', 'tangl', 'myrish', 'lyseni', 'telll', 'shadow', 'ala', 'journeyman', 'pen', 'valar', 'morghuli', 'ig', 'establish', 'unfair', 'fot', '😍😍', 'bod', 'az4jn4', 'bother', 'direwolf', 'quicki', 'piano', 'cor', 'velaryon', 'fabl', 'tide', 'dracari', 'devan', 'halfway', 'detest', 'allegi', 'constant', 'strength', 'targaryan', 'defin', 'unselfish', 'outcast', 'sheep', 'mistreat', 'bitter', 'arrog', 'via', 'tortur', 'captiv', 'fantasi', 'dandi', 'charm', 'realiti', 'wit', 'passion', 'sexual', 'ardor', '…', 'inhuman', 'passtim', 'crosslett', '39', 'ixb68en', 'tough', 'howuch', 's04e02', 'tirion', 'helper', '(?)', 'lightsab', 'seed', 'item', 'branim', '👁️🐺🦅', 'ho0974', 'collector', 'gsv9m2q2sv951', '600', '07f550c43c6c3894e32e3b972c4de1061f41d17f', 'aluas7q2sv951', '402', 'c49893a9d3117b67c104aa1496118306d6245d1f', 'xf', '_8tkjilmc', 'word', 'lessen', 'empow', 'appoint', 'shatter', 'repair', 'lesser', 'collater', 'righteous', 'implement', 'presenc', 'vacil', 'televison', 'briann', 'tarth', 'reni', '?,', 'punish', 'asset', 'bind', 'there', 'emissari', 'devic', 'romanc', 'permit', 'parrot', '7x03', 'sovereignti', '?????', 'patern', 'grenad', 'chew', 'toy', 'olymp', 'muscl', '_5', 'spoilers_best_fights_in_game_of_thrones_part_5', 'hnopxi', 'mdf', 'starnado', 'creation', 'fb', 'modifi', '_4', 'spoilers_best_fights_in_game_of_thrones_part_4', 'steadi', 'progress', 'nymeria', 'penanc', 'upvot', 'out', 'ate', 'fat', 'havnt', 'pack', 'enlighten', 'hnn9q5', '_3', 'spoilers_best_fights_in_game_of_thrones_part_3', 'mug', '“..', 'frodo', 'congrat', 'brien', 'floor', 'trunk', 'supper', 'trick', 'daddi', 'april', 'fool', 'unbear', 'clean', 'ffs', 'offici', 'yay', '_vv88e', 'out_vv88', 'devot', 'targareyn', 'danni', 'regardless', 'secess', '_1', 'spoilers_best_fights_in_game_of_thrones_part_1', 'brick', '\"*', '*\"', 'arrow', '_2', 'spoilers_best_fights_in_game_of_thrones_part_2', '”?', 'recal', 'covid', 'aemon', 'glimps', 'hindsight', '😭', '10x', 'prologu', 'ladder', 'ros', 'shae', 'cinemat', 'episdo', 'boat', 'simultan', 'catastroph', '1914', 'audibl', 'incid', 'escal', 'reform', 'figurehead', 'till', '1945', 'lockdown', 'sour', 'consist', 'wors', 'ep', 'cringey', 'memoir', 'cercei', 'wyman', 'mander', 'burbrey', 'dustin', 'defect', 'skago', 'belief', 'amdist', 'tear', 'amidst', 'temper', 'reborn', 'raegar', 'reenforc', 'exercis', 'showrunn', 'profession', 'botch', 'fix', 'haul', 'unknow', 'ancient', 'underneath', 'mammoth', '999th', 'eddison', 'tollett', 'stroll', 'signifi', 'dolor', 'edd', 'entourag', 'seig', 'character', 'odd', 'randal', 'dickon', 'bay', 'overhead', 'starv', 'incit', 'upris', 'dissimilar', 'yunkai', 'garrison', 'hearth', 'karhold', 'deepwood', 'mott', 'dreadfort', 'newli', 'ancestr', 'overrun', 'banter', 'dragonpit', 'arrang', 'angl', 'dedic', 'builder', 'prison', 'commenc', 'waysid', 'fatal', 'nowher', 'lung', 'dragonglass', 'burst', 'relief', 'calvari', 'helm', 'scorn', 'decim', 'turncoat', 'harbor', 'subplot', 'flirt', 'foundat', 'howland', 'greywat', 'jojen', 'terror', 'brotherhood', 'bear', 'disillus', 'heal', 'stood', 'fruition', 'excis', 'peac', 'task', 'rebuild', 'spearhead', 'cue', 'torn', 'compel', 'ralli', 'roar', 'concern', 'telephon', 'unbeat', 'motley', 'crew', 'torch', 'sneak', 'corner', 'nexus', 'liber', 'scorpion', 'swath', 'cleganebowl', 'advertis', 'manic', 'wildfyr', 'choke', 'crush', 'bloodbath', 'daze', 'stumbl', 'survey', 'devast', 'revel', 'victori', 'tyrant', 'news', 'spread', 'reward', 'sewer', 'drainag', 'reclaim', 'kiss', 'mattho', 'americo', 'instant', 'virtual', 'intern', 'hmakvn', 'incest', '59', 'incestu', 'underemphasis', 'compass', 'rail', 'reopen', 'blown', 'wound', 'partner', 'citizen', 'argh', 'noooo', 'slight', 'shouldv', 'rode', 'merci', 'pointless', '7x5', 'eastwatch', 'leftov', 'deplet', 'increas', 'despair', 'ongo', 'accident', 'setoff', 'hllu6l', 'dramat', 'hour', 'popcorn', 'archiv', 'vfx', 'depart', '(“', '”)', 'concept', 'explos', 'storyboard', 'alleg', 'green', 'fascin', 'infuri', 'rendit', 'troc', 'e1', 'plex', 'librari', 'area', '(\"...', '...\"', '.\")', 'disrepair', 'entranc', 'overjoy', 'purchas', 'magali', 'villanueva', 'insan', 'harsh', 'met', 'nation', 'fender', 'elenastrip', 'taiwanes', 'eng', 'yn8gqt7xux', 'rumour', 's8e3', 'acryl', 'van', 'critic', 'teleport', 'guid', 'indic', 'capit', 'narrow', 'elena', 'muciano', 'ultra', 's04e09', 'stake', 's03e09', 's06e09', 'basterd', 'visual', 'stun', 'rant', 'dirti', 'june', '’’', 'cring', 'rewrot', 'videogam', 'drew', 'inact', 'subreddit', 'subscrib', 'saga', 'clue', 'screw', 'dare', 'oo811yikpo851', '1524', '50d8ba43bce1b7ae2e178ff11426cc910cff53fc', 'heh', 'ww', 'queenslay', 'silli', 'bork', 'sweet', 'wouldnt', 'kat', 'leanna', 'fourth', 'childbirth', 'stafford', 'joanna', 'session', 'dear', 'assign', 'tessa', 'dutch', 'student', 'creativ', 'subject', 'participatori', 'analys', 'exit', 'dive', 'project', 'research', 'encount', 'distributor', 'gender', '*(', ')*', 'meaning', 'generat', 'text', 'platform', 'professionalis', 'perceiv', 'welcom', '!**', 'nouveau', '...”', 's8e4', 'funer', 'unreal', 'immens', 'remark', 'compos', 'dragoon', 'mahqueen', 'hostag', '__greyjoy', 'rebellion__', 'includign', '^', 'behest', '__theon', 'greyjoy__', 'ward', '__eddard', 'stark__', '__theon__', '__hostage__', 'joker', 'stabl', '180', 'monroeidiot', 'torrhen', 'knelt', 'submit', 'dion', 'skip', 'orchestr', 'peter', 'restor', 'illyrio', 'mopati', 'polar', 'admir', 'narcissist', 'relev', 'river', 'loan', 'akin', 'hire', 'mercenari', 'neither', 'reluct', 'flock', 'favour', 'involv', 'therefor', 'lysa', 'valemen', 'suit', 'mutual', 'friendship', 'exploit', 'possess', 'westerosi', 'chines', 'becan', 'vlose', 'dissapoint', 'recogn', 'inferior', 'servant', 'staff', 'cocktail', 'stain', 'idc', 'boss', 'passiv', 'food', 'suppli', 'unnecessari', 'nut', \"',\", 'bloodsh', '8a', 'larg', 'ferri', 'vulner', 'targ', 'blindsid', 'defenc', 'hastier', 'antic', '8b', 'faction', 'scenario', 'advoc', 'compromis', 'characr', 'tho', 'harder', 'fast', 'geoffrey', 'duolingo', 'teach', 'hjdycq', 'hjla7z', 'twice', 'granduer', 'colonist', 'oldstown', 'genet', 'andal', 'dinosaur', 'graviti', 'feed', 'european', 'asian', '500', 'famin', 'technolog', 'grew', 'plant', 'planter', 'commiss', 'section', '?👑', 'reunion', 'dotharaki', 'darrio', 'down', 'alongsid', 'braveri', 'neglect', 'trident', 'pyke', 'crippl', 'wierdo', 'height', 'circlejerk', 'recreat', 'zoo', 'ensur', 'illus', 'histor', 'holi', 'roman', 'austrian', 'lorrain', 'indefinit', 'maria', 'theresa', '400', 'streak', 'husband', 'fad', 'romdhani', 'myr', 'supernatur', 'sign', 'chalk', 'unreli', 'mushroom', 'captor', 'outright', 'shaken', 'theoret', 'mrycella', 'outliv', 'dissappoint', 'childeren', 'afraid', 'glad', 'begun', 'blog', '2021', '(\\U0001f97a),', 'ebook', 'vital', 'roll', '9th', 'whoever', 'algo', 'ex', 'ellabor', 'phase', 'shelf', 'raleigh', 'ritchi', 'singer', 'titel', 'damnit', ':(', 'girlfriend', 'fiction', 'wierwood', 'dunkirk', 'smarter', 'sincer', 'proper', 'blade', 'treatment', 'review', 'exclus', 'hia621', 'descend', 'unless', 'watchmen', 'sleeper', 'proclaim', 'cloak', 'tribut', 'updat', 'accuraci', 'famous', 'pant', 'clout', 'repost', 'acc', 'becuas', 'johnni', 'airport', 'disgrac', 'strand', 'mutini', 'replica', 'jaimi', '???', 'budget', 'bond', 'ghar', 'goodby', 'braavo', 'acquir', 'local', 'chella', 'cheyk', 'fifti', 'forti', 'portray', 'natali', 'lee', 'footbal', 'craze', 'premier', 'leagu', 'ssooooonnn', '\"\\'', 'kinder', 'joy', 'everyday', 'shitshow', 'complex', 'googl', 'mood', 'osha', 'timelaps', 'jaw', 'e4xsykf7fn751', '1280', '27c14398d98622ee7013c392dafe90e82ae661ec', 'stitch', 'arantza', 'sestayo', 'acknowledg', 'rheagar', 's7e2', 'olena', 'greyworm', 'peni', 'shay', '72', 'hh29wz', 'categor', 'brutish', 'over', 'ruthless', 'tire', 'oppon', 'arm', 'uninjur', 'solder', 'hammer', 'cave', 'chest', 'frequent', 'carnal', 'sire', 'plethora', 'barbar', 'paladin', 'ethic', 'stray', 'grave', 'tactician', 'swordsman', 'sunspear', 'experienc', 'strateg', 'warrant', 'devis', 'retain', 'vast', 'outsmart', 'guerrilla', '27', 'overview', '6th', '7th', 'concurr', 'split', 'equat', '700', 'surpass', '1500', '23', 'ebay', 'analog', 'lanist', 'portfolio', 'makeup', 'joey', '!!!', 'consentr', 'averag', 'descent', 'brann', 'underwhelm', 'spinoff', 'qarth', 'selsnt', 'babi', 'record', 'ludvig', 'neighbour', 'dog', 'iorek', 'solo', 'acoust', 'propaganda', 'boot', 'flea', 'market', 'caption', 'sleev', 'printer', 'unclear', 'promot', '.](', '1f8j5x0ir8751', '9427f9598ab2a1c2a3e95a932da07d695f24d0bf', 'subtitl', 'h5tw6y0ir8751', '2760a95782d83497f429ffbbe9c4e0119559a653', 'logo', 'kynl5x0ir8751', 'c237237cf699c2c9bbd08edf3ff9dcacc2286162', 'decor', 'funko', 'custom', 'repaint', 'costum', 'itun', 'discount', 'veep', 'appleosophi', 'evolv', 'mediev', 'edg', 'portrrait', 'walkthrough', 'render', 'badasseri', 'hfse74', 'aaand', 'count', 'expir', 'pleasur', 'despic', 'whichev', '_65', 'spoilers_best_battles_in_game_of_thrones_65_bonus', '73', 'crescendo', 'baelor', 'amplifi', 'tension', 'bright', 'weak', 'breathtak', 'letter', 'grown', 'sing', 'jenni', 'montag', 'rose', 'egregi', 'parlay', 'expedit', 'entertain', 'bonker', 'beef', 'unbow', 'unbent', 'unbroken', 'inexcus', 'laughabl', 'dishonor', 'harpi', 'cute', 'spree', 'thag', 'misinterpret', 'boom', 'tooth', '\",', 'smash', 'buddi', 'poetic', 'fals', 'admit', 'disapoint', '_55', 'spoilers_best_battles_in_game_of_thrones_55_fin', 'rr', 'report', 'adara', 'torrenti', 'flood', 'freez', 'temperatur', 'starvat', 'breakup', 'correspond', 'sheet', 'wipe', 'coastal', 'reset', 'recov', 'schoch', 'coron', 'mass', 'eject', 'ravag', 'magnetospher', 'freak', 'hurrican', 'thunderstorm', 'scientist', 'ought', 'personifi', 'extent', 'grammer', 'grant', 'topograph', 'tl', 'dr', 'file', 'cnc', 'werent', 'integr', 'import', 'reput', 'franchiz', 'sulli', 'chequ', 'alert', 'ect', 'zanza', 'whose', 'road', '2004', 'jog', 'longer', 'stream', 'reccomend', 'peool', 'david', 'grow', 'anymor', 'contract', 'lommi', 'smartest', 'motherfuck', 'assur', 'necessari', 'combin', 'jesus', 'necrot', 'conjectur', 'twow', 'savior', 'stuf', 'ign', '.....', 'nuff', 'doltric', 'dotric', 'redo', 'narratori']\n"
          ],
          "name": "stdout"
        }
      ]
    },
    {
      "cell_type": "code",
      "metadata": {
        "id": "ollMFG_sEOr8",
        "colab_type": "code",
        "colab": {
          "base_uri": "https://localhost:8080/",
          "height": 72
        },
        "outputId": "23fb92b3-1d49-43fc-ca1f-3d36434b3bdd"
      },
      "source": [
        "print(wordfreqs_cat1.most_common(20))\n",
        "print(wordfreqs_cat2.most_common(20))"
      ],
      "execution_count": null,
      "outputs": [
        {
          "output_type": "stream",
          "text": [
            "[('data', 1483), ('work', 608), ('use', 560), ('scienc', 483), ('like', 420), ('\"', 391), ('model', 362), ('would', 354), ('get', 335), ('learn', 332), ('time', 309), ('job', 286), ('compani', 279), ('project', 253), ('know', 249), ('scientist', 242), ('want', 234), ('question', 221), ('one', 215), ('need', 208)]\n",
            "[('spoiler', 573), ('season', 262), ('show', 184), ('throne', 170), ('king', 166), ('would', 164), ('jon', 162), ('game', 144), ('like', 137), ('one', 132), ('think', 128), ('watch', 125), ('got', 121), ('book', 120), ('poll', 119), ('time', 104), ('end', 102), ('episod', 96), ('charact', 91), ('battl', 90)]\n"
          ],
          "name": "stdout"
        }
      ]
    },
    {
      "cell_type": "code",
      "metadata": {
        "id": "zZhtoL_KEndw",
        "colab_type": "code",
        "colab": {}
      },
      "source": [
        "holdout_len = 100\n",
        "\n",
        "labeled_data1 = [(word, 'datascience') for word in data['datascience']['word_matrix'][holdout_len:]]\n",
        "labeled_data2 = [(word, 'gameofthrones') for word in data['gameofthrones']['word_matrix'][holdout_len:]]\n",
        "\n",
        "labeled_data = [*labeled_data1, *labeled_data2]"
      ],
      "execution_count": null,
      "outputs": []
    },
    {
      "cell_type": "code",
      "metadata": {
        "id": "1DScHfuPGq0b",
        "colab_type": "code",
        "colab": {}
      },
      "source": [
        "holdout_data1 = [(word, 'datascience') for word in data['datascience']['word_matrix'][:holdout_len]]\n",
        "holdout_data2 = [(word, 'gameofthrones') for word in data['gameofthrones']['word_matrix'][:holdout_len]]\n",
        "\n",
        "holdout_data = [*holdout_data1, *holdout_data2]\n",
        "holdout_data_labels = ([('datascience') for _ in range (holdout_len)] + [('gameofthrones') for _ in range (holdout_len)])"
      ],
      "execution_count": null,
      "outputs": []
    },
    {
      "cell_type": "code",
      "metadata": {
        "id": "xPc-OaBKHM4q",
        "colab_type": "code",
        "colab": {}
      },
      "source": [
        "data['datascience']['all_words_dedup'] = list(OrderedDict.fromkeys(data['datascience']['all_words']))\n",
        "data['gameofthrones']['all_words_dedup'] = list(OrderedDict.fromkeys(data['gameofthrones']['all_words']))"
      ],
      "execution_count": null,
      "outputs": []
    },
    {
      "cell_type": "code",
      "metadata": {
        "id": "83MHA64cK9uf",
        "colab_type": "code",
        "colab": {}
      },
      "source": [
        "all_words = [*data['datascience']['all_words_dedup'], *data['gameofthrones']['all_words_dedup']]\n",
        "all_words_dedup = list(OrderedDict.fromkeys(all_words))"
      ],
      "execution_count": null,
      "outputs": []
    },
    {
      "cell_type": "code",
      "metadata": {
        "id": "Qjtu1np8L7TR",
        "colab_type": "code",
        "colab": {}
      },
      "source": [
        "prepared_data = [({word: (word in x[0]) for word in all_words_dedup}, x[1]) for x in labeled_data]\n",
        "prepared_holdout_data = [({word: (word in x[0]) for word in all_words_dedup}, x[1]) for x in holdout_data]"
      ],
      "execution_count": null,
      "outputs": []
    },
    {
      "cell_type": "code",
      "metadata": {
        "id": "tnR9DYR3UUb9",
        "colab_type": "code",
        "colab": {}
      },
      "source": [
        "# prepared_data"
      ],
      "execution_count": 71,
      "outputs": []
    },
    {
      "cell_type": "code",
      "metadata": {
        "id": "zm4S8bFThneG",
        "colab_type": "code",
        "colab": {}
      },
      "source": [
        "random.shuffle(prepared_data)\n",
        "train_size = int(len(prepared_data) * 0.75)\n",
        "train = prepared_data[:train_size]\n",
        "test = prepared_data[train_size:]"
      ],
      "execution_count": null,
      "outputs": []
    },
    {
      "cell_type": "code",
      "metadata": {
        "id": "gojbBRV0hVAC",
        "colab_type": "code",
        "colab": {
          "base_uri": "https://localhost:8080/",
          "height": 34
        },
        "outputId": "0e5a9d2a-859f-482e-a335-2042f19c2754"
      },
      "source": [
        "classifier  = nltk.NaiveBayesClassifier.train(train)\n",
        "nltk.classify.accuracy(classifier, test)"
      ],
      "execution_count": null,
      "outputs": [
        {
          "output_type": "execute_result",
          "data": {
            "text/plain": [
              "0.9512195121951219"
            ]
          },
          "metadata": {
            "tags": []
          },
          "execution_count": 61
        }
      ]
    },
    {
      "cell_type": "code",
      "metadata": {
        "id": "-5hrsL5gizKQ",
        "colab_type": "code",
        "colab": {}
      },
      "source": [
        "# prepared_holdout_data[:3]"
      ],
      "execution_count": 72,
      "outputs": []
    },
    {
      "cell_type": "code",
      "metadata": {
        "id": "e6EUgBaliEyA",
        "colab_type": "code",
        "colab": {
          "base_uri": "https://localhost:8080/",
          "height": 347
        },
        "outputId": "4b006e1f-1907-49b9-ad58-5aa3c12df5d0"
      },
      "source": [
        "classified_data = [classifier.classify(holdout_data[0]) for holdout_data in prepared_holdout_data]\n",
        "cm = nltk.ConfusionMatrix(holdout_data_labels, classified_data)\n",
        "print(cm)"
      ],
      "execution_count": null,
      "outputs": [
        {
          "output_type": "stream",
          "text": [
            "              |       g |\n",
            "              |       a |\n",
            "              |   d   m |\n",
            "              |   a   e |\n",
            "              |   t   o |\n",
            "              |   a   f |\n",
            "              |   s   t |\n",
            "              |   c   h |\n",
            "              |   i   r |\n",
            "              |   e   o |\n",
            "              |   n   n |\n",
            "              |   c   e |\n",
            "              |   e   s |\n",
            "--------------+---------+\n",
            "  datascience | <92>  8 |\n",
            "gameofthrones |   .<100>|\n",
            "--------------+---------+\n",
            "(row = reference; col = test)\n",
            "\n"
          ],
          "name": "stdout"
        }
      ]
    },
    {
      "cell_type": "code",
      "metadata": {
        "id": "tjsUUNIas6CL",
        "colab_type": "code",
        "colab": {
          "base_uri": "https://localhost:8080/",
          "height": 399
        },
        "outputId": "439a3e29-cdaf-4e36-a834-cceb3e1f9ac8"
      },
      "source": [
        "print(classifier.show_most_informative_features(20))"
      ],
      "execution_count": null,
      "outputs": [
        {
          "output_type": "stream",
          "text": [
            "Most Informative Features\n",
            "               scientist = True           datasc : gameof =     57.1 : 1.0\n",
            "                 project = True           datasc : gameof =     49.3 : 1.0\n",
            "                   learn = True           datasc : gameof =     41.3 : 1.0\n",
            "                  season = True           gameof : datasc =     33.2 : 1.0\n",
            "                     job = True           datasc : gameof =     30.6 : 1.0\n",
            "                   field = True           datasc : gameof =     25.9 : 1.0\n",
            "                 compani = True           datasc : gameof =     25.6 : 1.0\n",
            "                  experi = True           datasc : gameof =     24.6 : 1.0\n",
            "                 process = True           datasc : gameof =     24.3 : 1.0\n",
            "                 product = True           datasc : gameof =     24.3 : 1.0\n",
            "                   appli = True           datasc : gameof =     23.1 : 1.0\n",
            "                   skill = True           datasc : gameof =     22.6 : 1.0\n",
            "                    role = True           datasc : gameof =     22.0 : 1.0\n",
            "                    kill = True           gameof : datasc =     21.9 : 1.0\n",
            "                 resourc = True           datasc : gameof =     20.3 : 1.0\n",
            "                    base = True           datasc : gameof =     20.3 : 1.0\n",
            "               recommend = True           datasc : gameof =     19.8 : 1.0\n",
            "                    type = True           datasc : gameof =     19.2 : 1.0\n",
            "                 appreci = True           datasc : gameof =     18.1 : 1.0\n",
            "                   posit = True           datasc : gameof =     18.1 : 1.0\n",
            "None\n"
          ],
          "name": "stdout"
        }
      ]
    },
    {
      "cell_type": "code",
      "metadata": {
        "id": "eKWdUxVf0jqL",
        "colab_type": "code",
        "colab": {
          "base_uri": "https://localhost:8080/",
          "height": 34
        },
        "outputId": "891772af-dc9b-42cb-b543-76d3090d52d8"
      },
      "source": [
        "classifier2  = nltk.DecisionTreeClassifier.train(train)\n",
        "nltk.classify.accuracy(classifier2, test)"
      ],
      "execution_count": null,
      "outputs": [
        {
          "output_type": "execute_result",
          "data": {
            "text/plain": [
              "1.0"
            ]
          },
          "metadata": {
            "tags": []
          },
          "execution_count": 68
        }
      ]
    },
    {
      "cell_type": "code",
      "metadata": {
        "id": "QGM2DuYf0smW",
        "colab_type": "code",
        "colab": {
          "base_uri": "https://localhost:8080/",
          "height": 347
        },
        "outputId": "b33ce1b8-45a4-4d35-df6f-201f32d28fa0"
      },
      "source": [
        "classified_data2 = [classifier2.classify(holdout_data[0]) for holdout_data in prepared_holdout_data]\n",
        "cm2 = nltk.ConfusionMatrix(holdout_data_labels, classified_data2)\n",
        "print(cm2)"
      ],
      "execution_count": null,
      "outputs": [
        {
          "output_type": "stream",
          "text": [
            "              |       g |\n",
            "              |       a |\n",
            "              |   d   m |\n",
            "              |   a   e |\n",
            "              |   t   o |\n",
            "              |   a   f |\n",
            "              |   s   t |\n",
            "              |   c   h |\n",
            "              |   i   r |\n",
            "              |   e   o |\n",
            "              |   n   n |\n",
            "              |   c   e |\n",
            "              |   e   s |\n",
            "--------------+---------+\n",
            "  datascience |<100>  . |\n",
            "gameofthrones |   1 <99>|\n",
            "--------------+---------+\n",
            "(row = reference; col = test)\n",
            "\n"
          ],
          "name": "stdout"
        }
      ]
    },
    {
      "cell_type": "code",
      "metadata": {
        "id": "POq1Gllo1K0D",
        "colab_type": "code",
        "colab": {
          "base_uri": "https://localhost:8080/",
          "height": 69
        },
        "outputId": "ceac73b9-8f32-4af9-f750-a5a2c23ccb22"
      },
      "source": [
        "print(classifier2.pseudocode(depth=4))"
      ],
      "execution_count": null,
      "outputs": [
        {
          "output_type": "stream",
          "text": [
            "if spoiler == False: return 'datascience'\n",
            "if spoiler == True: return 'gameofthrones'\n",
            "\n"
          ],
          "name": "stdout"
        }
      ]
    }
  ]
}